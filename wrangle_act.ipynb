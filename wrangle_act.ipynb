{
 "cells": [
  {
   "cell_type": "markdown",
   "metadata": {},
   "source": [
    "## Wrangle and analyze tweets from WeRateDogs Twitter account (@dog_rates)\n",
    "\n",
    "\n",
    "\n",
    "## Table of Contents\n",
    "- [Introduction](#intro)\n",
    "- [Gather](#gather)\n",
    "- [Acessing](#acessing)\n",
    "- [Cleaning](#cleaning)\n",
    "- [Coding and testing](#coding)\n",
    "- [Storing](#storing)\n",
    "- [Anayze and Visualize](#analizing)\n"
   ]
  },
  {
   "cell_type": "markdown",
   "metadata": {},
   "source": [
    "<a id='intro'></a>\n",
    "### Introduction\n",
    "\n",
    "In this project our main goal is to obtain and analyze the data from the WeRateDogs twitter (@dog_rates). The process of obtaining the data is known as Gather in data science. In these processes we obtained the data provided by Udacity in many formats and some data from twitter's API. Then we acess the data to know how data is, if it is messy, if it has errors and we categorize the types of errors and messys briefly. The next step is is known as clean, where we use python and its libraries to clean and organize this data."
   ]
  },
  {
   "cell_type": "markdown",
   "metadata": {},
   "source": [
    "<a id='gather'></a>\n",
    "#### Gather\n",
    "\n",
    "To get started, let's import our libraries."
   ]
  },
  {
   "cell_type": "code",
   "execution_count": 1,
   "metadata": {},
   "outputs": [],
   "source": [
    "#load our librarys\n",
    "import pandas as pd\n",
    "import matplotlib.pyplot as plt\n",
    "import numpy as np\n",
    "from functools import reduce\n",
    "import seaborn as sns\n",
    "import requests\n",
    "from matplotlib import pylab\n",
    "from numpy import arange,array,ones\n",
    "from scipy import stats\n",
    "import statsmodels.api as sms\n",
    "import os\n",
    "import tweepy\n",
    "import json\n",
    "import time\n",
    "import re\n",
    "%matplotlib inline"
   ]
  },
  {
   "cell_type": "markdown",
   "metadata": {},
   "source": [
    "let's import the first dataset that was provide to us, the 'twitter-archive-enhanced.csv'"
   ]
  },
  {
   "cell_type": "code",
   "execution_count": 2,
   "metadata": {
    "scrolled": true
   },
   "outputs": [
    {
     "data": {
      "text/html": [
       "<div>\n",
       "<style scoped>\n",
       "    .dataframe tbody tr th:only-of-type {\n",
       "        vertical-align: middle;\n",
       "    }\n",
       "\n",
       "    .dataframe tbody tr th {\n",
       "        vertical-align: top;\n",
       "    }\n",
       "\n",
       "    .dataframe thead th {\n",
       "        text-align: right;\n",
       "    }\n",
       "</style>\n",
       "<table border=\"1\" class=\"dataframe\">\n",
       "  <thead>\n",
       "    <tr style=\"text-align: right;\">\n",
       "      <th></th>\n",
       "      <th>tweet_id</th>\n",
       "      <th>in_reply_to_status_id</th>\n",
       "      <th>in_reply_to_user_id</th>\n",
       "      <th>timestamp</th>\n",
       "      <th>source</th>\n",
       "      <th>text</th>\n",
       "      <th>retweeted_status_id</th>\n",
       "      <th>retweeted_status_user_id</th>\n",
       "      <th>retweeted_status_timestamp</th>\n",
       "      <th>expanded_urls</th>\n",
       "      <th>rating_numerator</th>\n",
       "      <th>rating_denominator</th>\n",
       "      <th>name</th>\n",
       "      <th>doggo</th>\n",
       "      <th>floofer</th>\n",
       "      <th>pupper</th>\n",
       "      <th>puppo</th>\n",
       "    </tr>\n",
       "  </thead>\n",
       "  <tbody>\n",
       "    <tr>\n",
       "      <th>0</th>\n",
       "      <td>892420643555336193</td>\n",
       "      <td>NaN</td>\n",
       "      <td>NaN</td>\n",
       "      <td>2017-08-01 16:23:56 +0000</td>\n",
       "      <td>&lt;a href=\"http://twitter.com/download/iphone\" r...</td>\n",
       "      <td>This is Phineas. He's a mystical boy. Only eve...</td>\n",
       "      <td>NaN</td>\n",
       "      <td>NaN</td>\n",
       "      <td>NaN</td>\n",
       "      <td>https://twitter.com/dog_rates/status/892420643...</td>\n",
       "      <td>13</td>\n",
       "      <td>10</td>\n",
       "      <td>Phineas</td>\n",
       "      <td>None</td>\n",
       "      <td>None</td>\n",
       "      <td>None</td>\n",
       "      <td>None</td>\n",
       "    </tr>\n",
       "    <tr>\n",
       "      <th>1</th>\n",
       "      <td>892177421306343426</td>\n",
       "      <td>NaN</td>\n",
       "      <td>NaN</td>\n",
       "      <td>2017-08-01 00:17:27 +0000</td>\n",
       "      <td>&lt;a href=\"http://twitter.com/download/iphone\" r...</td>\n",
       "      <td>This is Tilly. She's just checking pup on you....</td>\n",
       "      <td>NaN</td>\n",
       "      <td>NaN</td>\n",
       "      <td>NaN</td>\n",
       "      <td>https://twitter.com/dog_rates/status/892177421...</td>\n",
       "      <td>13</td>\n",
       "      <td>10</td>\n",
       "      <td>Tilly</td>\n",
       "      <td>None</td>\n",
       "      <td>None</td>\n",
       "      <td>None</td>\n",
       "      <td>None</td>\n",
       "    </tr>\n",
       "    <tr>\n",
       "      <th>2</th>\n",
       "      <td>891815181378084864</td>\n",
       "      <td>NaN</td>\n",
       "      <td>NaN</td>\n",
       "      <td>2017-07-31 00:18:03 +0000</td>\n",
       "      <td>&lt;a href=\"http://twitter.com/download/iphone\" r...</td>\n",
       "      <td>This is Archie. He is a rare Norwegian Pouncin...</td>\n",
       "      <td>NaN</td>\n",
       "      <td>NaN</td>\n",
       "      <td>NaN</td>\n",
       "      <td>https://twitter.com/dog_rates/status/891815181...</td>\n",
       "      <td>12</td>\n",
       "      <td>10</td>\n",
       "      <td>Archie</td>\n",
       "      <td>None</td>\n",
       "      <td>None</td>\n",
       "      <td>None</td>\n",
       "      <td>None</td>\n",
       "    </tr>\n",
       "    <tr>\n",
       "      <th>3</th>\n",
       "      <td>891689557279858688</td>\n",
       "      <td>NaN</td>\n",
       "      <td>NaN</td>\n",
       "      <td>2017-07-30 15:58:51 +0000</td>\n",
       "      <td>&lt;a href=\"http://twitter.com/download/iphone\" r...</td>\n",
       "      <td>This is Darla. She commenced a snooze mid meal...</td>\n",
       "      <td>NaN</td>\n",
       "      <td>NaN</td>\n",
       "      <td>NaN</td>\n",
       "      <td>https://twitter.com/dog_rates/status/891689557...</td>\n",
       "      <td>13</td>\n",
       "      <td>10</td>\n",
       "      <td>Darla</td>\n",
       "      <td>None</td>\n",
       "      <td>None</td>\n",
       "      <td>None</td>\n",
       "      <td>None</td>\n",
       "    </tr>\n",
       "    <tr>\n",
       "      <th>4</th>\n",
       "      <td>891327558926688256</td>\n",
       "      <td>NaN</td>\n",
       "      <td>NaN</td>\n",
       "      <td>2017-07-29 16:00:24 +0000</td>\n",
       "      <td>&lt;a href=\"http://twitter.com/download/iphone\" r...</td>\n",
       "      <td>This is Franklin. He would like you to stop ca...</td>\n",
       "      <td>NaN</td>\n",
       "      <td>NaN</td>\n",
       "      <td>NaN</td>\n",
       "      <td>https://twitter.com/dog_rates/status/891327558...</td>\n",
       "      <td>12</td>\n",
       "      <td>10</td>\n",
       "      <td>Franklin</td>\n",
       "      <td>None</td>\n",
       "      <td>None</td>\n",
       "      <td>None</td>\n",
       "      <td>None</td>\n",
       "    </tr>\n",
       "  </tbody>\n",
       "</table>\n",
       "</div>"
      ],
      "text/plain": [
       "             tweet_id  in_reply_to_status_id  in_reply_to_user_id  \\\n",
       "0  892420643555336193                    NaN                  NaN   \n",
       "1  892177421306343426                    NaN                  NaN   \n",
       "2  891815181378084864                    NaN                  NaN   \n",
       "3  891689557279858688                    NaN                  NaN   \n",
       "4  891327558926688256                    NaN                  NaN   \n",
       "\n",
       "                   timestamp  \\\n",
       "0  2017-08-01 16:23:56 +0000   \n",
       "1  2017-08-01 00:17:27 +0000   \n",
       "2  2017-07-31 00:18:03 +0000   \n",
       "3  2017-07-30 15:58:51 +0000   \n",
       "4  2017-07-29 16:00:24 +0000   \n",
       "\n",
       "                                              source  \\\n",
       "0  <a href=\"http://twitter.com/download/iphone\" r...   \n",
       "1  <a href=\"http://twitter.com/download/iphone\" r...   \n",
       "2  <a href=\"http://twitter.com/download/iphone\" r...   \n",
       "3  <a href=\"http://twitter.com/download/iphone\" r...   \n",
       "4  <a href=\"http://twitter.com/download/iphone\" r...   \n",
       "\n",
       "                                                text  retweeted_status_id  \\\n",
       "0  This is Phineas. He's a mystical boy. Only eve...                  NaN   \n",
       "1  This is Tilly. She's just checking pup on you....                  NaN   \n",
       "2  This is Archie. He is a rare Norwegian Pouncin...                  NaN   \n",
       "3  This is Darla. She commenced a snooze mid meal...                  NaN   \n",
       "4  This is Franklin. He would like you to stop ca...                  NaN   \n",
       "\n",
       "   retweeted_status_user_id retweeted_status_timestamp  \\\n",
       "0                       NaN                        NaN   \n",
       "1                       NaN                        NaN   \n",
       "2                       NaN                        NaN   \n",
       "3                       NaN                        NaN   \n",
       "4                       NaN                        NaN   \n",
       "\n",
       "                                       expanded_urls  rating_numerator  \\\n",
       "0  https://twitter.com/dog_rates/status/892420643...                13   \n",
       "1  https://twitter.com/dog_rates/status/892177421...                13   \n",
       "2  https://twitter.com/dog_rates/status/891815181...                12   \n",
       "3  https://twitter.com/dog_rates/status/891689557...                13   \n",
       "4  https://twitter.com/dog_rates/status/891327558...                12   \n",
       "\n",
       "   rating_denominator      name doggo floofer pupper puppo  \n",
       "0                  10   Phineas  None    None   None  None  \n",
       "1                  10     Tilly  None    None   None  None  \n",
       "2                  10    Archie  None    None   None  None  \n",
       "3                  10     Darla  None    None   None  None  \n",
       "4                  10  Franklin  None    None   None  None  "
      ]
     },
     "execution_count": 2,
     "metadata": {},
     "output_type": "execute_result"
    }
   ],
   "source": [
    "twitter = pd.read_csv('twitter-archive-enhanced.csv')\n",
    "twitter.head()"
   ]
  },
  {
   "cell_type": "code",
   "execution_count": 3,
   "metadata": {},
   "outputs": [],
   "source": [
    "# Scrape the image predictions file from the Udacity website\n",
    "url = 'https://d17h27t6h515a5.cloudfront.net/topher/2017/August/599fd2ad_image-predictions/image-predictions.tsv' \n",
    "response = requests.get(url)\n",
    "with open(os.path.join('image_predictions.tsv'), mode = 'wb') as file:\n",
    "    file.write(response.content)"
   ]
  },
  {
   "cell_type": "code",
   "execution_count": 4,
   "metadata": {},
   "outputs": [
    {
     "data": {
      "text/html": [
       "<div>\n",
       "<style scoped>\n",
       "    .dataframe tbody tr th:only-of-type {\n",
       "        vertical-align: middle;\n",
       "    }\n",
       "\n",
       "    .dataframe tbody tr th {\n",
       "        vertical-align: top;\n",
       "    }\n",
       "\n",
       "    .dataframe thead th {\n",
       "        text-align: right;\n",
       "    }\n",
       "</style>\n",
       "<table border=\"1\" class=\"dataframe\">\n",
       "  <thead>\n",
       "    <tr style=\"text-align: right;\">\n",
       "      <th></th>\n",
       "      <th>tweet_id</th>\n",
       "      <th>jpg_url</th>\n",
       "      <th>img_num</th>\n",
       "      <th>p1</th>\n",
       "      <th>p1_conf</th>\n",
       "      <th>p1_dog</th>\n",
       "      <th>p2</th>\n",
       "      <th>p2_conf</th>\n",
       "      <th>p2_dog</th>\n",
       "      <th>p3</th>\n",
       "      <th>p3_conf</th>\n",
       "      <th>p3_dog</th>\n",
       "    </tr>\n",
       "  </thead>\n",
       "  <tbody>\n",
       "    <tr>\n",
       "      <th>0</th>\n",
       "      <td>666020888022790149</td>\n",
       "      <td>https://pbs.twimg.com/media/CT4udn0WwAA0aMy.jpg</td>\n",
       "      <td>1</td>\n",
       "      <td>Welsh_springer_spaniel</td>\n",
       "      <td>0.465074</td>\n",
       "      <td>True</td>\n",
       "      <td>collie</td>\n",
       "      <td>0.156665</td>\n",
       "      <td>True</td>\n",
       "      <td>Shetland_sheepdog</td>\n",
       "      <td>0.061428</td>\n",
       "      <td>True</td>\n",
       "    </tr>\n",
       "    <tr>\n",
       "      <th>1</th>\n",
       "      <td>666029285002620928</td>\n",
       "      <td>https://pbs.twimg.com/media/CT42GRgUYAA5iDo.jpg</td>\n",
       "      <td>1</td>\n",
       "      <td>redbone</td>\n",
       "      <td>0.506826</td>\n",
       "      <td>True</td>\n",
       "      <td>miniature_pinscher</td>\n",
       "      <td>0.074192</td>\n",
       "      <td>True</td>\n",
       "      <td>Rhodesian_ridgeback</td>\n",
       "      <td>0.072010</td>\n",
       "      <td>True</td>\n",
       "    </tr>\n",
       "    <tr>\n",
       "      <th>2</th>\n",
       "      <td>666033412701032449</td>\n",
       "      <td>https://pbs.twimg.com/media/CT4521TWwAEvMyu.jpg</td>\n",
       "      <td>1</td>\n",
       "      <td>German_shepherd</td>\n",
       "      <td>0.596461</td>\n",
       "      <td>True</td>\n",
       "      <td>malinois</td>\n",
       "      <td>0.138584</td>\n",
       "      <td>True</td>\n",
       "      <td>bloodhound</td>\n",
       "      <td>0.116197</td>\n",
       "      <td>True</td>\n",
       "    </tr>\n",
       "    <tr>\n",
       "      <th>3</th>\n",
       "      <td>666044226329800704</td>\n",
       "      <td>https://pbs.twimg.com/media/CT5Dr8HUEAA-lEu.jpg</td>\n",
       "      <td>1</td>\n",
       "      <td>Rhodesian_ridgeback</td>\n",
       "      <td>0.408143</td>\n",
       "      <td>True</td>\n",
       "      <td>redbone</td>\n",
       "      <td>0.360687</td>\n",
       "      <td>True</td>\n",
       "      <td>miniature_pinscher</td>\n",
       "      <td>0.222752</td>\n",
       "      <td>True</td>\n",
       "    </tr>\n",
       "    <tr>\n",
       "      <th>4</th>\n",
       "      <td>666049248165822465</td>\n",
       "      <td>https://pbs.twimg.com/media/CT5IQmsXIAAKY4A.jpg</td>\n",
       "      <td>1</td>\n",
       "      <td>miniature_pinscher</td>\n",
       "      <td>0.560311</td>\n",
       "      <td>True</td>\n",
       "      <td>Rottweiler</td>\n",
       "      <td>0.243682</td>\n",
       "      <td>True</td>\n",
       "      <td>Doberman</td>\n",
       "      <td>0.154629</td>\n",
       "      <td>True</td>\n",
       "    </tr>\n",
       "  </tbody>\n",
       "</table>\n",
       "</div>"
      ],
      "text/plain": [
       "             tweet_id                                          jpg_url  \\\n",
       "0  666020888022790149  https://pbs.twimg.com/media/CT4udn0WwAA0aMy.jpg   \n",
       "1  666029285002620928  https://pbs.twimg.com/media/CT42GRgUYAA5iDo.jpg   \n",
       "2  666033412701032449  https://pbs.twimg.com/media/CT4521TWwAEvMyu.jpg   \n",
       "3  666044226329800704  https://pbs.twimg.com/media/CT5Dr8HUEAA-lEu.jpg   \n",
       "4  666049248165822465  https://pbs.twimg.com/media/CT5IQmsXIAAKY4A.jpg   \n",
       "\n",
       "   img_num                      p1   p1_conf  p1_dog                  p2  \\\n",
       "0        1  Welsh_springer_spaniel  0.465074    True              collie   \n",
       "1        1                 redbone  0.506826    True  miniature_pinscher   \n",
       "2        1         German_shepherd  0.596461    True            malinois   \n",
       "3        1     Rhodesian_ridgeback  0.408143    True             redbone   \n",
       "4        1      miniature_pinscher  0.560311    True          Rottweiler   \n",
       "\n",
       "    p2_conf  p2_dog                   p3   p3_conf  p3_dog  \n",
       "0  0.156665    True    Shetland_sheepdog  0.061428    True  \n",
       "1  0.074192    True  Rhodesian_ridgeback  0.072010    True  \n",
       "2  0.138584    True           bloodhound  0.116197    True  \n",
       "3  0.360687    True   miniature_pinscher  0.222752    True  \n",
       "4  0.243682    True             Doberman  0.154629    True  "
      ]
     },
     "execution_count": 4,
     "metadata": {},
     "output_type": "execute_result"
    }
   ],
   "source": [
    "# Load the image predictions file\n",
    "images = pd.read_csv('image_predictions.tsv', sep = '\\t')\n",
    "images.head()"
   ]
  },
  {
   "cell_type": "code",
   "execution_count": 1,
   "metadata": {},
   "outputs": [],
   "source": [
    "consumer_key = '...'\n",
    "consumer_secret = '....'\n",
    "access_token = '....'\n",
    "access_secret = '....'"
   ]
  },
  {
   "cell_type": "code",
   "execution_count": 6,
   "metadata": {},
   "outputs": [],
   "source": [
    "auth = tweepy.OAuthHandler(consumer_key, consumer_secret)\n",
    "auth.set_access_token(access_token, access_secret)\n",
    "api = tweepy.API(auth, parser=tweepy.parsers.JSONParser())"
   ]
  },
  {
   "cell_type": "code",
   "execution_count": 7,
   "metadata": {},
   "outputs": [
    {
     "name": "stdout",
     "output_type": "stream",
     "text": [
      "888202515573088257\n",
      "873697596434513921\n",
      "872668790621863937\n",
      "872261713294495745\n",
      "869988702071779329\n",
      "866816280283807744\n",
      "861769973181624320\n",
      "856602993587888130\n",
      "851953902622658560\n",
      "845459076796616705\n",
      "844704788403113984\n",
      "842892208864923648\n",
      "837366284874571778\n",
      "837012587749474308\n",
      "829374341691346946\n",
      "827228250799742977\n",
      "812747805718642688\n",
      "802247111496568832\n",
      "779123168116150273\n",
      "775096608509886464\n",
      "771004394259247104\n",
      "770743923962707968\n",
      "759566828574212096\n",
      "754011816964026368\n"
     ]
    },
    {
     "name": "stderr",
     "output_type": "stream",
     "text": [
      "Rate limit reached. Sleeping for: 360\n"
     ]
    },
    {
     "name": "stdout",
     "output_type": "stream",
     "text": [
      "680055455951884288\n"
     ]
    }
   ],
   "source": [
    "# Query Twitter's API for JSON data - match to each Tweet ID from the archive\n",
    "tweet_ids = twitter.tweet_id.values\n",
    "\n",
    "tweets_data = []\n",
    "tweet_success = []\n",
    "tweet_failure = []\n",
    "\n",
    "for tweet_id in tweet_ids:\n",
    "        try:\n",
    "            data = api.get_status(tweet_id, tweet_mode='extended', \n",
    "                                  wait_on_rate_limit = True, \n",
    "                                  wait_on_rate_limit_notify = True)\n",
    "            tweets_data.append(data)\n",
    "            tweet_success.append(tweet_id)\n",
    "        except:\n",
    "            tweet_failure.append(tweet_id)\n",
    "            print(tweet_id)"
   ]
  },
  {
   "cell_type": "code",
   "execution_count": 8,
   "metadata": {},
   "outputs": [],
   "source": [
    "# Store data to tweet_json.txt\n",
    "with open('tweet_json.txt', mode = 'w') as file:\n",
    "    json.dump(tweets_data, file)"
   ]
  },
  {
   "cell_type": "code",
   "execution_count": 9,
   "metadata": {},
   "outputs": [],
   "source": [
    "# Loading the Twitter API data\n",
    "twitter_api = pd.read_json('tweet_json.txt')\n",
    "twitter_api['tweet_id'] = tweet_success\n",
    "twitter_api = twitter_api[['tweet_id', 'favorite_count', 'retweet_count']]"
   ]
  },
  {
   "cell_type": "markdown",
   "metadata": {},
   "source": [
    "<a id='acessing'></a>\n",
    "### Acessing\n"
   ]
  },
  {
   "cell_type": "code",
   "execution_count": 10,
   "metadata": {
    "scrolled": true
   },
   "outputs": [
    {
     "data": {
      "text/html": [
       "<div>\n",
       "<style scoped>\n",
       "    .dataframe tbody tr th:only-of-type {\n",
       "        vertical-align: middle;\n",
       "    }\n",
       "\n",
       "    .dataframe tbody tr th {\n",
       "        vertical-align: top;\n",
       "    }\n",
       "\n",
       "    .dataframe thead th {\n",
       "        text-align: right;\n",
       "    }\n",
       "</style>\n",
       "<table border=\"1\" class=\"dataframe\">\n",
       "  <thead>\n",
       "    <tr style=\"text-align: right;\">\n",
       "      <th></th>\n",
       "      <th>tweet_id</th>\n",
       "      <th>in_reply_to_status_id</th>\n",
       "      <th>in_reply_to_user_id</th>\n",
       "      <th>timestamp</th>\n",
       "      <th>source</th>\n",
       "      <th>text</th>\n",
       "      <th>retweeted_status_id</th>\n",
       "      <th>retweeted_status_user_id</th>\n",
       "      <th>retweeted_status_timestamp</th>\n",
       "      <th>expanded_urls</th>\n",
       "      <th>rating_numerator</th>\n",
       "      <th>rating_denominator</th>\n",
       "      <th>name</th>\n",
       "      <th>doggo</th>\n",
       "      <th>floofer</th>\n",
       "      <th>pupper</th>\n",
       "      <th>puppo</th>\n",
       "    </tr>\n",
       "  </thead>\n",
       "  <tbody>\n",
       "    <tr>\n",
       "      <th>0</th>\n",
       "      <td>892420643555336193</td>\n",
       "      <td>NaN</td>\n",
       "      <td>NaN</td>\n",
       "      <td>2017-08-01 16:23:56 +0000</td>\n",
       "      <td>&lt;a href=\"http://twitter.com/download/iphone\" r...</td>\n",
       "      <td>This is Phineas. He's a mystical boy. Only eve...</td>\n",
       "      <td>NaN</td>\n",
       "      <td>NaN</td>\n",
       "      <td>NaN</td>\n",
       "      <td>https://twitter.com/dog_rates/status/892420643...</td>\n",
       "      <td>13</td>\n",
       "      <td>10</td>\n",
       "      <td>Phineas</td>\n",
       "      <td>None</td>\n",
       "      <td>None</td>\n",
       "      <td>None</td>\n",
       "      <td>None</td>\n",
       "    </tr>\n",
       "    <tr>\n",
       "      <th>1</th>\n",
       "      <td>892177421306343426</td>\n",
       "      <td>NaN</td>\n",
       "      <td>NaN</td>\n",
       "      <td>2017-08-01 00:17:27 +0000</td>\n",
       "      <td>&lt;a href=\"http://twitter.com/download/iphone\" r...</td>\n",
       "      <td>This is Tilly. She's just checking pup on you....</td>\n",
       "      <td>NaN</td>\n",
       "      <td>NaN</td>\n",
       "      <td>NaN</td>\n",
       "      <td>https://twitter.com/dog_rates/status/892177421...</td>\n",
       "      <td>13</td>\n",
       "      <td>10</td>\n",
       "      <td>Tilly</td>\n",
       "      <td>None</td>\n",
       "      <td>None</td>\n",
       "      <td>None</td>\n",
       "      <td>None</td>\n",
       "    </tr>\n",
       "    <tr>\n",
       "      <th>2</th>\n",
       "      <td>891815181378084864</td>\n",
       "      <td>NaN</td>\n",
       "      <td>NaN</td>\n",
       "      <td>2017-07-31 00:18:03 +0000</td>\n",
       "      <td>&lt;a href=\"http://twitter.com/download/iphone\" r...</td>\n",
       "      <td>This is Archie. He is a rare Norwegian Pouncin...</td>\n",
       "      <td>NaN</td>\n",
       "      <td>NaN</td>\n",
       "      <td>NaN</td>\n",
       "      <td>https://twitter.com/dog_rates/status/891815181...</td>\n",
       "      <td>12</td>\n",
       "      <td>10</td>\n",
       "      <td>Archie</td>\n",
       "      <td>None</td>\n",
       "      <td>None</td>\n",
       "      <td>None</td>\n",
       "      <td>None</td>\n",
       "    </tr>\n",
       "    <tr>\n",
       "      <th>3</th>\n",
       "      <td>891689557279858688</td>\n",
       "      <td>NaN</td>\n",
       "      <td>NaN</td>\n",
       "      <td>2017-07-30 15:58:51 +0000</td>\n",
       "      <td>&lt;a href=\"http://twitter.com/download/iphone\" r...</td>\n",
       "      <td>This is Darla. She commenced a snooze mid meal...</td>\n",
       "      <td>NaN</td>\n",
       "      <td>NaN</td>\n",
       "      <td>NaN</td>\n",
       "      <td>https://twitter.com/dog_rates/status/891689557...</td>\n",
       "      <td>13</td>\n",
       "      <td>10</td>\n",
       "      <td>Darla</td>\n",
       "      <td>None</td>\n",
       "      <td>None</td>\n",
       "      <td>None</td>\n",
       "      <td>None</td>\n",
       "    </tr>\n",
       "    <tr>\n",
       "      <th>4</th>\n",
       "      <td>891327558926688256</td>\n",
       "      <td>NaN</td>\n",
       "      <td>NaN</td>\n",
       "      <td>2017-07-29 16:00:24 +0000</td>\n",
       "      <td>&lt;a href=\"http://twitter.com/download/iphone\" r...</td>\n",
       "      <td>This is Franklin. He would like you to stop ca...</td>\n",
       "      <td>NaN</td>\n",
       "      <td>NaN</td>\n",
       "      <td>NaN</td>\n",
       "      <td>https://twitter.com/dog_rates/status/891327558...</td>\n",
       "      <td>12</td>\n",
       "      <td>10</td>\n",
       "      <td>Franklin</td>\n",
       "      <td>None</td>\n",
       "      <td>None</td>\n",
       "      <td>None</td>\n",
       "      <td>None</td>\n",
       "    </tr>\n",
       "    <tr>\n",
       "      <th>...</th>\n",
       "      <td>...</td>\n",
       "      <td>...</td>\n",
       "      <td>...</td>\n",
       "      <td>...</td>\n",
       "      <td>...</td>\n",
       "      <td>...</td>\n",
       "      <td>...</td>\n",
       "      <td>...</td>\n",
       "      <td>...</td>\n",
       "      <td>...</td>\n",
       "      <td>...</td>\n",
       "      <td>...</td>\n",
       "      <td>...</td>\n",
       "      <td>...</td>\n",
       "      <td>...</td>\n",
       "      <td>...</td>\n",
       "      <td>...</td>\n",
       "    </tr>\n",
       "    <tr>\n",
       "      <th>2351</th>\n",
       "      <td>666049248165822465</td>\n",
       "      <td>NaN</td>\n",
       "      <td>NaN</td>\n",
       "      <td>2015-11-16 00:24:50 +0000</td>\n",
       "      <td>&lt;a href=\"http://twitter.com/download/iphone\" r...</td>\n",
       "      <td>Here we have a 1949 1st generation vulpix. Enj...</td>\n",
       "      <td>NaN</td>\n",
       "      <td>NaN</td>\n",
       "      <td>NaN</td>\n",
       "      <td>https://twitter.com/dog_rates/status/666049248...</td>\n",
       "      <td>5</td>\n",
       "      <td>10</td>\n",
       "      <td>None</td>\n",
       "      <td>None</td>\n",
       "      <td>None</td>\n",
       "      <td>None</td>\n",
       "      <td>None</td>\n",
       "    </tr>\n",
       "    <tr>\n",
       "      <th>2352</th>\n",
       "      <td>666044226329800704</td>\n",
       "      <td>NaN</td>\n",
       "      <td>NaN</td>\n",
       "      <td>2015-11-16 00:04:52 +0000</td>\n",
       "      <td>&lt;a href=\"http://twitter.com/download/iphone\" r...</td>\n",
       "      <td>This is a purebred Piers Morgan. Loves to Netf...</td>\n",
       "      <td>NaN</td>\n",
       "      <td>NaN</td>\n",
       "      <td>NaN</td>\n",
       "      <td>https://twitter.com/dog_rates/status/666044226...</td>\n",
       "      <td>6</td>\n",
       "      <td>10</td>\n",
       "      <td>a</td>\n",
       "      <td>None</td>\n",
       "      <td>None</td>\n",
       "      <td>None</td>\n",
       "      <td>None</td>\n",
       "    </tr>\n",
       "    <tr>\n",
       "      <th>2353</th>\n",
       "      <td>666033412701032449</td>\n",
       "      <td>NaN</td>\n",
       "      <td>NaN</td>\n",
       "      <td>2015-11-15 23:21:54 +0000</td>\n",
       "      <td>&lt;a href=\"http://twitter.com/download/iphone\" r...</td>\n",
       "      <td>Here is a very happy pup. Big fan of well-main...</td>\n",
       "      <td>NaN</td>\n",
       "      <td>NaN</td>\n",
       "      <td>NaN</td>\n",
       "      <td>https://twitter.com/dog_rates/status/666033412...</td>\n",
       "      <td>9</td>\n",
       "      <td>10</td>\n",
       "      <td>a</td>\n",
       "      <td>None</td>\n",
       "      <td>None</td>\n",
       "      <td>None</td>\n",
       "      <td>None</td>\n",
       "    </tr>\n",
       "    <tr>\n",
       "      <th>2354</th>\n",
       "      <td>666029285002620928</td>\n",
       "      <td>NaN</td>\n",
       "      <td>NaN</td>\n",
       "      <td>2015-11-15 23:05:30 +0000</td>\n",
       "      <td>&lt;a href=\"http://twitter.com/download/iphone\" r...</td>\n",
       "      <td>This is a western brown Mitsubishi terrier. Up...</td>\n",
       "      <td>NaN</td>\n",
       "      <td>NaN</td>\n",
       "      <td>NaN</td>\n",
       "      <td>https://twitter.com/dog_rates/status/666029285...</td>\n",
       "      <td>7</td>\n",
       "      <td>10</td>\n",
       "      <td>a</td>\n",
       "      <td>None</td>\n",
       "      <td>None</td>\n",
       "      <td>None</td>\n",
       "      <td>None</td>\n",
       "    </tr>\n",
       "    <tr>\n",
       "      <th>2355</th>\n",
       "      <td>666020888022790149</td>\n",
       "      <td>NaN</td>\n",
       "      <td>NaN</td>\n",
       "      <td>2015-11-15 22:32:08 +0000</td>\n",
       "      <td>&lt;a href=\"http://twitter.com/download/iphone\" r...</td>\n",
       "      <td>Here we have a Japanese Irish Setter. Lost eye...</td>\n",
       "      <td>NaN</td>\n",
       "      <td>NaN</td>\n",
       "      <td>NaN</td>\n",
       "      <td>https://twitter.com/dog_rates/status/666020888...</td>\n",
       "      <td>8</td>\n",
       "      <td>10</td>\n",
       "      <td>None</td>\n",
       "      <td>None</td>\n",
       "      <td>None</td>\n",
       "      <td>None</td>\n",
       "      <td>None</td>\n",
       "    </tr>\n",
       "  </tbody>\n",
       "</table>\n",
       "<p>2356 rows × 17 columns</p>\n",
       "</div>"
      ],
      "text/plain": [
       "                tweet_id  in_reply_to_status_id  in_reply_to_user_id  \\\n",
       "0     892420643555336193                    NaN                  NaN   \n",
       "1     892177421306343426                    NaN                  NaN   \n",
       "2     891815181378084864                    NaN                  NaN   \n",
       "3     891689557279858688                    NaN                  NaN   \n",
       "4     891327558926688256                    NaN                  NaN   \n",
       "...                  ...                    ...                  ...   \n",
       "2351  666049248165822465                    NaN                  NaN   \n",
       "2352  666044226329800704                    NaN                  NaN   \n",
       "2353  666033412701032449                    NaN                  NaN   \n",
       "2354  666029285002620928                    NaN                  NaN   \n",
       "2355  666020888022790149                    NaN                  NaN   \n",
       "\n",
       "                      timestamp  \\\n",
       "0     2017-08-01 16:23:56 +0000   \n",
       "1     2017-08-01 00:17:27 +0000   \n",
       "2     2017-07-31 00:18:03 +0000   \n",
       "3     2017-07-30 15:58:51 +0000   \n",
       "4     2017-07-29 16:00:24 +0000   \n",
       "...                         ...   \n",
       "2351  2015-11-16 00:24:50 +0000   \n",
       "2352  2015-11-16 00:04:52 +0000   \n",
       "2353  2015-11-15 23:21:54 +0000   \n",
       "2354  2015-11-15 23:05:30 +0000   \n",
       "2355  2015-11-15 22:32:08 +0000   \n",
       "\n",
       "                                                 source  \\\n",
       "0     <a href=\"http://twitter.com/download/iphone\" r...   \n",
       "1     <a href=\"http://twitter.com/download/iphone\" r...   \n",
       "2     <a href=\"http://twitter.com/download/iphone\" r...   \n",
       "3     <a href=\"http://twitter.com/download/iphone\" r...   \n",
       "4     <a href=\"http://twitter.com/download/iphone\" r...   \n",
       "...                                                 ...   \n",
       "2351  <a href=\"http://twitter.com/download/iphone\" r...   \n",
       "2352  <a href=\"http://twitter.com/download/iphone\" r...   \n",
       "2353  <a href=\"http://twitter.com/download/iphone\" r...   \n",
       "2354  <a href=\"http://twitter.com/download/iphone\" r...   \n",
       "2355  <a href=\"http://twitter.com/download/iphone\" r...   \n",
       "\n",
       "                                                   text  retweeted_status_id  \\\n",
       "0     This is Phineas. He's a mystical boy. Only eve...                  NaN   \n",
       "1     This is Tilly. She's just checking pup on you....                  NaN   \n",
       "2     This is Archie. He is a rare Norwegian Pouncin...                  NaN   \n",
       "3     This is Darla. She commenced a snooze mid meal...                  NaN   \n",
       "4     This is Franklin. He would like you to stop ca...                  NaN   \n",
       "...                                                 ...                  ...   \n",
       "2351  Here we have a 1949 1st generation vulpix. Enj...                  NaN   \n",
       "2352  This is a purebred Piers Morgan. Loves to Netf...                  NaN   \n",
       "2353  Here is a very happy pup. Big fan of well-main...                  NaN   \n",
       "2354  This is a western brown Mitsubishi terrier. Up...                  NaN   \n",
       "2355  Here we have a Japanese Irish Setter. Lost eye...                  NaN   \n",
       "\n",
       "      retweeted_status_user_id retweeted_status_timestamp  \\\n",
       "0                          NaN                        NaN   \n",
       "1                          NaN                        NaN   \n",
       "2                          NaN                        NaN   \n",
       "3                          NaN                        NaN   \n",
       "4                          NaN                        NaN   \n",
       "...                        ...                        ...   \n",
       "2351                       NaN                        NaN   \n",
       "2352                       NaN                        NaN   \n",
       "2353                       NaN                        NaN   \n",
       "2354                       NaN                        NaN   \n",
       "2355                       NaN                        NaN   \n",
       "\n",
       "                                          expanded_urls  rating_numerator  \\\n",
       "0     https://twitter.com/dog_rates/status/892420643...                13   \n",
       "1     https://twitter.com/dog_rates/status/892177421...                13   \n",
       "2     https://twitter.com/dog_rates/status/891815181...                12   \n",
       "3     https://twitter.com/dog_rates/status/891689557...                13   \n",
       "4     https://twitter.com/dog_rates/status/891327558...                12   \n",
       "...                                                 ...               ...   \n",
       "2351  https://twitter.com/dog_rates/status/666049248...                 5   \n",
       "2352  https://twitter.com/dog_rates/status/666044226...                 6   \n",
       "2353  https://twitter.com/dog_rates/status/666033412...                 9   \n",
       "2354  https://twitter.com/dog_rates/status/666029285...                 7   \n",
       "2355  https://twitter.com/dog_rates/status/666020888...                 8   \n",
       "\n",
       "      rating_denominator      name doggo floofer pupper puppo  \n",
       "0                     10   Phineas  None    None   None  None  \n",
       "1                     10     Tilly  None    None   None  None  \n",
       "2                     10    Archie  None    None   None  None  \n",
       "3                     10     Darla  None    None   None  None  \n",
       "4                     10  Franklin  None    None   None  None  \n",
       "...                  ...       ...   ...     ...    ...   ...  \n",
       "2351                  10      None  None    None   None  None  \n",
       "2352                  10         a  None    None   None  None  \n",
       "2353                  10         a  None    None   None  None  \n",
       "2354                  10         a  None    None   None  None  \n",
       "2355                  10      None  None    None   None  None  \n",
       "\n",
       "[2356 rows x 17 columns]"
      ]
     },
     "execution_count": 10,
     "metadata": {},
     "output_type": "execute_result"
    }
   ],
   "source": [
    "# Display the twitter table\n",
    "twitter"
   ]
  },
  {
   "cell_type": "markdown",
   "metadata": {},
   "source": [
    "Some `twitter` columns:\n",
    "- **tweet_id**: is the last part of the tweet URL after \"status/\".\n",
    "- **in_reply_to_status_id**: The ID of an existing status that the update is in reply to. \n",
    "- **in_reply_to_user_id**: If the represented Tweet is a reply, this field will contain the integer representation of the original Tweet’s ID.\n",
    "- **timestamp**: time that was posted.\n",
    "- **source**: Utility used to post the Tweet, as an HTML.\n",
    "- **text**: The actual UTF-8 text of the status update;\n",
    "- **rating_numerator**: The numerator is the top part of a fraction that rates the dog.\n",
    "- **rating_denominator**: The denominator is the bottom part of a fraction that rates the dog.\n",
    "- **name**: Name of the dog.\n",
    "- **doggo**: Type of dog;\n",
    "- **floofer**: type of dog;\n",
    "- **pupper**: Type of dog;\n",
    "- **puppo**: Type of dog."
   ]
  },
  {
   "cell_type": "code",
   "execution_count": 11,
   "metadata": {
    "scrolled": true
   },
   "outputs": [
    {
     "data": {
      "text/html": [
       "<div>\n",
       "<style scoped>\n",
       "    .dataframe tbody tr th:only-of-type {\n",
       "        vertical-align: middle;\n",
       "    }\n",
       "\n",
       "    .dataframe tbody tr th {\n",
       "        vertical-align: top;\n",
       "    }\n",
       "\n",
       "    .dataframe thead th {\n",
       "        text-align: right;\n",
       "    }\n",
       "</style>\n",
       "<table border=\"1\" class=\"dataframe\">\n",
       "  <thead>\n",
       "    <tr style=\"text-align: right;\">\n",
       "      <th></th>\n",
       "      <th>tweet_id</th>\n",
       "      <th>jpg_url</th>\n",
       "      <th>img_num</th>\n",
       "      <th>p1</th>\n",
       "      <th>p1_conf</th>\n",
       "      <th>p1_dog</th>\n",
       "      <th>p2</th>\n",
       "      <th>p2_conf</th>\n",
       "      <th>p2_dog</th>\n",
       "      <th>p3</th>\n",
       "      <th>p3_conf</th>\n",
       "      <th>p3_dog</th>\n",
       "    </tr>\n",
       "  </thead>\n",
       "  <tbody>\n",
       "    <tr>\n",
       "      <th>0</th>\n",
       "      <td>666020888022790149</td>\n",
       "      <td>https://pbs.twimg.com/media/CT4udn0WwAA0aMy.jpg</td>\n",
       "      <td>1</td>\n",
       "      <td>Welsh_springer_spaniel</td>\n",
       "      <td>0.465074</td>\n",
       "      <td>True</td>\n",
       "      <td>collie</td>\n",
       "      <td>0.156665</td>\n",
       "      <td>True</td>\n",
       "      <td>Shetland_sheepdog</td>\n",
       "      <td>0.061428</td>\n",
       "      <td>True</td>\n",
       "    </tr>\n",
       "    <tr>\n",
       "      <th>1</th>\n",
       "      <td>666029285002620928</td>\n",
       "      <td>https://pbs.twimg.com/media/CT42GRgUYAA5iDo.jpg</td>\n",
       "      <td>1</td>\n",
       "      <td>redbone</td>\n",
       "      <td>0.506826</td>\n",
       "      <td>True</td>\n",
       "      <td>miniature_pinscher</td>\n",
       "      <td>0.074192</td>\n",
       "      <td>True</td>\n",
       "      <td>Rhodesian_ridgeback</td>\n",
       "      <td>0.072010</td>\n",
       "      <td>True</td>\n",
       "    </tr>\n",
       "    <tr>\n",
       "      <th>2</th>\n",
       "      <td>666033412701032449</td>\n",
       "      <td>https://pbs.twimg.com/media/CT4521TWwAEvMyu.jpg</td>\n",
       "      <td>1</td>\n",
       "      <td>German_shepherd</td>\n",
       "      <td>0.596461</td>\n",
       "      <td>True</td>\n",
       "      <td>malinois</td>\n",
       "      <td>0.138584</td>\n",
       "      <td>True</td>\n",
       "      <td>bloodhound</td>\n",
       "      <td>0.116197</td>\n",
       "      <td>True</td>\n",
       "    </tr>\n",
       "    <tr>\n",
       "      <th>3</th>\n",
       "      <td>666044226329800704</td>\n",
       "      <td>https://pbs.twimg.com/media/CT5Dr8HUEAA-lEu.jpg</td>\n",
       "      <td>1</td>\n",
       "      <td>Rhodesian_ridgeback</td>\n",
       "      <td>0.408143</td>\n",
       "      <td>True</td>\n",
       "      <td>redbone</td>\n",
       "      <td>0.360687</td>\n",
       "      <td>True</td>\n",
       "      <td>miniature_pinscher</td>\n",
       "      <td>0.222752</td>\n",
       "      <td>True</td>\n",
       "    </tr>\n",
       "    <tr>\n",
       "      <th>4</th>\n",
       "      <td>666049248165822465</td>\n",
       "      <td>https://pbs.twimg.com/media/CT5IQmsXIAAKY4A.jpg</td>\n",
       "      <td>1</td>\n",
       "      <td>miniature_pinscher</td>\n",
       "      <td>0.560311</td>\n",
       "      <td>True</td>\n",
       "      <td>Rottweiler</td>\n",
       "      <td>0.243682</td>\n",
       "      <td>True</td>\n",
       "      <td>Doberman</td>\n",
       "      <td>0.154629</td>\n",
       "      <td>True</td>\n",
       "    </tr>\n",
       "    <tr>\n",
       "      <th>...</th>\n",
       "      <td>...</td>\n",
       "      <td>...</td>\n",
       "      <td>...</td>\n",
       "      <td>...</td>\n",
       "      <td>...</td>\n",
       "      <td>...</td>\n",
       "      <td>...</td>\n",
       "      <td>...</td>\n",
       "      <td>...</td>\n",
       "      <td>...</td>\n",
       "      <td>...</td>\n",
       "      <td>...</td>\n",
       "    </tr>\n",
       "    <tr>\n",
       "      <th>2070</th>\n",
       "      <td>891327558926688256</td>\n",
       "      <td>https://pbs.twimg.com/media/DF6hr6BUMAAzZgT.jpg</td>\n",
       "      <td>2</td>\n",
       "      <td>basset</td>\n",
       "      <td>0.555712</td>\n",
       "      <td>True</td>\n",
       "      <td>English_springer</td>\n",
       "      <td>0.225770</td>\n",
       "      <td>True</td>\n",
       "      <td>German_short-haired_pointer</td>\n",
       "      <td>0.175219</td>\n",
       "      <td>True</td>\n",
       "    </tr>\n",
       "    <tr>\n",
       "      <th>2071</th>\n",
       "      <td>891689557279858688</td>\n",
       "      <td>https://pbs.twimg.com/media/DF_q7IAWsAEuuN8.jpg</td>\n",
       "      <td>1</td>\n",
       "      <td>paper_towel</td>\n",
       "      <td>0.170278</td>\n",
       "      <td>False</td>\n",
       "      <td>Labrador_retriever</td>\n",
       "      <td>0.168086</td>\n",
       "      <td>True</td>\n",
       "      <td>spatula</td>\n",
       "      <td>0.040836</td>\n",
       "      <td>False</td>\n",
       "    </tr>\n",
       "    <tr>\n",
       "      <th>2072</th>\n",
       "      <td>891815181378084864</td>\n",
       "      <td>https://pbs.twimg.com/media/DGBdLU1WsAANxJ9.jpg</td>\n",
       "      <td>1</td>\n",
       "      <td>Chihuahua</td>\n",
       "      <td>0.716012</td>\n",
       "      <td>True</td>\n",
       "      <td>malamute</td>\n",
       "      <td>0.078253</td>\n",
       "      <td>True</td>\n",
       "      <td>kelpie</td>\n",
       "      <td>0.031379</td>\n",
       "      <td>True</td>\n",
       "    </tr>\n",
       "    <tr>\n",
       "      <th>2073</th>\n",
       "      <td>892177421306343426</td>\n",
       "      <td>https://pbs.twimg.com/media/DGGmoV4XsAAUL6n.jpg</td>\n",
       "      <td>1</td>\n",
       "      <td>Chihuahua</td>\n",
       "      <td>0.323581</td>\n",
       "      <td>True</td>\n",
       "      <td>Pekinese</td>\n",
       "      <td>0.090647</td>\n",
       "      <td>True</td>\n",
       "      <td>papillon</td>\n",
       "      <td>0.068957</td>\n",
       "      <td>True</td>\n",
       "    </tr>\n",
       "    <tr>\n",
       "      <th>2074</th>\n",
       "      <td>892420643555336193</td>\n",
       "      <td>https://pbs.twimg.com/media/DGKD1-bXoAAIAUK.jpg</td>\n",
       "      <td>1</td>\n",
       "      <td>orange</td>\n",
       "      <td>0.097049</td>\n",
       "      <td>False</td>\n",
       "      <td>bagel</td>\n",
       "      <td>0.085851</td>\n",
       "      <td>False</td>\n",
       "      <td>banana</td>\n",
       "      <td>0.076110</td>\n",
       "      <td>False</td>\n",
       "    </tr>\n",
       "  </tbody>\n",
       "</table>\n",
       "<p>2075 rows × 12 columns</p>\n",
       "</div>"
      ],
      "text/plain": [
       "                tweet_id                                          jpg_url  \\\n",
       "0     666020888022790149  https://pbs.twimg.com/media/CT4udn0WwAA0aMy.jpg   \n",
       "1     666029285002620928  https://pbs.twimg.com/media/CT42GRgUYAA5iDo.jpg   \n",
       "2     666033412701032449  https://pbs.twimg.com/media/CT4521TWwAEvMyu.jpg   \n",
       "3     666044226329800704  https://pbs.twimg.com/media/CT5Dr8HUEAA-lEu.jpg   \n",
       "4     666049248165822465  https://pbs.twimg.com/media/CT5IQmsXIAAKY4A.jpg   \n",
       "...                  ...                                              ...   \n",
       "2070  891327558926688256  https://pbs.twimg.com/media/DF6hr6BUMAAzZgT.jpg   \n",
       "2071  891689557279858688  https://pbs.twimg.com/media/DF_q7IAWsAEuuN8.jpg   \n",
       "2072  891815181378084864  https://pbs.twimg.com/media/DGBdLU1WsAANxJ9.jpg   \n",
       "2073  892177421306343426  https://pbs.twimg.com/media/DGGmoV4XsAAUL6n.jpg   \n",
       "2074  892420643555336193  https://pbs.twimg.com/media/DGKD1-bXoAAIAUK.jpg   \n",
       "\n",
       "      img_num                      p1   p1_conf  p1_dog                  p2  \\\n",
       "0           1  Welsh_springer_spaniel  0.465074    True              collie   \n",
       "1           1                 redbone  0.506826    True  miniature_pinscher   \n",
       "2           1         German_shepherd  0.596461    True            malinois   \n",
       "3           1     Rhodesian_ridgeback  0.408143    True             redbone   \n",
       "4           1      miniature_pinscher  0.560311    True          Rottweiler   \n",
       "...       ...                     ...       ...     ...                 ...   \n",
       "2070        2                  basset  0.555712    True    English_springer   \n",
       "2071        1             paper_towel  0.170278   False  Labrador_retriever   \n",
       "2072        1               Chihuahua  0.716012    True            malamute   \n",
       "2073        1               Chihuahua  0.323581    True            Pekinese   \n",
       "2074        1                  orange  0.097049   False               bagel   \n",
       "\n",
       "       p2_conf  p2_dog                           p3   p3_conf  p3_dog  \n",
       "0     0.156665    True            Shetland_sheepdog  0.061428    True  \n",
       "1     0.074192    True          Rhodesian_ridgeback  0.072010    True  \n",
       "2     0.138584    True                   bloodhound  0.116197    True  \n",
       "3     0.360687    True           miniature_pinscher  0.222752    True  \n",
       "4     0.243682    True                     Doberman  0.154629    True  \n",
       "...        ...     ...                          ...       ...     ...  \n",
       "2070  0.225770    True  German_short-haired_pointer  0.175219    True  \n",
       "2071  0.168086    True                      spatula  0.040836   False  \n",
       "2072  0.078253    True                       kelpie  0.031379    True  \n",
       "2073  0.090647    True                     papillon  0.068957    True  \n",
       "2074  0.085851   False                       banana  0.076110   False  \n",
       "\n",
       "[2075 rows x 12 columns]"
      ]
     },
     "execution_count": 11,
     "metadata": {},
     "output_type": "execute_result"
    }
   ],
   "source": [
    "# Display the images table\n",
    "images"
   ]
  },
  {
   "cell_type": "markdown",
   "metadata": {},
   "source": [
    "Some `images` columns:\n",
    "- **tweet_id**: is the last part of the tweet URL after \"status/\";\n",
    "- **p1**: is the algorithm's 1º prediction for the image in the tweet;\n",
    "- **p1_conf**: is how confident the algorithm is in its 1º prediction;\n",
    "- **p1_dog**: is whether or not the 1º prediction is a breed of dog;\n",
    "- **p2**: is the algorithm's second most likely prediction;\n",
    "- **p2_conf**: is how confident the algorithm is in its 2º prediction; \n",
    "- **p2_dog**: is whether or not the 2º prediction is a breed of dog. "
   ]
  },
  {
   "cell_type": "code",
   "execution_count": 12,
   "metadata": {
    "scrolled": true
   },
   "outputs": [
    {
     "data": {
      "text/html": [
       "<div>\n",
       "<style scoped>\n",
       "    .dataframe tbody tr th:only-of-type {\n",
       "        vertical-align: middle;\n",
       "    }\n",
       "\n",
       "    .dataframe tbody tr th {\n",
       "        vertical-align: top;\n",
       "    }\n",
       "\n",
       "    .dataframe thead th {\n",
       "        text-align: right;\n",
       "    }\n",
       "</style>\n",
       "<table border=\"1\" class=\"dataframe\">\n",
       "  <thead>\n",
       "    <tr style=\"text-align: right;\">\n",
       "      <th></th>\n",
       "      <th>tweet_id</th>\n",
       "      <th>favorite_count</th>\n",
       "      <th>retweet_count</th>\n",
       "    </tr>\n",
       "  </thead>\n",
       "  <tbody>\n",
       "    <tr>\n",
       "      <th>0</th>\n",
       "      <td>892420643555336193</td>\n",
       "      <td>36226</td>\n",
       "      <td>7711</td>\n",
       "    </tr>\n",
       "    <tr>\n",
       "      <th>1</th>\n",
       "      <td>892177421306343426</td>\n",
       "      <td>31232</td>\n",
       "      <td>5698</td>\n",
       "    </tr>\n",
       "    <tr>\n",
       "      <th>2</th>\n",
       "      <td>891815181378084864</td>\n",
       "      <td>23513</td>\n",
       "      <td>3777</td>\n",
       "    </tr>\n",
       "    <tr>\n",
       "      <th>3</th>\n",
       "      <td>891689557279858688</td>\n",
       "      <td>39500</td>\n",
       "      <td>7864</td>\n",
       "    </tr>\n",
       "    <tr>\n",
       "      <th>4</th>\n",
       "      <td>891327558926688256</td>\n",
       "      <td>37705</td>\n",
       "      <td>8483</td>\n",
       "    </tr>\n",
       "    <tr>\n",
       "      <th>...</th>\n",
       "      <td>...</td>\n",
       "      <td>...</td>\n",
       "      <td>...</td>\n",
       "    </tr>\n",
       "    <tr>\n",
       "      <th>2326</th>\n",
       "      <td>666049248165822465</td>\n",
       "      <td>96</td>\n",
       "      <td>39</td>\n",
       "    </tr>\n",
       "    <tr>\n",
       "      <th>2327</th>\n",
       "      <td>666044226329800704</td>\n",
       "      <td>272</td>\n",
       "      <td>132</td>\n",
       "    </tr>\n",
       "    <tr>\n",
       "      <th>2328</th>\n",
       "      <td>666033412701032449</td>\n",
       "      <td>112</td>\n",
       "      <td>41</td>\n",
       "    </tr>\n",
       "    <tr>\n",
       "      <th>2329</th>\n",
       "      <td>666029285002620928</td>\n",
       "      <td>121</td>\n",
       "      <td>42</td>\n",
       "    </tr>\n",
       "    <tr>\n",
       "      <th>2330</th>\n",
       "      <td>666020888022790149</td>\n",
       "      <td>2413</td>\n",
       "      <td>462</td>\n",
       "    </tr>\n",
       "  </tbody>\n",
       "</table>\n",
       "<p>2331 rows × 3 columns</p>\n",
       "</div>"
      ],
      "text/plain": [
       "                tweet_id  favorite_count  retweet_count\n",
       "0     892420643555336193           36226           7711\n",
       "1     892177421306343426           31232           5698\n",
       "2     891815181378084864           23513           3777\n",
       "3     891689557279858688           39500           7864\n",
       "4     891327558926688256           37705           8483\n",
       "...                  ...             ...            ...\n",
       "2326  666049248165822465              96             39\n",
       "2327  666044226329800704             272            132\n",
       "2328  666033412701032449             112             41\n",
       "2329  666029285002620928             121             42\n",
       "2330  666020888022790149            2413            462\n",
       "\n",
       "[2331 rows x 3 columns]"
      ]
     },
     "execution_count": 12,
     "metadata": {},
     "output_type": "execute_result"
    }
   ],
   "source": [
    "# Display the twitter_counts table\n",
    "twitter_api"
   ]
  },
  {
   "cell_type": "markdown",
   "metadata": {},
   "source": [
    "`twitter_api` columns:\n",
    "- **tweet_id**: is the last part of the tweet URL after \"status/\";\n",
    "- **favorite_count**: number of people who liked the content of the tweet;\n",
    "- **retweet_count**: number of people who retweet the content of the tweet."
   ]
  },
  {
   "cell_type": "markdown",
   "metadata": {},
   "source": [
    "It is better to view this data in a spreedsheet program because Pandas collapses some rows."
   ]
  },
  {
   "cell_type": "code",
   "execution_count": 13,
   "metadata": {
    "scrolled": true
   },
   "outputs": [
    {
     "name": "stdout",
     "output_type": "stream",
     "text": [
      "<class 'pandas.core.frame.DataFrame'>\n",
      "RangeIndex: 2356 entries, 0 to 2355\n",
      "Data columns (total 17 columns):\n",
      " #   Column                      Non-Null Count  Dtype  \n",
      "---  ------                      --------------  -----  \n",
      " 0   tweet_id                    2356 non-null   int64  \n",
      " 1   in_reply_to_status_id       78 non-null     float64\n",
      " 2   in_reply_to_user_id         78 non-null     float64\n",
      " 3   timestamp                   2356 non-null   object \n",
      " 4   source                      2356 non-null   object \n",
      " 5   text                        2356 non-null   object \n",
      " 6   retweeted_status_id         181 non-null    float64\n",
      " 7   retweeted_status_user_id    181 non-null    float64\n",
      " 8   retweeted_status_timestamp  181 non-null    object \n",
      " 9   expanded_urls               2297 non-null   object \n",
      " 10  rating_numerator            2356 non-null   int64  \n",
      " 11  rating_denominator          2356 non-null   int64  \n",
      " 12  name                        2356 non-null   object \n",
      " 13  doggo                       2356 non-null   object \n",
      " 14  floofer                     2356 non-null   object \n",
      " 15  pupper                      2356 non-null   object \n",
      " 16  puppo                       2356 non-null   object \n",
      "dtypes: float64(4), int64(3), object(10)\n",
      "memory usage: 313.0+ KB\n"
     ]
    }
   ],
   "source": [
    "#info about twitter table\n",
    "twitter.info()"
   ]
  },
  {
   "cell_type": "code",
   "execution_count": 14,
   "metadata": {},
   "outputs": [
    {
     "data": {
      "text/plain": [
       "2356"
      ]
     },
     "execution_count": 14,
     "metadata": {},
     "output_type": "execute_result"
    }
   ],
   "source": [
    "# number of unique values in tweet_id \n",
    "twitter.tweet_id.nunique()"
   ]
  },
  {
   "cell_type": "code",
   "execution_count": 15,
   "metadata": {
    "scrolled": false
   },
   "outputs": [
    {
     "data": {
      "text/plain": [
       "array(['Phineas', 'Tilly', 'Archie', 'Darla', 'Franklin', 'None', 'Jax',\n",
       "       'Zoey', 'Cassie', 'Koda', 'Bruno', 'Ted', 'Stuart', 'Oliver',\n",
       "       'Jim', 'Zeke', 'Ralphus', 'Canela', 'Gerald', 'Jeffrey', 'such',\n",
       "       'Maya', 'Mingus', 'Derek', 'Roscoe', 'Waffles', 'Jimbo', 'Maisey',\n",
       "       'Lilly', 'Earl', 'Lola', 'Kevin', 'Yogi', 'Noah', 'Bella',\n",
       "       'Grizzwald', 'Rusty', 'Gus', 'Stanley', 'Alfy', 'Koko', 'Rey',\n",
       "       'Gary', 'a', 'Elliot', 'Louis', 'Jesse', 'Romeo', 'Bailey',\n",
       "       'Duddles', 'Jack', 'Emmy', 'Steven', 'Beau', 'Snoopy', 'Shadow',\n",
       "       'Terrance', 'Aja', 'Penny', 'Dante', 'Nelly', 'Ginger', 'Benedict',\n",
       "       'Venti', 'Goose', 'Nugget', 'Cash', 'Coco', 'Jed', 'Sebastian',\n",
       "       'Walter', 'Sierra', 'Monkey', 'Harry', 'Kody', 'Lassie', 'Rover',\n",
       "       'Napolean', 'Dawn', 'Boomer', 'Cody', 'Rumble', 'Clifford',\n",
       "       'quite', 'Dewey', 'Scout', 'Gizmo', 'Cooper', 'Harold', 'Shikha',\n",
       "       'Jamesy', 'Lili', 'Sammy', 'Meatball', 'Paisley', 'Albus',\n",
       "       'Neptune', 'Quinn', 'Belle', 'Zooey', 'Dave', 'Jersey', 'Hobbes',\n",
       "       'Burt', 'Lorenzo', 'Carl', 'Jordy', 'Milky', 'Trooper', 'Winston',\n",
       "       'Sophie', 'Wyatt', 'Rosie', 'Thor', 'Oscar', 'Luna', 'Callie',\n",
       "       'Cermet', 'George', 'Marlee', 'Arya', 'Einstein', 'Alice',\n",
       "       'Rumpole', 'Benny', 'Aspen', 'Jarod', 'Wiggles', 'General',\n",
       "       'Sailor', 'Astrid', 'Iggy', 'Snoop', 'Kyle', 'Leo', 'Riley',\n",
       "       'Gidget', 'Noosh', 'Odin', 'Jerry', 'Charlie', 'Georgie', 'Rontu',\n",
       "       'Cannon', 'Furzey', 'Daisy', 'Tuck', 'Barney', 'Vixen', 'Jarvis',\n",
       "       'Mimosa', 'Pickles', 'Bungalo', 'Brady', 'Margo', 'Sadie', 'Hank',\n",
       "       'Tycho', 'Stephan', 'Indie', 'Winnie', 'Bentley', 'Ken', 'Max',\n",
       "       'Maddie', 'Pipsy', 'Monty', 'Sojourner', 'Odie', 'Arlo', 'Sunny',\n",
       "       'Vincent', 'Lucy', 'Clark', 'Mookie', 'Meera', 'Buddy', 'Ava',\n",
       "       'Rory', 'Eli', 'Ash', 'Tucker', 'Tobi', 'Chester', 'Wilson',\n",
       "       'Sunshine', 'Lipton', 'Gabby', 'Bronte', 'Poppy', 'Rhino',\n",
       "       'Willow', 'not', 'Orion', 'Eevee', 'Smiley', 'Logan', 'Moreton',\n",
       "       'Klein', 'Miguel', 'Emanuel', 'Kuyu', 'Dutch', 'Pete', 'Scooter',\n",
       "       'Reggie', 'Kyro', 'Samson', 'Loki', 'Mia', 'Malcolm', 'Dexter',\n",
       "       'Alfie', 'Fiona', 'one', 'Mutt', 'Bear', 'Doobert', 'Beebop',\n",
       "       'Alexander', 'Sailer', 'Brutus', 'Kona', 'Boots', 'Ralphie',\n",
       "       'Phil', 'Cupid', 'Pawnd', 'Pilot', 'Ike', 'Mo', 'Toby', 'Sweet',\n",
       "       'Pablo', 'Nala', 'Balto', 'Crawford', 'Gabe', 'Mattie', 'Jimison',\n",
       "       'Hercules', 'Duchess', 'Harlso', 'Sampson', 'Sundance', 'Luca',\n",
       "       'Flash', 'Finn', 'Peaches', 'Howie', 'Jazzy', 'Anna', 'Bo',\n",
       "       'Seamus', 'Wafer', 'Chelsea', 'Tom', 'Moose', 'Florence', 'Autumn',\n",
       "       'Dido', 'Eugene', 'Herschel', 'Strudel', 'Tebow', 'Chloe', 'Betty',\n",
       "       'Timber', 'Binky', 'Dudley', 'Comet', 'Larry', 'Levi', 'Akumi',\n",
       "       'Titan', 'Olivia', 'Alf', 'Oshie', 'Bruce', 'Chubbs', 'Sky',\n",
       "       'Atlas', 'Eleanor', 'Layla', 'Rocky', 'Baron', 'Tyr', 'Bauer',\n",
       "       'Swagger', 'Brandi', 'Mary', 'Moe', 'Halo', 'Augie', 'Craig',\n",
       "       'Sam', 'Hunter', 'Pavlov', 'Maximus', 'Wallace', 'Ito', 'Milo',\n",
       "       'Ollie', 'Cali', 'Lennon', 'incredibly', 'Major', 'Duke',\n",
       "       'Reginald', 'Sansa', 'Shooter', 'Django', 'Diogi', 'Sonny',\n",
       "       'Philbert', 'Marley', 'Severus', 'Ronnie', 'Anakin', 'Bones',\n",
       "       'Mauve', 'Chef', 'Doc', 'Sobe', 'Longfellow', 'Mister', 'Iroh',\n",
       "       'Baloo', 'Stubert', 'Paull', 'Timison', 'Davey', 'Pancake',\n",
       "       'Tyrone', 'Snicku', 'Ruby', 'Brody', 'Rizzy', 'Mack', 'Butter',\n",
       "       'Nimbus', 'Laika', 'Dobby', 'Juno', 'Maude', 'Lily', 'Newt',\n",
       "       'Benji', 'Nida', 'Robin', 'Monster', 'BeBe', 'Remus', 'Mabel',\n",
       "       'Misty', 'Happy', 'Mosby', 'Maggie', 'Leela', 'Ralphy', 'Brownie',\n",
       "       'Meyer', 'Stella', 'mad', 'Frank', 'Tonks', 'Lincoln', 'Oakley',\n",
       "       'Dale', 'Rizzo', 'Arnie', 'Pinot', 'Dallas', 'Hero', 'Frankie',\n",
       "       'Stormy', 'Mairi', 'Loomis', 'Godi', 'Kenny', 'Deacon', 'Timmy',\n",
       "       'Harper', 'Chipson', 'Combo', 'Dash', 'Bell', 'Hurley', 'Jay',\n",
       "       'Mya', 'Strider', 'an', 'Wesley', 'Solomon', 'Huck', 'very', 'O',\n",
       "       'Blue', 'Finley', 'Sprinkles', 'Heinrich', 'Shakespeare', 'Fizz',\n",
       "       'Chip', 'Grey', 'Roosevelt', 'Gromit', 'Willem', 'Dakota', 'Dixie',\n",
       "       'Al', 'Jackson', 'just', 'Carbon', 'DonDon', 'Kirby', 'Lou',\n",
       "       'Nollie', 'Chevy', 'Tito', 'Louie', 'Rupert', 'Rufus', 'Brudge',\n",
       "       'Shadoe', 'Colby', 'Angel', 'Brat', 'Tove', 'my', 'Aubie', 'Kota',\n",
       "       'Eve', 'Glenn', 'Shelby', 'Sephie', 'Bonaparte', 'Albert',\n",
       "       'Wishes', 'Rose', 'Theo', 'Rocco', 'Fido', 'Emma', 'Spencer',\n",
       "       'Lilli', 'Boston', 'Brandonald', 'Corey', 'Leonard', 'Chompsky',\n",
       "       'Beckham', 'Devón', 'Gert', 'Watson', 'Rubio', 'Keith', 'Dex',\n",
       "       'Carly', 'Ace', 'Tayzie', 'Grizzie', 'Fred', 'Gilbert', 'Zoe',\n",
       "       'Stewie', 'Calvin', 'Lilah', 'Spanky', 'Jameson', 'Piper',\n",
       "       'Atticus', 'Blu', 'Dietrich', 'Divine', 'Tripp', 'his', 'Cora',\n",
       "       'Huxley', 'Keurig', 'Bookstore', 'Linus', 'Abby', 'Shaggy',\n",
       "       'Shiloh', 'Gustav', 'Arlen', 'Percy', 'Lenox', 'Sugar', 'Harvey',\n",
       "       'Blanket', 'actually', 'Geno', 'Stark', 'Beya', 'Kilo', 'Kayla',\n",
       "       'Maxaroni', 'Doug', 'Edmund', 'Aqua', 'Theodore', 'Chase',\n",
       "       'getting', 'Rorie', 'Simba', 'Charles', 'Bayley', 'Axel',\n",
       "       'Storkson', 'Remy', 'Chadrick', 'Kellogg', 'Buckley', 'Livvie',\n",
       "       'Terry', 'Hermione', 'Ralpher', 'Aldrick', 'this', 'unacceptable',\n",
       "       'Rooney', 'Crystal', 'Ziva', 'Stefan', 'Pupcasso', 'Puff',\n",
       "       'Flurpson', 'Coleman', 'Enchilada', 'Raymond', 'all', 'Rueben',\n",
       "       'Cilantro', 'Karll', 'Sprout', 'Blitz', 'Bloop', 'Lillie',\n",
       "       'Ashleigh', 'Kreggory', 'Sarge', 'Luther', 'Ivar', 'Jangle',\n",
       "       'Schnitzel', 'Panda', 'Berkeley', 'Ralphé', 'Charleson', 'Clyde',\n",
       "       'Harnold', 'Sid', 'Pippa', 'Otis', 'Carper', 'Bowie',\n",
       "       'Alexanderson', 'Suki', 'Barclay', 'Skittle', 'Ebby', 'Flávio',\n",
       "       'Smokey', 'Link', 'Jennifur', 'Ozzy', 'Bluebert', 'Stephanus',\n",
       "       'Bubbles', 'old', 'Zeus', 'Bertson', 'Nico', 'Michelangelope',\n",
       "       'Siba', 'Calbert', 'Curtis', 'Travis', 'Thumas', 'Kanu', 'Lance',\n",
       "       'Opie', 'Kane', 'Olive', 'Chuckles', 'Staniel', 'Sora', 'Beemo',\n",
       "       'Gunner', 'infuriating', 'Lacy', 'Tater', 'Olaf', 'Cecil', 'Vince',\n",
       "       'Karma', 'Billy', 'Walker', 'Rodney', 'Klevin', 'Malikai',\n",
       "       'Bobble', 'River', 'Jebberson', 'Remington', 'Farfle', 'Jiminus',\n",
       "       'Clarkus', 'Finnegus', 'Cupcake', 'Kathmandu', 'Ellie', 'Katie',\n",
       "       'Kara', 'Adele', 'Zara', 'Ambrose', 'Jimothy', 'Bode', 'Terrenth',\n",
       "       'Reese', 'Chesterson', 'Lucia', 'Bisquick', 'Ralphson', 'Socks',\n",
       "       'Rambo', 'Rudy', 'Fiji', 'Rilo', 'Bilbo', 'Coopson', 'Yoda',\n",
       "       'Millie', 'Chet', 'Crouton', 'Daniel', 'Kaia', 'Murphy', 'Dotsy',\n",
       "       'Eazy', 'Coops', 'Fillup', 'Miley', 'Charl', 'Reagan', 'Yukon',\n",
       "       'CeCe', 'Cuddles', 'Claude', 'Jessiga', 'Carter', 'Ole', 'Pherb',\n",
       "       'Blipson', 'Reptar', 'Trevith', 'Berb', 'Bob', 'Colin', 'Brian',\n",
       "       'Oliviér', 'Grady', 'Kobe', 'Freddery', 'Bodie', 'Dunkin', 'Wally',\n",
       "       'Tupawc', 'Amber', 'Edgar', 'Teddy', 'Kingsley', 'Brockly',\n",
       "       'Richie', 'Molly', 'Vinscent', 'Cedrick', 'Hazel', 'Lolo', 'Eriq',\n",
       "       'Phred', 'the', 'Oddie', 'Maxwell', 'Geoff', 'Covach', 'Durg',\n",
       "       'Fynn', 'Ricky', 'Herald', 'Lucky', 'Ferg', 'Trip', 'Clarence',\n",
       "       'Hamrick', 'Brad', 'Pubert', 'Frönq', 'Derby', 'Lizzie', 'Ember',\n",
       "       'Blakely', 'Opal', 'Marq', 'Kramer', 'Barry', 'Gordon', 'Baxter',\n",
       "       'Mona', 'Horace', 'Crimson', 'Birf', 'Hammond', 'Lorelei', 'Marty',\n",
       "       'Brooks', 'Petrick', 'Hubertson', 'Gerbald', 'Oreo', 'Bruiser',\n",
       "       'Perry', 'Bobby', 'Jeph', 'Obi', 'Tino', 'Kulet', 'Sweets', 'Lupe',\n",
       "       'Tiger', 'Jiminy', 'Griffin', 'Banjo', 'Brandy', 'Lulu', 'Darrel',\n",
       "       'Taco', 'Joey', 'Patrick', 'Kreg', 'Todo', 'Tess', 'Ulysses',\n",
       "       'Toffee', 'Apollo', 'Asher', 'Glacier', 'Chuck', 'Champ', 'Ozzie',\n",
       "       'Griswold', 'Cheesy', 'Moofasa', 'Hector', 'Goliath', 'Kawhi',\n",
       "       'by', 'Emmie', 'Penelope', 'Willie', 'Rinna', 'Mike', 'William',\n",
       "       'Dwight', 'Evy', 'officially', 'Rascal', 'Linda', 'Tug', 'Tango',\n",
       "       'Grizz', 'Jerome', 'Crumpet', 'Jessifer', 'Izzy', 'Ralph', 'Sandy',\n",
       "       'Humphrey', 'Tassy', 'Juckson', 'Chuq', 'Tyrus', 'Karl',\n",
       "       'Godzilla', 'Vinnie', 'Kenneth', 'Herm', 'Bert', 'Striker',\n",
       "       'Donny', 'Pepper', 'Bernie', 'Buddah', 'Lenny', 'Arnold', 'Zuzu',\n",
       "       'Mollie', 'Laela', 'Tedders', 'Superpup', 'Rufio', 'Jeb', 'Rodman',\n",
       "       'Jonah', 'Chesney', 'life', 'Henry', 'Bobbay', 'Mitch', 'Kaiya',\n",
       "       'Acro', 'Aiden', 'Obie', 'Dot', 'Shnuggles', 'Kendall', 'Jeffri',\n",
       "       'Steve', 'Mac', 'Fletcher', 'Kenzie', 'Pumpkin', 'Schnozz',\n",
       "       'Gustaf', 'Cheryl', 'Ed', 'Leonidas', 'Norman', 'Caryl', 'Scott',\n",
       "       'Taz', 'Darby', 'Jackie', 'light', 'Jazz', 'Franq', 'Pippin',\n",
       "       'Rolf', 'Snickers', 'Ridley', 'Cal', 'Bradley', 'Bubba', 'Tuco',\n",
       "       'Patch', 'Mojo', 'Batdog', 'Dylan', 'space', 'Mark', 'JD',\n",
       "       'Alejandro', 'Scruffers', 'Pip', 'Julius', 'Tanner', 'Sparky',\n",
       "       'Anthony', 'Holly', 'Jett', 'Amy', 'Sage', 'Andy', 'Mason',\n",
       "       'Trigger', 'Antony', 'Creg', 'Traviss', 'Gin', 'Jeffrie', 'Danny',\n",
       "       'Ester', 'Pluto', 'Bloo', 'Edd', 'Willy', 'Herb', 'Damon',\n",
       "       'Peanut', 'Nigel', 'Butters', 'Sandra', 'Fabio', 'Randall', 'Liam',\n",
       "       'Tommy', 'Ben', 'Raphael', 'Julio', 'Andru', 'Kloey', 'Shawwn',\n",
       "       'Skye', 'Kollin', 'Ronduh', 'Billl', 'Saydee', 'Dug', 'Tessa',\n",
       "       'Sully', 'Kirk', 'Ralf', 'Clarq', 'Jaspers', 'Samsom', 'Harrison',\n",
       "       'Chaz', 'Jeremy', 'Jaycob', 'Lambeau', 'Ruffles', 'Amélie', 'Bobb',\n",
       "       'Banditt', 'Kevon', 'Winifred', 'Hanz', 'Churlie', 'Zeek',\n",
       "       'Timofy', 'Maks', 'Jomathan', 'Kallie', 'Marvin', 'Spark',\n",
       "       'Gòrdón', 'Jo', 'DayZ', 'Jareld', 'Torque', 'Ron', 'Skittles',\n",
       "       'Cleopatricia', 'Erik', 'Stu', 'Tedrick', 'Filup', 'Kial',\n",
       "       'Naphaniel', 'Dook', 'Hall', 'Philippe', 'Biden', 'Fwed',\n",
       "       'Genevieve', 'Joshwa', 'Bradlay', 'Clybe', 'Keet', 'Carll',\n",
       "       'Jockson', 'Josep', 'Lugan', 'Christoper'], dtype=object)"
      ]
     },
     "execution_count": 15,
     "metadata": {},
     "output_type": "execute_result"
    }
   ],
   "source": [
    "# uniques names in name columns\n",
    "twitter.name.unique()"
   ]
  },
  {
   "cell_type": "code",
   "execution_count": 16,
   "metadata": {},
   "outputs": [
    {
     "data": {
      "text/plain": [
       "array([  13,   12,   14,    5,   17,   11,   10,  420,  666,    6,   15,\n",
       "        182,  960,    0,   75,    7,   84,    9,   24,    8,    1,   27,\n",
       "          3,    4,  165, 1776,  204,   50,   99,   80,   45,   60,   44,\n",
       "        143,  121,   20,   26,    2,  144,   88])"
      ]
     },
     "execution_count": 16,
     "metadata": {},
     "output_type": "execute_result"
    }
   ],
   "source": [
    "#number of unique rating_numerator\n",
    "twitter.rating_numerator.unique()"
   ]
  },
  {
   "cell_type": "code",
   "execution_count": 17,
   "metadata": {},
   "outputs": [
    {
     "data": {
      "text/plain": [
       "array([ 10,   0,  15,  70,   7,  11, 150, 170,  20,  50,  90,  80,  40,\n",
       "       130, 110,  16, 120,   2])"
      ]
     },
     "execution_count": 17,
     "metadata": {},
     "output_type": "execute_result"
    }
   ],
   "source": [
    "#number of unique rating_denominator\n",
    "twitter.rating_denominator.unique()"
   ]
  },
  {
   "cell_type": "code",
   "execution_count": 18,
   "metadata": {
    "scrolled": true
   },
   "outputs": [
    {
     "data": {
      "text/plain": [
       "12      558\n",
       "11      464\n",
       "10      461\n",
       "13      351\n",
       "9       158\n",
       "8       102\n",
       "7        55\n",
       "14       54\n",
       "5        37\n",
       "6        32\n",
       "3        19\n",
       "4        17\n",
       "1         9\n",
       "2         9\n",
       "420       2\n",
       "0         2\n",
       "15        2\n",
       "75        2\n",
       "80        1\n",
       "20        1\n",
       "24        1\n",
       "26        1\n",
       "44        1\n",
       "50        1\n",
       "60        1\n",
       "165       1\n",
       "84        1\n",
       "88        1\n",
       "144       1\n",
       "182       1\n",
       "143       1\n",
       "666       1\n",
       "960       1\n",
       "1776      1\n",
       "17        1\n",
       "27        1\n",
       "45        1\n",
       "99        1\n",
       "121       1\n",
       "204       1\n",
       "Name: rating_numerator, dtype: int64"
      ]
     },
     "execution_count": 18,
     "metadata": {},
     "output_type": "execute_result"
    }
   ],
   "source": [
    "#Value counts from rating_numerator\n",
    "twitter.rating_numerator.value_counts()"
   ]
  },
  {
   "cell_type": "code",
   "execution_count": 19,
   "metadata": {
    "scrolled": true
   },
   "outputs": [
    {
     "data": {
      "text/plain": [
       "10     2333\n",
       "11        3\n",
       "50        3\n",
       "80        2\n",
       "20        2\n",
       "2         1\n",
       "16        1\n",
       "40        1\n",
       "70        1\n",
       "15        1\n",
       "90        1\n",
       "110       1\n",
       "120       1\n",
       "130       1\n",
       "150       1\n",
       "170       1\n",
       "7         1\n",
       "0         1\n",
       "Name: rating_denominator, dtype: int64"
      ]
     },
     "execution_count": 19,
     "metadata": {},
     "output_type": "execute_result"
    }
   ],
   "source": [
    "#Value counts from rating_denominator\n",
    "twitter.rating_denominator.value_counts()"
   ]
  },
  {
   "cell_type": "code",
   "execution_count": 20,
   "metadata": {},
   "outputs": [
    {
     "data": {
      "text/plain": [
       "(array(['None', 'doggo'], dtype=object),\n",
       " array(['None', 'floofer'], dtype=object),\n",
       " array(['None', 'pupper'], dtype=object),\n",
       " array(['None', 'puppo'], dtype=object))"
      ]
     },
     "execution_count": 20,
     "metadata": {},
     "output_type": "execute_result"
    }
   ],
   "source": [
    "# unique values from dog types columns\n",
    "twitter.doggo.unique(), twitter.floofer.unique(), twitter.pupper.unique(), twitter.puppo.unique()"
   ]
  },
  {
   "cell_type": "code",
   "execution_count": 21,
   "metadata": {},
   "outputs": [
    {
     "data": {
      "text/html": [
       "<div>\n",
       "<style scoped>\n",
       "    .dataframe tbody tr th:only-of-type {\n",
       "        vertical-align: middle;\n",
       "    }\n",
       "\n",
       "    .dataframe tbody tr th {\n",
       "        vertical-align: top;\n",
       "    }\n",
       "\n",
       "    .dataframe thead th {\n",
       "        text-align: right;\n",
       "    }\n",
       "</style>\n",
       "<table border=\"1\" class=\"dataframe\">\n",
       "  <thead>\n",
       "    <tr style=\"text-align: right;\">\n",
       "      <th></th>\n",
       "      <th>tweet_id</th>\n",
       "      <th>jpg_url</th>\n",
       "      <th>img_num</th>\n",
       "      <th>p1</th>\n",
       "      <th>p1_conf</th>\n",
       "      <th>p1_dog</th>\n",
       "      <th>p2</th>\n",
       "      <th>p2_conf</th>\n",
       "      <th>p2_dog</th>\n",
       "      <th>p3</th>\n",
       "      <th>p3_conf</th>\n",
       "      <th>p3_dog</th>\n",
       "    </tr>\n",
       "  </thead>\n",
       "  <tbody>\n",
       "    <tr>\n",
       "      <th>0</th>\n",
       "      <td>666020888022790149</td>\n",
       "      <td>https://pbs.twimg.com/media/CT4udn0WwAA0aMy.jpg</td>\n",
       "      <td>1</td>\n",
       "      <td>Welsh_springer_spaniel</td>\n",
       "      <td>0.465074</td>\n",
       "      <td>True</td>\n",
       "      <td>collie</td>\n",
       "      <td>0.156665</td>\n",
       "      <td>True</td>\n",
       "      <td>Shetland_sheepdog</td>\n",
       "      <td>0.061428</td>\n",
       "      <td>True</td>\n",
       "    </tr>\n",
       "    <tr>\n",
       "      <th>1</th>\n",
       "      <td>666029285002620928</td>\n",
       "      <td>https://pbs.twimg.com/media/CT42GRgUYAA5iDo.jpg</td>\n",
       "      <td>1</td>\n",
       "      <td>redbone</td>\n",
       "      <td>0.506826</td>\n",
       "      <td>True</td>\n",
       "      <td>miniature_pinscher</td>\n",
       "      <td>0.074192</td>\n",
       "      <td>True</td>\n",
       "      <td>Rhodesian_ridgeback</td>\n",
       "      <td>0.072010</td>\n",
       "      <td>True</td>\n",
       "    </tr>\n",
       "    <tr>\n",
       "      <th>2</th>\n",
       "      <td>666033412701032449</td>\n",
       "      <td>https://pbs.twimg.com/media/CT4521TWwAEvMyu.jpg</td>\n",
       "      <td>1</td>\n",
       "      <td>German_shepherd</td>\n",
       "      <td>0.596461</td>\n",
       "      <td>True</td>\n",
       "      <td>malinois</td>\n",
       "      <td>0.138584</td>\n",
       "      <td>True</td>\n",
       "      <td>bloodhound</td>\n",
       "      <td>0.116197</td>\n",
       "      <td>True</td>\n",
       "    </tr>\n",
       "    <tr>\n",
       "      <th>3</th>\n",
       "      <td>666044226329800704</td>\n",
       "      <td>https://pbs.twimg.com/media/CT5Dr8HUEAA-lEu.jpg</td>\n",
       "      <td>1</td>\n",
       "      <td>Rhodesian_ridgeback</td>\n",
       "      <td>0.408143</td>\n",
       "      <td>True</td>\n",
       "      <td>redbone</td>\n",
       "      <td>0.360687</td>\n",
       "      <td>True</td>\n",
       "      <td>miniature_pinscher</td>\n",
       "      <td>0.222752</td>\n",
       "      <td>True</td>\n",
       "    </tr>\n",
       "    <tr>\n",
       "      <th>4</th>\n",
       "      <td>666049248165822465</td>\n",
       "      <td>https://pbs.twimg.com/media/CT5IQmsXIAAKY4A.jpg</td>\n",
       "      <td>1</td>\n",
       "      <td>miniature_pinscher</td>\n",
       "      <td>0.560311</td>\n",
       "      <td>True</td>\n",
       "      <td>Rottweiler</td>\n",
       "      <td>0.243682</td>\n",
       "      <td>True</td>\n",
       "      <td>Doberman</td>\n",
       "      <td>0.154629</td>\n",
       "      <td>True</td>\n",
       "    </tr>\n",
       "    <tr>\n",
       "      <th>...</th>\n",
       "      <td>...</td>\n",
       "      <td>...</td>\n",
       "      <td>...</td>\n",
       "      <td>...</td>\n",
       "      <td>...</td>\n",
       "      <td>...</td>\n",
       "      <td>...</td>\n",
       "      <td>...</td>\n",
       "      <td>...</td>\n",
       "      <td>...</td>\n",
       "      <td>...</td>\n",
       "      <td>...</td>\n",
       "    </tr>\n",
       "    <tr>\n",
       "      <th>2070</th>\n",
       "      <td>891327558926688256</td>\n",
       "      <td>https://pbs.twimg.com/media/DF6hr6BUMAAzZgT.jpg</td>\n",
       "      <td>2</td>\n",
       "      <td>basset</td>\n",
       "      <td>0.555712</td>\n",
       "      <td>True</td>\n",
       "      <td>English_springer</td>\n",
       "      <td>0.225770</td>\n",
       "      <td>True</td>\n",
       "      <td>German_short-haired_pointer</td>\n",
       "      <td>0.175219</td>\n",
       "      <td>True</td>\n",
       "    </tr>\n",
       "    <tr>\n",
       "      <th>2071</th>\n",
       "      <td>891689557279858688</td>\n",
       "      <td>https://pbs.twimg.com/media/DF_q7IAWsAEuuN8.jpg</td>\n",
       "      <td>1</td>\n",
       "      <td>paper_towel</td>\n",
       "      <td>0.170278</td>\n",
       "      <td>False</td>\n",
       "      <td>Labrador_retriever</td>\n",
       "      <td>0.168086</td>\n",
       "      <td>True</td>\n",
       "      <td>spatula</td>\n",
       "      <td>0.040836</td>\n",
       "      <td>False</td>\n",
       "    </tr>\n",
       "    <tr>\n",
       "      <th>2072</th>\n",
       "      <td>891815181378084864</td>\n",
       "      <td>https://pbs.twimg.com/media/DGBdLU1WsAANxJ9.jpg</td>\n",
       "      <td>1</td>\n",
       "      <td>Chihuahua</td>\n",
       "      <td>0.716012</td>\n",
       "      <td>True</td>\n",
       "      <td>malamute</td>\n",
       "      <td>0.078253</td>\n",
       "      <td>True</td>\n",
       "      <td>kelpie</td>\n",
       "      <td>0.031379</td>\n",
       "      <td>True</td>\n",
       "    </tr>\n",
       "    <tr>\n",
       "      <th>2073</th>\n",
       "      <td>892177421306343426</td>\n",
       "      <td>https://pbs.twimg.com/media/DGGmoV4XsAAUL6n.jpg</td>\n",
       "      <td>1</td>\n",
       "      <td>Chihuahua</td>\n",
       "      <td>0.323581</td>\n",
       "      <td>True</td>\n",
       "      <td>Pekinese</td>\n",
       "      <td>0.090647</td>\n",
       "      <td>True</td>\n",
       "      <td>papillon</td>\n",
       "      <td>0.068957</td>\n",
       "      <td>True</td>\n",
       "    </tr>\n",
       "    <tr>\n",
       "      <th>2074</th>\n",
       "      <td>892420643555336193</td>\n",
       "      <td>https://pbs.twimg.com/media/DGKD1-bXoAAIAUK.jpg</td>\n",
       "      <td>1</td>\n",
       "      <td>orange</td>\n",
       "      <td>0.097049</td>\n",
       "      <td>False</td>\n",
       "      <td>bagel</td>\n",
       "      <td>0.085851</td>\n",
       "      <td>False</td>\n",
       "      <td>banana</td>\n",
       "      <td>0.076110</td>\n",
       "      <td>False</td>\n",
       "    </tr>\n",
       "  </tbody>\n",
       "</table>\n",
       "<p>2075 rows × 12 columns</p>\n",
       "</div>"
      ],
      "text/plain": [
       "                tweet_id                                          jpg_url  \\\n",
       "0     666020888022790149  https://pbs.twimg.com/media/CT4udn0WwAA0aMy.jpg   \n",
       "1     666029285002620928  https://pbs.twimg.com/media/CT42GRgUYAA5iDo.jpg   \n",
       "2     666033412701032449  https://pbs.twimg.com/media/CT4521TWwAEvMyu.jpg   \n",
       "3     666044226329800704  https://pbs.twimg.com/media/CT5Dr8HUEAA-lEu.jpg   \n",
       "4     666049248165822465  https://pbs.twimg.com/media/CT5IQmsXIAAKY4A.jpg   \n",
       "...                  ...                                              ...   \n",
       "2070  891327558926688256  https://pbs.twimg.com/media/DF6hr6BUMAAzZgT.jpg   \n",
       "2071  891689557279858688  https://pbs.twimg.com/media/DF_q7IAWsAEuuN8.jpg   \n",
       "2072  891815181378084864  https://pbs.twimg.com/media/DGBdLU1WsAANxJ9.jpg   \n",
       "2073  892177421306343426  https://pbs.twimg.com/media/DGGmoV4XsAAUL6n.jpg   \n",
       "2074  892420643555336193  https://pbs.twimg.com/media/DGKD1-bXoAAIAUK.jpg   \n",
       "\n",
       "      img_num                      p1   p1_conf  p1_dog                  p2  \\\n",
       "0           1  Welsh_springer_spaniel  0.465074    True              collie   \n",
       "1           1                 redbone  0.506826    True  miniature_pinscher   \n",
       "2           1         German_shepherd  0.596461    True            malinois   \n",
       "3           1     Rhodesian_ridgeback  0.408143    True             redbone   \n",
       "4           1      miniature_pinscher  0.560311    True          Rottweiler   \n",
       "...       ...                     ...       ...     ...                 ...   \n",
       "2070        2                  basset  0.555712    True    English_springer   \n",
       "2071        1             paper_towel  0.170278   False  Labrador_retriever   \n",
       "2072        1               Chihuahua  0.716012    True            malamute   \n",
       "2073        1               Chihuahua  0.323581    True            Pekinese   \n",
       "2074        1                  orange  0.097049   False               bagel   \n",
       "\n",
       "       p2_conf  p2_dog                           p3   p3_conf  p3_dog  \n",
       "0     0.156665    True            Shetland_sheepdog  0.061428    True  \n",
       "1     0.074192    True          Rhodesian_ridgeback  0.072010    True  \n",
       "2     0.138584    True                   bloodhound  0.116197    True  \n",
       "3     0.360687    True           miniature_pinscher  0.222752    True  \n",
       "4     0.243682    True                     Doberman  0.154629    True  \n",
       "...        ...     ...                          ...       ...     ...  \n",
       "2070  0.225770    True  German_short-haired_pointer  0.175219    True  \n",
       "2071  0.168086    True                      spatula  0.040836   False  \n",
       "2072  0.078253    True                       kelpie  0.031379    True  \n",
       "2073  0.090647    True                     papillon  0.068957    True  \n",
       "2074  0.085851   False                       banana  0.076110   False  \n",
       "\n",
       "[2075 rows x 12 columns]"
      ]
     },
     "execution_count": 21,
     "metadata": {},
     "output_type": "execute_result"
    }
   ],
   "source": [
    "images"
   ]
  },
  {
   "cell_type": "code",
   "execution_count": 22,
   "metadata": {
    "scrolled": true
   },
   "outputs": [
    {
     "name": "stdout",
     "output_type": "stream",
     "text": [
      "<class 'pandas.core.frame.DataFrame'>\n",
      "RangeIndex: 2075 entries, 0 to 2074\n",
      "Data columns (total 12 columns):\n",
      " #   Column    Non-Null Count  Dtype  \n",
      "---  ------    --------------  -----  \n",
      " 0   tweet_id  2075 non-null   int64  \n",
      " 1   jpg_url   2075 non-null   object \n",
      " 2   img_num   2075 non-null   int64  \n",
      " 3   p1        2075 non-null   object \n",
      " 4   p1_conf   2075 non-null   float64\n",
      " 5   p1_dog    2075 non-null   bool   \n",
      " 6   p2        2075 non-null   object \n",
      " 7   p2_conf   2075 non-null   float64\n",
      " 8   p2_dog    2075 non-null   bool   \n",
      " 9   p3        2075 non-null   object \n",
      " 10  p3_conf   2075 non-null   float64\n",
      " 11  p3_dog    2075 non-null   bool   \n",
      "dtypes: bool(3), float64(3), int64(2), object(4)\n",
      "memory usage: 152.1+ KB\n"
     ]
    }
   ],
   "source": [
    "#info about images table\n",
    "images.info()"
   ]
  },
  {
   "cell_type": "code",
   "execution_count": 23,
   "metadata": {
    "scrolled": true
   },
   "outputs": [
    {
     "data": {
      "text/plain": [
       "2075"
      ]
     },
     "execution_count": 23,
     "metadata": {},
     "output_type": "execute_result"
    }
   ],
   "source": [
    "# number of unique values in tweet_id \n",
    "images.tweet_id.nunique()"
   ]
  },
  {
   "cell_type": "code",
   "execution_count": 24,
   "metadata": {},
   "outputs": [
    {
     "data": {
      "text/plain": [
       "0"
      ]
     },
     "execution_count": 24,
     "metadata": {},
     "output_type": "execute_result"
    }
   ],
   "source": [
    "sum(images.duplicated())"
   ]
  },
  {
   "cell_type": "code",
   "execution_count": 25,
   "metadata": {},
   "outputs": [
    {
     "data": {
      "text/plain": [
       "array([1, 4, 2, 3])"
      ]
     },
     "execution_count": 25,
     "metadata": {},
     "output_type": "execute_result"
    }
   ],
   "source": [
    "images.img_num.unique()"
   ]
  },
  {
   "cell_type": "code",
   "execution_count": 26,
   "metadata": {},
   "outputs": [
    {
     "data": {
      "text/plain": [
       "array(['Welsh_springer_spaniel', 'redbone', 'German_shepherd',\n",
       "       'Rhodesian_ridgeback', 'miniature_pinscher',\n",
       "       'Bernese_mountain_dog', 'box_turtle', 'chow', 'shopping_cart',\n",
       "       'miniature_poodle', 'golden_retriever', 'Gordon_setter',\n",
       "       'Walker_hound', 'pug', 'bloodhound', 'Lhasa', 'English_setter',\n",
       "       'hen', 'desktop_computer', 'Italian_greyhound', 'Maltese_dog',\n",
       "       'three-toed_sloth', 'ox', 'malamute', 'guinea_pig',\n",
       "       'soft-coated_wheaten_terrier', 'Chihuahua',\n",
       "       'black-and-tan_coonhound', 'coho', 'toy_terrier',\n",
       "       'Blenheim_spaniel', 'Pembroke', 'llama',\n",
       "       'Chesapeake_Bay_retriever', 'curly-coated_retriever', 'dalmatian',\n",
       "       'Ibizan_hound', 'Border_collie', 'Labrador_retriever', 'seat_belt',\n",
       "       'snail', 'miniature_schnauzer', 'Airedale', 'triceratops', 'swab',\n",
       "       'hay', 'hyena', 'jigsaw_puzzle', 'West_Highland_white_terrier',\n",
       "       'toy_poodle', 'giant_schnauzer', 'vizsla', 'vacuum', 'Rottweiler',\n",
       "       'Siberian_husky', 'teddy', 'papillon', 'Saint_Bernard',\n",
       "       'porcupine', 'goose', 'Tibetan_terrier', 'borzoi', 'beagle',\n",
       "       'hare', 'Yorkshire_terrier', 'Pomeranian', 'electric_fan',\n",
       "       'web_site', 'ibex', 'kuvasz', 'fire_engine', 'lorikeet',\n",
       "       'flat-coated_retriever', 'toyshop', 'common_iguana',\n",
       "       'Norwegian_elkhound', 'frilled_lizard', 'leatherback_turtle',\n",
       "       'hamster', 'Angora', 'Arctic_fox', 'trombone', 'canoe',\n",
       "       'king_penguin', 'shopping_basket', 'standard_poodle',\n",
       "       'Staffordshire_bullterrier', 'basenji', 'Lakeland_terrier',\n",
       "       'American_Staffordshire_terrier', 'bearskin', 'Shih-Tzu',\n",
       "       'bustard', 'crash_helmet', 'French_bulldog', 'Pekinese',\n",
       "       'komondor', 'ski_mask', 'malinois', 'kelpie', 'Brittany_spaniel',\n",
       "       'cocker_spaniel', 'shower_curtain', 'basset', 'jellyfish',\n",
       "       'doormat', 'Arabian_camel', 'lynx', 'hog', 'comic_book', 'minivan',\n",
       "       'seashore', 'cuirass', 'Brabancon_griffon', 'candle', 'Eskimo_dog',\n",
       "       'weasel', 'Christmas_stocking', 'washbasin', 'car_mirror',\n",
       "       'piggy_bank', 'pot', 'boathouse', 'mud_turtle',\n",
       "       'German_short-haired_pointer', 'Shetland_sheepdog',\n",
       "       'Irish_terrier', 'cairn', 'platypus', 'English_springer',\n",
       "       'whippet', 'ping-pong_ball', 'sea_urchin', 'bow_tie',\n",
       "       'window_shade', \"jack-o'-lantern\", 'sorrel', 'Sussex_spaniel',\n",
       "       'peacock', 'axolotl', 'wool', 'banana', 'Dandie_Dinmont',\n",
       "       'Norwich_terrier', 'wood_rabbit', 'dhole', 'keeshond',\n",
       "       'Norfolk_terrier', 'lacewing', 'dingo', 'brown_bear',\n",
       "       'Old_English_sheepdog', 'scorpion', 'flamingo', 'microphone',\n",
       "       'Samoyed', 'pitcher', 'African_hunting_dog', 'refrigerator',\n",
       "       'picket_fence', 'tub', 'zebra', 'hermit_crab', 'swing', 'Doberman',\n",
       "       'park_bench', 'feather_boa', 'Loafer', 'stone_wall', 'ice_bear',\n",
       "       'prayer_rug', 'chimpanzee', 'china_cabinet', 'bee_eater',\n",
       "       'tennis_ball', 'carton', 'killer_whale', 'ostrich', 'terrapin',\n",
       "       'Siamese_cat', 'gondola', 'Great_Pyrenees', 'microwave',\n",
       "       'starfish', 'sandbar', 'tusker', 'motor_scooter', 'ram',\n",
       "       'leaf_beetle', 'wombat', 'schipperke', 'Newfoundland',\n",
       "       'bull_mastiff', 'water_bottle', 'suit', 'toilet_seat', 'collie',\n",
       "       'robin', 'Cardigan', 'Greater_Swiss_Mountain_dog', 'slug',\n",
       "       'toilet_tissue', 'acorn_squash', 'soccer_ball',\n",
       "       'African_crocodile', 'tick', 'ocarina', 'boxer', 'street_sign',\n",
       "       'bow', 'stove', 'paper_towel', 'upright', 'dough',\n",
       "       'Scottish_deerhound', 'bath_towel', 'standard_schnauzer',\n",
       "       'walking_stick', 'Irish_water_spaniel', 'bubble', 'Boston_bull',\n",
       "       'book_jacket', 'rain_barrel', 'black-footed_ferret', 'guenon',\n",
       "       'Japanese_spaniel', 'water_buffalo', 'patio', 'cowboy_hat',\n",
       "       'dogsled', 'maze', 'harp', 'panpipe', 'cash_machine', 'mailbox',\n",
       "       'wallaby', 'EntleBucher', 'earthstar', 'pillow', 'bluetick',\n",
       "       'space_heater', 'carousel', 'Irish_setter', 'birdhouse', 'snorkel',\n",
       "       'bald_eagle', 'koala', 'Leonberg', 'cheetah', 'minibus',\n",
       "       'Weimaraner', 'clog', 'dishwasher', 'white_wolf', 'sliding_door',\n",
       "       'damselfly', 'Great_Dane', 'Tibetan_mastiff', 'cheeseburger',\n",
       "       'fiddler_crab', 'bannister', 'crane', 'Scotch_terrier',\n",
       "       'snowmobile', 'badger', 'bighorn', 'geyser', 'barrow', 'bison',\n",
       "       'Mexican_hairless', 'ice_lolly', 'sea_lion', 'dining_table',\n",
       "       'groenendael', 'Australian_terrier', 'beaver', 'briard',\n",
       "       'Appenzeller', 'grey_fox', 'mousetrap', 'hippopotamus',\n",
       "       'Border_terrier', 'hummingbird', 'tailed_frog', 'otter',\n",
       "       'Egyptian_cat', 'four-poster', 'wild_boar', 'bathtub', 'agama',\n",
       "       'muzzle', 'hotdog', 'bib', 'espresso', 'timber_wolf', 'meerkat',\n",
       "       'nail', 'hammer', 'home_theater', 'alp', 'bonnet', 'handkerchief',\n",
       "       'hand_blower', 'polecat', 'lakeside', 'studio_couch', 'cup',\n",
       "       'cliff', 'Bedlington_terrier', 'lawn_mower', 'balloon',\n",
       "       'sunglasses', 'rapeseed', 'traffic_light', 'coil', 'binoculars',\n",
       "       'paddle', 'tiger_shark', 'sulphur-crested_cockatoo',\n",
       "       'wire-haired_fox_terrier', 'Saluki', 'American_black_bear',\n",
       "       'rotisserie', 'conch', 'skunk', 'bookshop', 'radio_telescope',\n",
       "       'cougar', 'African_grey', 'coral_reef', 'lion', 'maillot',\n",
       "       'Madagascar_cat', 'tabby', 'silky_terrier', 'giant_panda',\n",
       "       'long-horned_beetle', 'Afghan_hound', 'clumber', 'sundial',\n",
       "       'padlock', 'pool_table', 'quilt', 'beach_wagon', 'remote_control',\n",
       "       'bakery', 'pedestal', 'gas_pump', 'bookcase', 'shield', 'loupe',\n",
       "       'restaurant', 'prison', 'school_bus', 'cowboy_boot', 'jersey',\n",
       "       'wooden_spoon', 'leopard', 'mortarboard', 'teapot',\n",
       "       'military_uniform', 'washer', 'coffee_mug', 'fountain',\n",
       "       'pencil_box', 'barbell', 'grille', 'revolver', 'envelope',\n",
       "       'syringe', 'marmot', 'pole', 'laptop', 'basketball', 'tricycle',\n",
       "       'convertible', 'limousine', 'orange'], dtype=object)"
      ]
     },
     "execution_count": 26,
     "metadata": {},
     "output_type": "execute_result"
    }
   ],
   "source": [
    "images.p1.unique()"
   ]
  },
  {
   "cell_type": "code",
   "execution_count": 27,
   "metadata": {
    "scrolled": true
   },
   "outputs": [
    {
     "data": {
      "text/plain": [
       "array(['collie', 'miniature_pinscher', 'malinois', 'redbone',\n",
       "       'Rottweiler', 'English_springer', 'mud_turtle', 'Tibetan_mastiff',\n",
       "       'shopping_basket', 'komondor', 'Yorkshire_terrier',\n",
       "       'English_foxhound', 'bull_mastiff', 'German_shepherd', 'Shih-Tzu',\n",
       "       'Newfoundland', 'cock', 'desk', 'toy_terrier', 'toy_poodle',\n",
       "       'otter', 'Chesapeake_Bay_retriever', 'Siberian_husky', 'skunk',\n",
       "       'Afghan_hound', 'bloodhound', 'barracouta', 'papillon',\n",
       "       'cocker_spaniel', 'chow', 'Irish_terrier', 'chain_saw', 'beagle',\n",
       "       'giant_schnauzer', 'Labrador_retriever', 'Pembroke', 'Chihuahua',\n",
       "       'Weimaraner', 'slug', 'Brittany_spaniel', 'standard_schnauzer',\n",
       "       'teddy', 'armadillo', 'African_hunting_dog', 'vizsla', 'doormat',\n",
       "       'pug', 'Italian_greyhound', 'Samoyed', 'Pomeranian',\n",
       "       'miniature_poodle', 'Lakeland_terrier', 'Irish_setter', 'swab',\n",
       "       'malamute', 'bath_towel', 'Border_collie', 'Leonberg', 'drake',\n",
       "       'French_bulldog', 'ice_bear', 'Christmas_stocking',\n",
       "       'golden_retriever', 'standard_poodle', 'dhole', 'kuvasz',\n",
       "       'Cardigan', 'silky_terrier', 'spotlight', 'dishwasher', 'bighorn',\n",
       "       'tow_truck', 'hummingbird', 'English_setter', 'prayer_rug',\n",
       "       'frilled_lizard', 'Pekinese', 'ox', 'boxer', 'hog', 'guinea_pig',\n",
       "       'hen', 'wallaby', 'cowboy_boot', 'cornet', 'minivan', 'paddle',\n",
       "       'basset', 'hamper', 'Bedlington_terrier', 'Shetland_sheepdog',\n",
       "       'bow', 'Lhasa', 'pelican', 'toaster', 'groenendael',\n",
       "       'Australian_terrier', 'llama', 'knee_pad', 'pillow',\n",
       "       'Ibizan_hound', 'Old_English_sheepdog', 'Welsh_springer_spaniel',\n",
       "       'coral_reef', 'bison', 'waffle_iron', 'tabby', 'bib', 'police_van',\n",
       "       'Eskimo_dog', 'breastplate', 'German_short-haired_pointer',\n",
       "       'Norfolk_terrier', 'Blenheim_spaniel', 'pickup',\n",
       "       'miniature_schnauzer', 'lampshade', 'Tibetan_terrier',\n",
       "       'Siamese_cat', 'borzoi', 'studio_couch', 'toilet_seat', 'hamster',\n",
       "       'seat_belt', 'keeshond', 'koala', 'hair_spray', 'Saint_Bernard',\n",
       "       'tray', 'American_Staffordshire_terrier', 'birdhouse', 'terrapin',\n",
       "       'Staffordshire_bullterrier', 'briard',\n",
       "       'West_Highland_white_terrier', 'spotted_salamander', 'tennis_ball',\n",
       "       'porcupine', 'cardigan', 'corn', 'basenji', 'otterhound',\n",
       "       'European_gallinule', 'indri', 'tailed_frog', 'beach_wagon',\n",
       "       'siamang', 'orange', 'home_theater', 'cairn', 'hare',\n",
       "       'Norwegian_elkhound', 'Brabancon_griffon', 'American_black_bear',\n",
       "       'sulphur_butterfly', 'Sealyham_terrier', 'Walker_hound',\n",
       "       'tarantula', 'Persian_cat', 'coral_fungus', 'accordion', 'kelpie',\n",
       "       'Great_Pyrenees', 'wood_rabbit', 'black-and-tan_coonhound',\n",
       "       'sunglasses', 'plow', 'whippet', 'rain_barrel', 'bathtub', 'tiger',\n",
       "       'snail', 'tick', 'wire-haired_fox_terrier', 'water_bottle', 'wig',\n",
       "       'platypus', 'Irish_wolfhound', 'ram', 'gorilla',\n",
       "       'entertainment_center', 'toucan', 'mask', 'shopping_cart',\n",
       "       'Sussex_spaniel', 'crate', 'grey_whale', 'badger', 'Airedale',\n",
       "       'Arabian_camel', 'cockroach', 'lifeboat', 'rotisserie', 'goldfish',\n",
       "       'stingray', 'warthog', 'bobsled', 'rhinoceros_beetle', 'beaver',\n",
       "       'brown_bear', 'Maltese_dog', 'weasel', 'quill',\n",
       "       'Rhodesian_ridgeback', 'Arctic_fox', 'ashcan', 'bow_tie',\n",
       "       'soft-coated_wheaten_terrier', 'schipperke', 'bearskin',\n",
       "       'Kerry_blue_terrier', 'ice_lolly', 'American_alligator',\n",
       "       'mosquito_net', 'sea_lion', 'Boston_bull', 'nail',\n",
       "       'black-footed_ferret', 'promontory', 'sarong', 'Doberman',\n",
       "       'space_heater', 'Great_Dane', 'mailbox', 'Saluki', 'bakery',\n",
       "       'sandal', 'leafhopper', 'barrel', 'water_buffalo', 'polecat',\n",
       "       'macaque', 'Japanese_spaniel', 'folding_chair', 'trench_coat',\n",
       "       'Angora', 'junco', 'crib', 'dalmatian', 'snowmobile',\n",
       "       'flat-coated_retriever', 'streetcar', 'window_screen', 'bannister',\n",
       "       'hair_slide', 'meerkat', 'cannon', 'jaguar', 'Border_terrier',\n",
       "       'Greater_Swiss_Mountain_dog', 'hay', 'apron', 'cloak', 'radiator',\n",
       "       'muzzle', 'feather_boa', 'rifle', 'chimpanzee', 'loggerhead',\n",
       "       'torch', 'Mexican_hairless', 'spindle', 'triceratops',\n",
       "       'Appenzeller', 'stove', 'dingo', 'oscilloscope', 'common_newt',\n",
       "       'hotdog', 'medicine_chest', 'quail', 'horse_cart', 'four-poster',\n",
       "       'pier', 'red_fox', 'affenpinscher', 'assault_rifle',\n",
       "       'mashed_potato', 'moped', 'hyena', 'seashore', 'tub', 'sports_car',\n",
       "       'swing', 'mink', 'bluetick', 'neck_brace', 'grey_fox', 'mongoose',\n",
       "       'fur_coat', 'Scotch_terrier', 'spatula', 'paper_towel', 'shoji',\n",
       "       'toyshop', 'banded_gecko', 'peacock', 'crossword_puzzle',\n",
       "       'tree_frog', 'wombat', 'turnstile', 'sleeping_bag', 'quilt',\n",
       "       'Gila_monster', 'giant_panda', 'Dandie_Dinmont', 'handkerchief',\n",
       "       'sombrero', 'Indian_elephant', 'coffee_mug', 'gibbon', 'carton',\n",
       "       'screw', 'minibus', 'hatchet', 'window_shade', 'lawn_mower',\n",
       "       'washbasin', 'sock', 'prison', 'patio', 'china_cabinet',\n",
       "       'chain_mail', 'breakwater', 'computer_keyboard', 'goose',\n",
       "       'lakeside', 'solar_dish', 'table_lamp', 'Windsor_tie',\n",
       "       'punching_bag', 'comic_book', 'sunglass', 'great_white_shark',\n",
       "       'timber_wolf', 'fountain', 'dugong', 'marmot', 'barbershop',\n",
       "       'shovel', 'curly-coated_retriever', 'lesser_panda', 'monitor',\n",
       "       'crutch', 'cash_machine', 'printer', 'volcano', 'wallet', 'laptop',\n",
       "       'bathing_cap', 'confectionery', 'dam', 'killer_whale', 'canoe',\n",
       "       'Madagascar_cat', 'jean', 'boathouse', 'cliff', 'maillot', 'iPod',\n",
       "       'hand-held_computer', 'black_widow', 'Norwich_terrier', 'necklace',\n",
       "       'dining_table', 'binoculars', 'cradle', 'sea_urchin', 'cougar',\n",
       "       'EntleBucher', 'basketball', 'lighter', 'saltshaker', 'harvester',\n",
       "       'television', 'envelope', 'house_finch', 'web_site', 'palace',\n",
       "       'shower_curtain', 'cab', 'snorkel', 'jigsaw_puzzle', 'sweatshirt',\n",
       "       'white_wolf', 'sliding_door', 'academic_gown', 'cowboy_hat',\n",
       "       'can_opener', 'cup', 'rule', 'soccer_ball', 'bucket', 'racket',\n",
       "       'menu', 'purse', 'Bernese_mountain_dog', 'dumbbell', 'projectile',\n",
       "       'dock', 'oxygen_mask', 'sandbar', 'umbrella', 'shower_cap',\n",
       "       'bagel'], dtype=object)"
      ]
     },
     "execution_count": 27,
     "metadata": {},
     "output_type": "execute_result"
    }
   ],
   "source": [
    "images.p2.unique()"
   ]
  },
  {
   "cell_type": "code",
   "execution_count": 28,
   "metadata": {},
   "outputs": [
    {
     "data": {
      "text/plain": [
       "array(['Shetland_sheepdog', 'Rhodesian_ridgeback', 'bloodhound',\n",
       "       'miniature_pinscher', 'Doberman', 'Greater_Swiss_Mountain_dog',\n",
       "       'terrapin', 'fur_coat', 'golden_retriever',\n",
       "       'soft-coated_wheaten_terrier', 'Labrador_retriever', 'Pekinese',\n",
       "       'Ibizan_hound', 'French_bulldog', 'malinois', 'Dandie_Dinmont',\n",
       "       'borzoi', 'partridge', 'bookcase', 'basenji', 'miniature_poodle',\n",
       "       'great_grey_owl', 'groenendael', 'Eskimo_dog', 'hamster', 'briard',\n",
       "       'papillon', 'flat-coated_retriever', 'gar', 'Chihuahua',\n",
       "       'Shih-Tzu', 'Pomeranian', 'dingo', 'power_drill', 'Saluki',\n",
       "       'Great_Pyrenees', 'West_Highland_white_terrier', 'collie',\n",
       "       'toy_poodle', 'vizsla', 'acorn', 'giant_schnauzer', 'teddy',\n",
       "       'common_iguana', 'wig', 'water_buffalo', 'coyote', 'seat_belt',\n",
       "       'kelpie', 'space_heater', 'Brabancon_griffon', 'standard_poodle',\n",
       "       'beagle', 'Irish_water_spaniel', 'bluetick', 'Weimaraner',\n",
       "       'Chesapeake_Bay_retriever', 'toilet_tissue',\n",
       "       'black-and-tan_coonhound', 'kuvasz', 'Christmas_stocking',\n",
       "       'badger', 'hen', 'Staffordshire_bullterrier', 'Yorkshire_terrier',\n",
       "       'Lakeland_terrier', 'weasel', 'ski_mask', 'cocker_spaniel',\n",
       "       'Australian_terrier', 'lampshade', 'oscilloscope', 'ram', 'jeep',\n",
       "       'ice_bear', 'African_grey', 'Great_Dane', 'curly-coated_retriever',\n",
       "       'doormat', 'African_chameleon', 'schipperke', 'muzzle',\n",
       "       'triceratops', 'Newfoundland', 'Band_Aid', 'wood_rabbit',\n",
       "       'white_wolf', 'giant_panda', 'Welsh_springer_spaniel',\n",
       "       'French_horn', 'toy_terrier', 'Pembroke', 'Cardigan', 'bassinet',\n",
       "       'pug', 'Afghan_hound', 'American_Staffordshire_terrier', 'whippet',\n",
       "       'English_setter', 'panpipe', 'crane', 'mouse', 'titi', 'Angora',\n",
       "       'Boston_bull', 'silky_terrier', 'Japanese_spaniel', 'sandbar',\n",
       "       'balance_beam', 'black-footed_ferret', 'miniature_schnauzer',\n",
       "       'Blenheim_spaniel', 'bathtub', 'Saint_Bernard', 'redbone',\n",
       "       'goldfish', 'Norfolk_terrier', 'llama', 'koala', 'pillow',\n",
       "       'jersey', 'chow', 'minibus', 'malamute', 'bulletproof_vest',\n",
       "       'beach_wagon', 'cairn', 'plunger', 'paper_towel', 'wing',\n",
       "       'English_foxhound', 'Brittany_spaniel', 'bolete', 'ashcan',\n",
       "       'box_turtle', 'guinea_pig', 'bison', 'bull_mastiff', 'racket',\n",
       "       'cardoon', 'Tibetan_mastiff', 'window_screen', 'Irish_terrier',\n",
       "       'agama', 'common_newt', 'car_wheel', 'gorilla', 'bagel', 'clumber',\n",
       "       'Egyptian_cat', 'television', 'boxer', 'brown_bear', 'leafhopper',\n",
       "       'German_shepherd', 'Border_collie', 'menu', 'wolf_spider',\n",
       "       'bathing_cap', 'stinkhorn', 'drumstick', 'mask',\n",
       "       'Scottish_deerhound', 'shower_curtain', 'Appenzeller',\n",
       "       'plastic_bag', 'swimming_trunks', 'prairie_chicken', 'red_wolf',\n",
       "       'Maltese_dog', 'snail', 'gibbon', 'Gordon_setter', 'black_swan',\n",
       "       'beacon', 'wool', 'cowboy_boot', 'Rottweiler', 'poncho', 'swing',\n",
       "       'Arctic_fox', 'bib', 'Italian_greyhound', 'steam_locomotive',\n",
       "       'fountain', 'chickadee', 'abaya', 'Border_terrier', 'bubble',\n",
       "       'chimpanzee', 'hammerhead', 'Norwegian_elkhound',\n",
       "       'Norwich_terrier', 'Airedale', 'Siamese_cat', 'sea_cucumber',\n",
       "       'seashore', 'nipple', 'moped', 'Arabian_camel', 'crayfish',\n",
       "       'wallaby', 'wire-haired_fox_terrier', 'toilet_seat',\n",
       "       'Old_English_sheepdog', 'pajama', 'Walker_hound', 'shovel',\n",
       "       'bucket', 'Sealyham_terrier', 'Windsor_tie', 'Siberian_husky',\n",
       "       'quill', 'Persian_cat', 'European_fire_salamander',\n",
       "       'three-toed_sloth', 'swab', 'echidna', 'tennis_ball', 'Lhasa',\n",
       "       'coral_reef', 'keeshond', 'mink', 'screw', 'basset', 'wreck',\n",
       "       'kimono', 'German_short-haired_pointer', 'joystick', 'microwave',\n",
       "       'Tibetan_terrier', 'Irish_wolfhound', 'Samoyed', 'loggerhead',\n",
       "       'French_loaf', 'Irish_setter', 'komondor', 'purse', 'greenhouse',\n",
       "       'broccoli', 'shopping_basket', 'macaque', 'squirrel_monkey',\n",
       "       'green_lizard', 'parallel_bars', 'cloak', 'chest', 'sundial',\n",
       "       'mosquito_net', 'bath_towel', 'cuirass', 'zebra', 'lumbermill',\n",
       "       'wallet', 'feather_boa', 'English_springer', 'electric_fan',\n",
       "       'hippopotamus', 'ox', 'quilt', 'assault_rifle', 'axolotl', 'pot',\n",
       "       'toyshop', 'pizza', 'scuba_diver', 'beaver', 'Mexican_hairless',\n",
       "       'cliff', 'loupe', 'wild_boar', 'jaguar', 'hog', 'polecat', 'lion',\n",
       "       'EntleBucher', 'hand-held_computer', 'washbasin', 'whiptail',\n",
       "       'rock_crab', 'hare', 'shoji', 'sombrero', 'bell_cote', 'rifle',\n",
       "       'goose', 'pickup', 'sunglasses', 'limousine', 'bow_tie', 'pretzel',\n",
       "       'marmot', 'ice_lolly', 'vacuum', 'dalmatian', 'prison',\n",
       "       'shower_cap', 'sliding_door', 'dugong', 'otterhound', 'eel',\n",
       "       'binder', 'bullfrog', 'soap_dispenser', 'sea_lion', 'carton',\n",
       "       'brass', 'mitten', 'golfcart', 'cougar', 'warthog', 'umbrella',\n",
       "       'neck_brace', 'cup', 'book_jacket', 'padlock', 'cab', 'chime',\n",
       "       'Leonberg', 'viaduct', 'American_black_bear', 'tub', 'hand_blower',\n",
       "       'king_penguin', 'rotisserie', 'bannister', 'passenger_car',\n",
       "       'mongoose', 'dhole', 'consomme', 'valley', 'park_bench',\n",
       "       'mushroom', 'barrow', 'parachute', 'desktop_computer', 'snorkel',\n",
       "       'wok', 'affenpinscher', 'space_shuttle', 'rain_barrel',\n",
       "       'ballplayer', 'mountain_tent', 'oxcart', 'buckeye', 'sunglass',\n",
       "       'croquet_ball', 'refrigerator', 'snow_leopard', 'tripod',\n",
       "       'rapeseed', 'tiger_cat', 'Bernese_mountain_dog', 'notebook',\n",
       "       'maraca', 'pool_table', 'lakeside', 'theater_curtain', 'pier',\n",
       "       'cheetah', 'mousetrap', 'pop_bottle', 'soccer_ball', 'wombat',\n",
       "       'rhinoceros_beetle', 'paddlewheel', 'paintbrush', 'maze',\n",
       "       'hatchet', 'chain', 'jigsaw_puzzle', 'switch',\n",
       "       'Kerry_blue_terrier', 'barbell', 'convertible',\n",
       "       'entertainment_center', 'file', 'guillotine', 'nail',\n",
       "       'standard_schnauzer', 'bow', 'grocery_store', 'boathouse', 'conch',\n",
       "       'Bouvier_des_Flandres', 'grey_fox', 'shopping_cart', 'meerkat',\n",
       "       'grand_piano', 'envelope', 'screen', 'coffeepot', 'printer',\n",
       "       'otter', 'restaurant', 'bonnet', 'crossword_puzzle', 'go-kart',\n",
       "       'Sussex_spaniel', 'orangutan', 'canoe', 'barber_chair',\n",
       "       'traffic_light', 'ibex', 'can_opener', 'Indian_elephant',\n",
       "       'spatula', 'banana'], dtype=object)"
      ]
     },
     "execution_count": 28,
     "metadata": {},
     "output_type": "execute_result"
    }
   ],
   "source": [
    "images.p3.unique()"
   ]
  },
  {
   "cell_type": "code",
   "execution_count": 29,
   "metadata": {
    "scrolled": false
   },
   "outputs": [
    {
     "name": "stdout",
     "output_type": "stream",
     "text": [
      "<class 'pandas.core.frame.DataFrame'>\n",
      "RangeIndex: 2331 entries, 0 to 2330\n",
      "Data columns (total 3 columns):\n",
      " #   Column          Non-Null Count  Dtype\n",
      "---  ------          --------------  -----\n",
      " 0   tweet_id        2331 non-null   int64\n",
      " 1   favorite_count  2331 non-null   int64\n",
      " 2   retweet_count   2331 non-null   int64\n",
      "dtypes: int64(3)\n",
      "memory usage: 54.8 KB\n"
     ]
    }
   ],
   "source": [
    "twitter_api.info()"
   ]
  },
  {
   "cell_type": "code",
   "execution_count": 30,
   "metadata": {},
   "outputs": [
    {
     "data": {
      "text/plain": [
       "2331"
      ]
     },
     "execution_count": 30,
     "metadata": {},
     "output_type": "execute_result"
    }
   ],
   "source": [
    "# number of unique values in tweet_id \n",
    "twitter_api.tweet_id.nunique()"
   ]
  },
  {
   "cell_type": "code",
   "execution_count": 31,
   "metadata": {},
   "outputs": [
    {
     "data": {
      "text/plain": [
       "0"
      ]
     },
     "execution_count": 31,
     "metadata": {},
     "output_type": "execute_result"
    }
   ],
   "source": [
    "sum(twitter_api.duplicated())"
   ]
  },
  {
   "cell_type": "markdown",
   "metadata": {},
   "source": [
    "### Data Quality Issues \n",
    "\n",
    "#### Twitter table\n",
    "- twitter_id is an int;\n",
    "- missing a lot of data from columns 'in_reply_to_status_id', 'in_reply_to_user_id', 'retweeted_status_id', 'retweeted_status_user_id', 'retweeted_status_timestamp';\n",
    "- name_values has 745 None as name and some wrong names like 'his', 'my', 'an', 'a';\n",
    "- there are retweets that we would like to count;\n",
    "- timestamp is an object; \n",
    "- it is hard to do an overview because there are too many and unnecessary columns;\n",
    "- some dogs seems to have a wrong rating_numerator because in the text it was a float.\n",
    "\n",
    "#### Images table\n",
    "- twitter_id is an int;\n",
    "- p1, p2 and p3 have underscore where should be a space;\n",
    "- missing some data.\n",
    "\n",
    "#### Twitter_counts table\n",
    "- twitter_id is an int;\n",
    "- missing some data.\n",
    "\n",
    "\n",
    "### Tidiness Issues\n",
    "\n",
    "- the columns doggo, floofer, pupper, puppo should be variables in the same column;\n",
    "- the three datasets should be just one."
   ]
  },
  {
   "cell_type": "markdown",
   "metadata": {},
   "source": [
    "<a id='cleaning'></a>\n",
    "### Cleaning"
   ]
  },
  {
   "cell_type": "code",
   "execution_count": 32,
   "metadata": {},
   "outputs": [],
   "source": [
    "# Make copies of the dataframes for cleaning\n",
    "\n",
    "twitter_clean = twitter.copy()\n",
    "images_clean = images.copy()\n",
    "twitter_api_clean = twitter_api.copy()"
   ]
  },
  {
   "cell_type": "markdown",
   "metadata": {},
   "source": [
    "<a id='Coding'></a>\n",
    "## Coding and testing"
   ]
  },
  {
   "cell_type": "markdown",
   "metadata": {},
   "source": [
    " ### Tidiness Issues"
   ]
  },
  {
   "cell_type": "markdown",
   "metadata": {},
   "source": [
    "### 1º) Three datasets shoulb be just one\n",
    "\n",
    "#### Coding\n",
    "Merge the 3 dataframes into one on tweet_id."
   ]
  },
  {
   "cell_type": "code",
   "execution_count": 33,
   "metadata": {},
   "outputs": [],
   "source": [
    "df = [twitter_clean, images_clean, twitter_api]\n",
    "df_clean = reduce(lambda left,right: pd.merge(left,right,on='tweet_id'), df)"
   ]
  },
  {
   "cell_type": "markdown",
   "metadata": {},
   "source": [
    "#### Testing"
   ]
  },
  {
   "cell_type": "code",
   "execution_count": 34,
   "metadata": {},
   "outputs": [
    {
     "name": "stdout",
     "output_type": "stream",
     "text": [
      "<class 'pandas.core.frame.DataFrame'>\n",
      "Int64Index: 2059 entries, 0 to 2058\n",
      "Data columns (total 30 columns):\n",
      " #   Column                      Non-Null Count  Dtype  \n",
      "---  ------                      --------------  -----  \n",
      " 0   tweet_id                    2059 non-null   int64  \n",
      " 1   in_reply_to_status_id       23 non-null     float64\n",
      " 2   in_reply_to_user_id         23 non-null     float64\n",
      " 3   timestamp                   2059 non-null   object \n",
      " 4   source                      2059 non-null   object \n",
      " 5   text                        2059 non-null   object \n",
      " 6   retweeted_status_id         72 non-null     float64\n",
      " 7   retweeted_status_user_id    72 non-null     float64\n",
      " 8   retweeted_status_timestamp  72 non-null     object \n",
      " 9   expanded_urls               2059 non-null   object \n",
      " 10  rating_numerator            2059 non-null   int64  \n",
      " 11  rating_denominator          2059 non-null   int64  \n",
      " 12  name                        2059 non-null   object \n",
      " 13  doggo                       2059 non-null   object \n",
      " 14  floofer                     2059 non-null   object \n",
      " 15  pupper                      2059 non-null   object \n",
      " 16  puppo                       2059 non-null   object \n",
      " 17  jpg_url                     2059 non-null   object \n",
      " 18  img_num                     2059 non-null   int64  \n",
      " 19  p1                          2059 non-null   object \n",
      " 20  p1_conf                     2059 non-null   float64\n",
      " 21  p1_dog                      2059 non-null   bool   \n",
      " 22  p2                          2059 non-null   object \n",
      " 23  p2_conf                     2059 non-null   float64\n",
      " 24  p2_dog                      2059 non-null   bool   \n",
      " 25  p3                          2059 non-null   object \n",
      " 26  p3_conf                     2059 non-null   float64\n",
      " 27  p3_dog                      2059 non-null   bool   \n",
      " 28  favorite_count              2059 non-null   int64  \n",
      " 29  retweet_count               2059 non-null   int64  \n",
      "dtypes: bool(3), float64(7), int64(6), object(14)\n",
      "memory usage: 456.4+ KB\n"
     ]
    }
   ],
   "source": [
    "df_clean.info()"
   ]
  },
  {
   "cell_type": "markdown",
   "metadata": {},
   "source": [
    "### 2º) Creating a new stage column\n",
    "#### Coding\n",
    "Extract the dog stages from the 'text' column into the new 'dog_stage' column using regular expression then drop the 'doggo', 'floofer', 'pupper', and 'puppo' columns."
   ]
  },
  {
   "cell_type": "code",
   "execution_count": 35,
   "metadata": {},
   "outputs": [
    {
     "data": {
      "text/plain": [
       "array(['NoneNoneNoneNone', 'doggoNoneNoneNone', 'NoneNoneNonepuppo',\n",
       "       'NoneNonepupperNone', 'NoneflooferNoneNone', 'doggoNoneNonepuppo',\n",
       "       'doggoflooferNoneNone', 'doggoNonepupperNone'], dtype=object)"
      ]
     },
     "execution_count": 35,
     "metadata": {},
     "output_type": "execute_result"
    }
   ],
   "source": [
    "#create a new column stage to store the data from the original dataframe\n",
    "df_clean['stage'] = df_clean.doggo + df_clean.floofer + df_clean.pupper + df_clean.puppo\n",
    "df_clean.stage.unique()"
   ]
  },
  {
   "cell_type": "code",
   "execution_count": 36,
   "metadata": {},
   "outputs": [],
   "source": [
    "# clean the text from stage\n",
    "df_clean.loc[df_clean.stage == 'NoneNoneNoneNone', 'stage'] = 'None'\n",
    "df_clean.loc[df_clean.stage == 'doggoNoneNoneNone', 'stage'] = 'doggo'\n",
    "df_clean.loc[df_clean.stage == 'NoneNoneNonepuppo', 'stage'] = 'puppo'\n",
    "df_clean.loc[df_clean.stage == 'NoneNonepupperNone', 'stage'] = 'pupper'\n",
    "df_clean.loc[df_clean.stage == 'NoneflooferNoneNone', 'stage'] = 'floofer'\n",
    "df_clean.loc[df_clean.stage == 'doggoNoneNonepuppo', 'stage'] = 'doggo, puppo'\n",
    "df_clean.loc[df_clean.stage == 'doggoNonepupperNone', 'stage'] = 'doggo,pupper'\n",
    "df_clean.loc[df_clean.stage == 'doggoflooferNoneNone', 'stage'] = 'doggo,floofer'"
   ]
  },
  {
   "cell_type": "code",
   "execution_count": 37,
   "metadata": {},
   "outputs": [],
   "source": [
    "#drop the columns doggo, floofer, pupper and puppo\n",
    "df_clean.drop(columns=['doggo', 'floofer', 'pupper', 'puppo'], inplace=True)"
   ]
  },
  {
   "cell_type": "markdown",
   "metadata": {},
   "source": [
    "#### Testing"
   ]
  },
  {
   "cell_type": "code",
   "execution_count": 38,
   "metadata": {},
   "outputs": [
    {
     "data": {
      "text/plain": [
       "array(['None', 'doggo', 'puppo', 'pupper', 'floofer', 'doggo, puppo',\n",
       "       'doggo,floofer', 'doggo,pupper'], dtype=object)"
      ]
     },
     "execution_count": 38,
     "metadata": {},
     "output_type": "execute_result"
    }
   ],
   "source": [
    "#display the options for stage\n",
    "df_clean.stage.unique()"
   ]
  },
  {
   "cell_type": "code",
   "execution_count": 39,
   "metadata": {},
   "outputs": [
    {
     "name": "stdout",
     "output_type": "stream",
     "text": [
      "<class 'pandas.core.frame.DataFrame'>\n",
      "Int64Index: 2059 entries, 0 to 2058\n",
      "Data columns (total 27 columns):\n",
      " #   Column                      Non-Null Count  Dtype  \n",
      "---  ------                      --------------  -----  \n",
      " 0   tweet_id                    2059 non-null   int64  \n",
      " 1   in_reply_to_status_id       23 non-null     float64\n",
      " 2   in_reply_to_user_id         23 non-null     float64\n",
      " 3   timestamp                   2059 non-null   object \n",
      " 4   source                      2059 non-null   object \n",
      " 5   text                        2059 non-null   object \n",
      " 6   retweeted_status_id         72 non-null     float64\n",
      " 7   retweeted_status_user_id    72 non-null     float64\n",
      " 8   retweeted_status_timestamp  72 non-null     object \n",
      " 9   expanded_urls               2059 non-null   object \n",
      " 10  rating_numerator            2059 non-null   int64  \n",
      " 11  rating_denominator          2059 non-null   int64  \n",
      " 12  name                        2059 non-null   object \n",
      " 13  jpg_url                     2059 non-null   object \n",
      " 14  img_num                     2059 non-null   int64  \n",
      " 15  p1                          2059 non-null   object \n",
      " 16  p1_conf                     2059 non-null   float64\n",
      " 17  p1_dog                      2059 non-null   bool   \n",
      " 18  p2                          2059 non-null   object \n",
      " 19  p2_conf                     2059 non-null   float64\n",
      " 20  p2_dog                      2059 non-null   bool   \n",
      " 21  p3                          2059 non-null   object \n",
      " 22  p3_conf                     2059 non-null   float64\n",
      " 23  p3_dog                      2059 non-null   bool   \n",
      " 24  favorite_count              2059 non-null   int64  \n",
      " 25  retweet_count               2059 non-null   int64  \n",
      " 26  stage                       2059 non-null   object \n",
      "dtypes: bool(3), float64(7), int64(6), object(11)\n",
      "memory usage: 408.2+ KB\n"
     ]
    }
   ],
   "source": [
    "df_clean.info()"
   ]
  },
  {
   "cell_type": "markdown",
   "metadata": {},
   "source": [
    " ### Quality Issues"
   ]
  },
  {
   "cell_type": "markdown",
   "metadata": {},
   "source": [
    "### 1º) Column tweet_id is an int\n",
    "#### Coding\n",
    "Changing the tweet_id type from int to str."
   ]
  },
  {
   "cell_type": "code",
   "execution_count": 40,
   "metadata": {},
   "outputs": [],
   "source": [
    "# Change 'tweet_id' to a string\n",
    "df_clean['tweet_id'] = df_clean['tweet_id'].astype(str)"
   ]
  },
  {
   "cell_type": "markdown",
   "metadata": {},
   "source": [
    "#### Testing"
   ]
  },
  {
   "cell_type": "code",
   "execution_count": 41,
   "metadata": {},
   "outputs": [
    {
     "data": {
      "text/plain": [
       "tweet_id                       object\n",
       "in_reply_to_status_id         float64\n",
       "in_reply_to_user_id           float64\n",
       "timestamp                      object\n",
       "source                         object\n",
       "text                           object\n",
       "retweeted_status_id           float64\n",
       "retweeted_status_user_id      float64\n",
       "retweeted_status_timestamp     object\n",
       "expanded_urls                  object\n",
       "rating_numerator                int64\n",
       "rating_denominator              int64\n",
       "name                           object\n",
       "jpg_url                        object\n",
       "img_num                         int64\n",
       "p1                             object\n",
       "p1_conf                       float64\n",
       "p1_dog                           bool\n",
       "p2                             object\n",
       "p2_conf                       float64\n",
       "p2_dog                           bool\n",
       "p3                             object\n",
       "p3_conf                       float64\n",
       "p3_dog                           bool\n",
       "favorite_count                  int64\n",
       "retweet_count                   int64\n",
       "stage                          object\n",
       "dtype: object"
      ]
     },
     "execution_count": 41,
     "metadata": {},
     "output_type": "execute_result"
    }
   ],
   "source": [
    "df_clean.dtypes"
   ]
  },
  {
   "cell_type": "markdown",
   "metadata": {},
   "source": [
    "### 2º) Column timestamp is an object\n",
    "\n",
    "#### Coding\n",
    "\n",
    "we should change timestamp for datetime."
   ]
  },
  {
   "cell_type": "code",
   "execution_count": 42,
   "metadata": {},
   "outputs": [],
   "source": [
    "#Remove the time zone from the 'timestamp' column\n",
    "df_clean['timestamp'] = df_clean['timestamp'].str.slice(start=0, stop=-6)"
   ]
  },
  {
   "cell_type": "code",
   "execution_count": 43,
   "metadata": {},
   "outputs": [],
   "source": [
    "# Change the 'timestamp' column to a datetime object\n",
    "df_clean['timestamp'] = pd.to_datetime(df_clean['timestamp'], format = \"%Y-%m-%d %H:%M:%S\")"
   ]
  },
  {
   "cell_type": "markdown",
   "metadata": {},
   "source": [
    "#### Testing"
   ]
  },
  {
   "cell_type": "code",
   "execution_count": 44,
   "metadata": {},
   "outputs": [
    {
     "data": {
      "text/plain": [
       "tweet_id                              object\n",
       "in_reply_to_status_id                float64\n",
       "in_reply_to_user_id                  float64\n",
       "timestamp                     datetime64[ns]\n",
       "source                                object\n",
       "text                                  object\n",
       "retweeted_status_id                  float64\n",
       "retweeted_status_user_id             float64\n",
       "retweeted_status_timestamp            object\n",
       "expanded_urls                         object\n",
       "rating_numerator                       int64\n",
       "rating_denominator                     int64\n",
       "name                                  object\n",
       "jpg_url                               object\n",
       "img_num                                int64\n",
       "p1                                    object\n",
       "p1_conf                              float64\n",
       "p1_dog                                  bool\n",
       "p2                                    object\n",
       "p2_conf                              float64\n",
       "p2_dog                                  bool\n",
       "p3                                    object\n",
       "p3_conf                              float64\n",
       "p3_dog                                  bool\n",
       "favorite_count                         int64\n",
       "retweet_count                          int64\n",
       "stage                                 object\n",
       "dtype: object"
      ]
     },
     "execution_count": 44,
     "metadata": {},
     "output_type": "execute_result"
    }
   ],
   "source": [
    "df_clean.dtypes"
   ]
  },
  {
   "cell_type": "markdown",
   "metadata": {},
   "source": [
    "#### Testing"
   ]
  },
  {
   "cell_type": "markdown",
   "metadata": {},
   "source": [
    "### 3º) deleting retweets \n",
    "#### Coding\n",
    "\n",
    "Keeping only originals twitters (no retweet)"
   ]
  },
  {
   "cell_type": "code",
   "execution_count": 45,
   "metadata": {},
   "outputs": [],
   "source": [
    "#Keep only the columns where retweeted_status_id is NaN\n",
    "df_clean = df_clean[np.isnan(df_clean.retweeted_status_id)]"
   ]
  },
  {
   "cell_type": "code",
   "execution_count": 46,
   "metadata": {},
   "outputs": [
    {
     "name": "stdout",
     "output_type": "stream",
     "text": [
      "<class 'pandas.core.frame.DataFrame'>\n",
      "Int64Index: 1987 entries, 0 to 2058\n",
      "Data columns (total 27 columns):\n",
      " #   Column                      Non-Null Count  Dtype         \n",
      "---  ------                      --------------  -----         \n",
      " 0   tweet_id                    1987 non-null   object        \n",
      " 1   in_reply_to_status_id       23 non-null     float64       \n",
      " 2   in_reply_to_user_id         23 non-null     float64       \n",
      " 3   timestamp                   1987 non-null   datetime64[ns]\n",
      " 4   source                      1987 non-null   object        \n",
      " 5   text                        1987 non-null   object        \n",
      " 6   retweeted_status_id         0 non-null      float64       \n",
      " 7   retweeted_status_user_id    0 non-null      float64       \n",
      " 8   retweeted_status_timestamp  0 non-null      object        \n",
      " 9   expanded_urls               1987 non-null   object        \n",
      " 10  rating_numerator            1987 non-null   int64         \n",
      " 11  rating_denominator          1987 non-null   int64         \n",
      " 12  name                        1987 non-null   object        \n",
      " 13  jpg_url                     1987 non-null   object        \n",
      " 14  img_num                     1987 non-null   int64         \n",
      " 15  p1                          1987 non-null   object        \n",
      " 16  p1_conf                     1987 non-null   float64       \n",
      " 17  p1_dog                      1987 non-null   bool          \n",
      " 18  p2                          1987 non-null   object        \n",
      " 19  p2_conf                     1987 non-null   float64       \n",
      " 20  p2_dog                      1987 non-null   bool          \n",
      " 21  p3                          1987 non-null   object        \n",
      " 22  p3_conf                     1987 non-null   float64       \n",
      " 23  p3_dog                      1987 non-null   bool          \n",
      " 24  favorite_count              1987 non-null   int64         \n",
      " 25  retweet_count               1987 non-null   int64         \n",
      " 26  stage                       1987 non-null   object        \n",
      "dtypes: bool(3), datetime64[ns](1), float64(7), int64(5), object(11)\n",
      "memory usage: 393.9+ KB\n"
     ]
    }
   ],
   "source": [
    "df_clean.info()"
   ]
  },
  {
   "cell_type": "markdown",
   "metadata": {},
   "source": [
    "### 4º) Too many unnecessary columns\n",
    "\n",
    "#### Coding\n",
    "Using the drop to delete some collumns with missig data."
   ]
  },
  {
   "cell_type": "code",
   "execution_count": 47,
   "metadata": {},
   "outputs": [],
   "source": [
    "# drop some columns\n",
    "df_clean.drop(['in_reply_to_status_id', \n",
    "                   'in_reply_to_user_id', \n",
    "                   'retweeted_status_id', \n",
    "                   'retweeted_status_user_id', \n",
    "                   'retweeted_status_timestamp',\n",
    "                   'img_num'], axis=1, inplace=True)"
   ]
  },
  {
   "cell_type": "markdown",
   "metadata": {},
   "source": [
    "#### testing"
   ]
  },
  {
   "cell_type": "code",
   "execution_count": 48,
   "metadata": {},
   "outputs": [
    {
     "name": "stdout",
     "output_type": "stream",
     "text": [
      "<class 'pandas.core.frame.DataFrame'>\n",
      "Int64Index: 1987 entries, 0 to 2058\n",
      "Data columns (total 21 columns):\n",
      " #   Column              Non-Null Count  Dtype         \n",
      "---  ------              --------------  -----         \n",
      " 0   tweet_id            1987 non-null   object        \n",
      " 1   timestamp           1987 non-null   datetime64[ns]\n",
      " 2   source              1987 non-null   object        \n",
      " 3   text                1987 non-null   object        \n",
      " 4   expanded_urls       1987 non-null   object        \n",
      " 5   rating_numerator    1987 non-null   int64         \n",
      " 6   rating_denominator  1987 non-null   int64         \n",
      " 7   name                1987 non-null   object        \n",
      " 8   jpg_url             1987 non-null   object        \n",
      " 9   p1                  1987 non-null   object        \n",
      " 10  p1_conf             1987 non-null   float64       \n",
      " 11  p1_dog              1987 non-null   bool          \n",
      " 12  p2                  1987 non-null   object        \n",
      " 13  p2_conf             1987 non-null   float64       \n",
      " 14  p2_dog              1987 non-null   bool          \n",
      " 15  p3                  1987 non-null   object        \n",
      " 16  p3_conf             1987 non-null   float64       \n",
      " 17  p3_dog              1987 non-null   bool          \n",
      " 18  favorite_count      1987 non-null   int64         \n",
      " 19  retweet_count       1987 non-null   int64         \n",
      " 20  stage               1987 non-null   object        \n",
      "dtypes: bool(3), datetime64[ns](1), float64(3), int64(4), object(10)\n",
      "memory usage: 300.8+ KB\n"
     ]
    }
   ],
   "source": [
    "df_clean.info()"
   ]
  },
  {
   "cell_type": "markdown",
   "metadata": {},
   "source": [
    "### 5º) Column name has none instead of NaN\n",
    "#### Coding\n",
    "Replace None for NaN with replace function and numpy."
   ]
  },
  {
   "cell_type": "code",
   "execution_count": 49,
   "metadata": {},
   "outputs": [],
   "source": [
    "# Replace names None with a NaN\n",
    "df_clean['name'].replace('None', \n",
    "                        np.nan,\n",
    "                       inplace = True)"
   ]
  },
  {
   "cell_type": "markdown",
   "metadata": {},
   "source": [
    "#### Testing"
   ]
  },
  {
   "cell_type": "code",
   "execution_count": 50,
   "metadata": {},
   "outputs": [
    {
     "data": {
      "text/plain": [
       "0"
      ]
     },
     "execution_count": 50,
     "metadata": {},
     "output_type": "execute_result"
    }
   ],
   "source": [
    "df_clean[df_clean['name'] == \"None\"].shape[0]"
   ]
  },
  {
   "cell_type": "markdown",
   "metadata": {},
   "source": [
    "### 6º) Column name has strange values\n",
    "#### Coding\n",
    "Replace \"wrong\" names for NaN."
   ]
  },
  {
   "cell_type": "code",
   "execution_count": 51,
   "metadata": {
    "scrolled": true
   },
   "outputs": [],
   "source": [
    "#replace the wrongs name with NaN\n",
    "wrong_names = ['such', 'a', 'quite', 'one', 'incredibly', 'very', 'my', 'not', 'his', 'an', 'just', 'getting', 'this', 'unacceptable', 'all', 'infuriating', 'the', 'actually', 'by', 'officially', 'light', 'space']\n",
    "df_clean.name = df_clean.name.map(lambda x: 'None' if x in wrong_names else x)"
   ]
  },
  {
   "cell_type": "markdown",
   "metadata": {},
   "source": [
    "#### Testing"
   ]
  },
  {
   "cell_type": "code",
   "execution_count": 52,
   "metadata": {
    "scrolled": false
   },
   "outputs": [
    {
     "data": {
      "text/plain": [
       "array(['Phineas', 'Tilly', 'Archie', 'Darla', 'Franklin', nan, 'Jax',\n",
       "       'Zoey', 'Cassie', 'Koda', 'Bruno', 'Ted', 'Stuart', 'Oliver',\n",
       "       'Jim', 'Zeke', 'Ralphus', 'Gerald', 'Jeffrey', 'None', 'Canela',\n",
       "       'Maya', 'Mingus', 'Derek', 'Roscoe', 'Waffles', 'Jimbo', 'Maisey',\n",
       "       'Earl', 'Lola', 'Kevin', 'Yogi', 'Noah', 'Bella', 'Grizzwald',\n",
       "       'Rusty', 'Gus', 'Stanley', 'Alfy', 'Koko', 'Rey', 'Gary', 'Elliot',\n",
       "       'Louis', 'Jesse', 'Romeo', 'Bailey', 'Duddles', 'Jack', 'Steven',\n",
       "       'Beau', 'Snoopy', 'Shadow', 'Emmy', 'Aja', 'Penny', 'Dante',\n",
       "       'Nelly', 'Ginger', 'Benedict', 'Venti', 'Goose', 'Nugget', 'Cash',\n",
       "       'Jed', 'Sebastian', 'Sierra', 'Monkey', 'Kody', 'Lassie', 'Rover',\n",
       "       'Napolean', 'Boomer', 'Cody', 'Rumble', 'Clifford', 'Dewey',\n",
       "       'Scout', 'Gizmo', 'Walter', 'Cooper', 'Harold', 'Shikha', 'Lili',\n",
       "       'Jamesy', 'Coco', 'Sammy', 'Meatball', 'Paisley', 'Albus',\n",
       "       'Neptune', 'Belle', 'Quinn', 'Zooey', 'Dave', 'Jersey', 'Hobbes',\n",
       "       'Burt', 'Lorenzo', 'Carl', 'Jordy', 'Milky', 'Trooper', 'Sophie',\n",
       "       'Wyatt', 'Rosie', 'Thor', 'Oscar', 'Callie', 'Cermet', 'Marlee',\n",
       "       'Arya', 'Einstein', 'Alice', 'Rumpole', 'Benny', 'Aspen', 'Jarod',\n",
       "       'Wiggles', 'General', 'Sailor', 'Iggy', 'Snoop', 'Kyle', 'Leo',\n",
       "       'Riley', 'Noosh', 'Odin', 'Jerry', 'Georgie', 'Rontu', 'Cannon',\n",
       "       'Furzey', 'Daisy', 'Tuck', 'Barney', 'Vixen', 'Jarvis', 'Mimosa',\n",
       "       'Pickles', 'Brady', 'Charlie', 'Margo', 'Sadie', 'Hank', 'Tycho',\n",
       "       'Indie', 'Winnie', 'George', 'Bentley', 'Max', 'Dawn', 'Maddie',\n",
       "       'Monty', 'Sojourner', 'Winston', 'Odie', 'Arlo', 'Vincent',\n",
       "       'Clark', 'Mookie', 'Meera', 'Ava', 'Lucy', 'Eli', 'Ash', 'Tucker',\n",
       "       'Tobi', 'Chester', 'Wilson', 'Sunshine', 'Lipton', 'Bronte',\n",
       "       'Poppy', 'Gidget', 'Rhino', 'Willow', 'Orion', 'Eevee', 'Smiley',\n",
       "       'Miguel', 'Emanuel', 'Kuyu', 'Dutch', 'Pete', 'Scooter', 'Reggie',\n",
       "       'Lilly', 'Samson', 'Mia', 'Malcolm', 'Dexter', 'Alfie', 'Fiona',\n",
       "       'Mutt', 'Bear', 'Doobert', 'Beebop', 'Alexander', 'Sailer',\n",
       "       'Brutus', 'Kona', 'Boots', 'Ralphie', 'Loki', 'Cupid', 'Pawnd',\n",
       "       'Pilot', 'Ike', 'Mo', 'Toby', 'Sweet', 'Pablo', 'Nala', 'Crawford',\n",
       "       'Gabe', 'Jimison', 'Duchess', 'Harlso', 'Sundance', 'Luca',\n",
       "       'Flash', 'Sunny', 'Howie', 'Jazzy', 'Anna', 'Finn', 'Bo', 'Wafer',\n",
       "       'Tom', 'Florence', 'Autumn', 'Buddy', 'Dido', 'Eugene', 'Ken',\n",
       "       'Strudel', 'Tebow', 'Chloe', 'Timber', 'Binky', 'Moose', 'Dudley',\n",
       "       'Comet', 'Akumi', 'Titan', 'Olivia', 'Alf', 'Oshie', 'Chubbs',\n",
       "       'Sky', 'Atlas', 'Eleanor', 'Layla', 'Rocky', 'Baron', 'Tyr',\n",
       "       'Bauer', 'Swagger', 'Brandi', 'Mary', 'Moe', 'Halo', 'Augie',\n",
       "       'Craig', 'Sam', 'Hunter', 'Pavlov', 'Phil', 'Kyro', 'Wallace',\n",
       "       'Ito', 'Ollie', 'Stephan', 'Lennon', 'Major', 'Duke', 'Sansa',\n",
       "       'Shooter', 'Django', 'Diogi', 'Sonny', 'Marley', 'Severus',\n",
       "       'Ronnie', 'Milo', 'Bones', 'Mauve', 'Chef', 'Doc', 'Peaches',\n",
       "       'Sobe', 'Longfellow', 'Mister', 'Iroh', 'Pancake', 'Snicku',\n",
       "       'Ruby', 'Brody', 'Mack', 'Nimbus', 'Laika', 'Maximus', 'Dobby',\n",
       "       'Moreton', 'Juno', 'Maude', 'Lily', 'Newt', 'Benji', 'Nida',\n",
       "       'Robin', 'Monster', 'BeBe', 'Remus', 'Levi', 'Mabel', 'Misty',\n",
       "       'Betty', 'Mosby', 'Maggie', 'Bruce', 'Happy', 'Brownie', 'Rizzy',\n",
       "       'Stella', 'Butter', 'Frank', 'Tonks', 'Lincoln', 'Rory', 'Logan',\n",
       "       'Dale', 'Rizzo', 'Mattie', 'Pinot', 'Dallas', 'Hero', 'Frankie',\n",
       "       'Stormy', 'Mairi', 'Loomis', 'Godi', 'Cali', 'Deacon', 'Timmy',\n",
       "       'Sampson', 'Chipson', 'Oakley', 'Dash', 'Hercules', 'Jay', 'Mya',\n",
       "       'Strider', 'Wesley', 'Solomon', 'Huck', 'O', 'Blue', 'Anakin',\n",
       "       'Finley', 'Sprinkles', 'Heinrich', 'Shakespeare', 'Chelsea',\n",
       "       'Bungalo', 'Chip', 'Grey', 'Roosevelt', 'Willem', 'Davey',\n",
       "       'Dakota', 'Fizz', 'Dixie', 'Al', 'Jackson', 'Carbon', 'Klein',\n",
       "       'DonDon', 'Kirby', 'Lou', 'Chevy', 'Tito', 'Philbert', 'Louie',\n",
       "       'Rupert', 'Rufus', 'Brudge', 'Shadoe', 'Angel', 'Brat', 'Tove',\n",
       "       'Gromit', 'Aubie', 'Kota', 'Leela', 'Glenn', 'Shelby', 'Sephie',\n",
       "       'Bonaparte', 'Albert', 'Wishes', 'Rose', 'Theo', 'Rocco', 'Fido',\n",
       "       'Emma', 'Luna', 'Spencer', 'Lilli', 'Boston', 'Brandonald',\n",
       "       'Corey', 'Leonard', 'Beckham', 'Devón', 'Gert', 'Watson', 'Keith',\n",
       "       'Dex', 'Ace', 'Tayzie', 'Grizzie', 'Gilbert', 'Meyer', 'Arnie',\n",
       "       'Zoe', 'Stewie', 'Calvin', 'Lilah', 'Spanky', 'Jameson', 'Piper',\n",
       "       'Atticus', 'Blu', 'Dietrich', 'Divine', 'Tripp', 'Cora', 'Huxley',\n",
       "       'Bookstore', 'Abby', 'Shiloh', 'Gustav', 'Arlen', 'Percy', 'Lenox',\n",
       "       'Sugar', 'Harvey', 'Blanket', 'Geno', 'Stark', 'Beya', 'Kilo',\n",
       "       'Kayla', 'Maxaroni', 'Bell', 'Doug', 'Edmund', 'Aqua', 'Theodore',\n",
       "       'Baloo', 'Chase', 'Nollie', 'Rorie', 'Simba', 'Charles', 'Bayley',\n",
       "       'Axel', 'Storkson', 'Remy', 'Chadrick', 'Kellogg', 'Buckley',\n",
       "       'Livvie', 'Terry', 'Hermione', 'Ralpher', 'Aldrick', 'Larry',\n",
       "       'Rooney', 'Crystal', 'Ziva', 'Stefan', 'Pupcasso', 'Puff',\n",
       "       'Flurpson', 'Coleman', 'Enchilada', 'Raymond', 'Rueben',\n",
       "       'Cilantro', 'Karll', 'Sprout', 'Blitz', 'Bloop', 'Colby', 'Lillie',\n",
       "       'Fred', 'Ashleigh', 'Kreggory', 'Sarge', 'Luther', 'Reginald',\n",
       "       'Ivar', 'Jangle', 'Schnitzel', 'Panda', 'Berkeley', 'Ralphé',\n",
       "       'Charleson', 'Clyde', 'Harnold', 'Sid', 'Pippa', 'Otis', 'Carper',\n",
       "       'Bowie', 'Alexanderson', 'Suki', 'Barclay', 'Ebby', 'Flávio',\n",
       "       'Smokey', 'Link', 'Jennifur', 'Bluebert', 'Stephanus', 'Bubbles',\n",
       "       'Zeus', 'Bertson', 'Nico', 'Michelangelope', 'Siba', 'Calbert',\n",
       "       'Curtis', 'Travis', 'Thumas', 'Kanu', 'Lance', 'Opie', 'Stubert',\n",
       "       'Kane', 'Olive', 'Chuckles', 'Staniel', 'Sora', 'Beemo', 'Gunner',\n",
       "       'Lacy', 'Tater', 'Olaf', 'Cecil', 'Vince', 'Karma', 'Billy',\n",
       "       'Walker', 'Rodney', 'Klevin', 'Malikai', 'Bobble', 'River',\n",
       "       'Jebberson', 'Remington', 'Farfle', 'Jiminus', 'Harper', 'Keurig',\n",
       "       'Clarkus', 'Finnegus', 'Cupcake', 'Kathmandu', 'Ellie', 'Katie',\n",
       "       'Kara', 'Adele', 'Zara', 'Ambrose', 'Jimothy', 'Bode', 'Terrenth',\n",
       "       'Reese', 'Chesterson', 'Lucia', 'Bisquick', 'Ralphson', 'Socks',\n",
       "       'Rambo', 'Fiji', 'Rilo', 'Bilbo', 'Coopson', 'Yoda', 'Millie',\n",
       "       'Chet', 'Crouton', 'Daniel', 'Kaia', 'Murphy', 'Dotsy', 'Eazy',\n",
       "       'Coops', 'Fillup', 'Miley', 'Charl', 'Reagan', 'CeCe', 'Cuddles',\n",
       "       'Claude', 'Jessiga', 'Carter', 'Ole', 'Blipson', 'Reptar',\n",
       "       'Trevith', 'Berb', 'Bob', 'Colin', 'Brian', 'Oliviér', 'Grady',\n",
       "       'Kobe', 'Freddery', 'Bodie', 'Dunkin', 'Wally', 'Tupawc', 'Amber',\n",
       "       'Herschel', 'Edgar', 'Kingsley', 'Brockly', 'Richie', 'Molly',\n",
       "       'Vinscent', 'Cedrick', 'Hazel', 'Lolo', 'Eriq', 'Phred', 'Maxwell',\n",
       "       'Geoff', 'Covach', 'Durg', 'Fynn', 'Ricky', 'Herald', 'Lucky',\n",
       "       'Trip', 'Clarence', 'Hamrick', 'Brad', 'Pubert', 'Frönq', 'Derby',\n",
       "       'Lizzie', 'Blakely', 'Opal', 'Marq', 'Kramer', 'Tyrone', 'Gordon',\n",
       "       'Baxter', 'Mona', 'Horace', 'Crimson', 'Birf', 'Hammond',\n",
       "       'Lorelei', 'Marty', 'Brooks', 'Petrick', 'Hubertson', 'Gerbald',\n",
       "       'Oreo', 'Bruiser', 'Perry', 'Bobby', 'Jeph', 'Obi', 'Tino',\n",
       "       'Kulet', 'Lupe', 'Tiger', 'Jiminy', 'Griffin', 'Banjo', 'Brandy',\n",
       "       'Lulu', 'Darrel', 'Taco', 'Joey', 'Patrick', 'Kreg', 'Todo',\n",
       "       'Tess', 'Ulysses', 'Toffee', 'Apollo', 'Carly', 'Asher', 'Glacier',\n",
       "       'Chuck', 'Champ', 'Ozzie', 'Griswold', 'Cheesy', 'Moofasa',\n",
       "       'Hector', 'Goliath', 'Kawhi', 'Ozzy', 'Emmie', 'Penelope',\n",
       "       'Willie', 'Rinna', 'Mike', 'William', 'Dwight', 'Evy', 'Hurley',\n",
       "       'Rubio', 'Chompsky', 'Linda', 'Tug', 'Tango', 'Grizz', 'Jerome',\n",
       "       'Crumpet', 'Jessifer', 'Ralph', 'Sandy', 'Humphrey', 'Tassy',\n",
       "       'Juckson', 'Chuq', 'Tyrus', 'Karl', 'Godzilla', 'Vinnie',\n",
       "       'Kenneth', 'Herm', 'Bert', 'Striker', 'Donny', 'Pepper', 'Bernie',\n",
       "       'Buddah', 'Lenny', 'Arnold', 'Zuzu', 'Mollie', 'Laela', 'Tedders',\n",
       "       'Superpup', 'Rufio', 'Jeb', 'Rodman', 'Jonah', 'Chesney', 'Kenny',\n",
       "       'Henry', 'Bobbay', 'Mitch', 'Kaiya', 'Acro', 'Aiden', 'Obie',\n",
       "       'Dot', 'Shnuggles', 'Kendall', 'Jeffri', 'Steve', 'Eve', 'Mac',\n",
       "       'Fletcher', 'Kenzie', 'Pumpkin', 'Schnozz', 'Gustaf', 'Cheryl',\n",
       "       'Ed', 'Leonidas', 'Norman', 'Caryl', 'Scott', 'Taz', 'Darby',\n",
       "       'Jackie', 'Jazz', 'Franq', 'Pippin', 'Rolf', 'Snickers', 'Ridley',\n",
       "       'Cal', 'Bradley', 'Bubba', 'Tuco', 'Patch', 'Mojo', 'Batdog',\n",
       "       'Dylan', 'Mark', 'JD', 'Alejandro', 'Scruffers', 'Pip', 'Julius',\n",
       "       'Tanner', 'Sparky', 'Anthony', 'Holly', 'Jett', 'Amy', 'Sage',\n",
       "       'Andy', 'Mason', 'Trigger', 'Antony', 'Creg', 'Traviss', 'Gin',\n",
       "       'Jeffrie', 'Danny', 'Ester', 'Pluto', 'Bloo', 'Edd', 'Paull',\n",
       "       'Willy', 'Herb', 'Damon', 'Peanut', 'Nigel', 'Butters', 'Sandra',\n",
       "       'Fabio', 'Randall', 'Liam', 'Tommy', 'Ben', 'Raphael', 'Julio',\n",
       "       'Andru', 'Kloey', 'Shawwn', 'Skye', 'Kollin', 'Ronduh', 'Billl',\n",
       "       'Saydee', 'Dug', 'Tessa', 'Sully', 'Kirk', 'Ralf', 'Clarq',\n",
       "       'Jaspers', 'Samsom', 'Terrance', 'Harrison', 'Chaz', 'Jeremy',\n",
       "       'Jaycob', 'Lambeau', 'Ruffles', 'Amélie', 'Bobb', 'Banditt',\n",
       "       'Kevon', 'Winifred', 'Hanz', 'Churlie', 'Zeek', 'Timofy', 'Maks',\n",
       "       'Jomathan', 'Kallie', 'Marvin', 'Spark', 'Gòrdón', 'Jo', 'DayZ',\n",
       "       'Jareld', 'Torque', 'Ron', 'Skittles', 'Cleopatricia', 'Erik',\n",
       "       'Stu', 'Tedrick', 'Shaggy', 'Filup', 'Kial', 'Naphaniel', 'Dook',\n",
       "       'Hall', 'Philippe', 'Biden', 'Fwed', 'Genevieve', 'Joshwa',\n",
       "       'Timison', 'Bradlay', 'Pipsy', 'Clybe', 'Keet', 'Carll', 'Jockson',\n",
       "       'Josep', 'Lugan', 'Christoper'], dtype=object)"
      ]
     },
     "execution_count": 52,
     "metadata": {},
     "output_type": "execute_result"
    }
   ],
   "source": [
    "df_clean.name.unique()"
   ]
  },
  {
   "cell_type": "markdown",
   "metadata": {},
   "source": [
    "### 7º) Float values in rating_numerator\n",
    "#### Coding\n",
    "Change rating_numerator to a float type and correct wrong grades."
   ]
  },
  {
   "cell_type": "code",
   "execution_count": 53,
   "metadata": {},
   "outputs": [],
   "source": [
    "# change columns 'rating_numerator' and 'rating_denominator' to float\n",
    "df_clean['rating_numerator'] = df_clean['rating_numerator'].astype(float)\n",
    "df_clean['rating_denominator'] = df_clean['rating_denominator'].astype(float)"
   ]
  },
  {
   "cell_type": "code",
   "execution_count": 54,
   "metadata": {},
   "outputs": [],
   "source": [
    "# find the index for tweets that contain a decimal in numerator of rating\n",
    "decimals_text = []\n",
    "decimals_index = []\n",
    "decimals = []\n",
    "\n",
    "for i, text in df_clean['text'].iteritems():\n",
    "    if bool(re.search('\\d+\\.\\d+\\/\\d+', text)):\n",
    "        decimals_text.append(text)\n",
    "        decimals_index.append(i)\n",
    "        decimals.append(re.search('\\d+\\.\\d+', text).group())"
   ]
  },
  {
   "cell_type": "code",
   "execution_count": 55,
   "metadata": {},
   "outputs": [
    {
     "data": {
      "text/plain": [
       "['This is Bella. She hopes her smile made you smile. If not, she is also offering you her favorite monkey. 13.5/10 https://t.co/qjrljjt948',\n",
       " \"This is Logan, the Chow who lived. He solemnly swears he's up to lots of good. H*ckin magical af 9.75/10 https://t.co/yBO5wuqaPS\",\n",
       " \"This is Sophie. She's a Jubilant Bush Pupper. Super h*ckin rare. Appears at random just to smile at the locals. 11.27/10 would smile back https://t.co/QFaUiIHxHq\",\n",
       " 'Here we have uncovered an entire battalion of holiday puppers. Average of 11.26/10 https://t.co/eNm2S6p9BD']"
      ]
     },
     "execution_count": 55,
     "metadata": {},
     "output_type": "execute_result"
    }
   ],
   "source": [
    "# Print the tweets found\n",
    "decimals_text"
   ]
  },
  {
   "cell_type": "code",
   "execution_count": 56,
   "metadata": {},
   "outputs": [
    {
     "data": {
      "text/plain": [
       "[40, 548, 603, 1438]"
      ]
     },
     "execution_count": 56,
     "metadata": {},
     "output_type": "execute_result"
    }
   ],
   "source": [
    "# Print the index found\n",
    "decimals_index"
   ]
  },
  {
   "cell_type": "code",
   "execution_count": 57,
   "metadata": {},
   "outputs": [],
   "source": [
    "# Change 'rating_numerator' for index that is needed\n",
    "df_clean.loc[decimals_index[0],'rating_numerator'] = float(decimals[0])\n",
    "df_clean.loc[decimals_index[1],'rating_numerator'] = float(decimals[1])\n",
    "df_clean.loc[decimals_index[2],'rating_numerator'] = float(decimals[2])\n",
    "df_clean.loc[decimals_index[3],'rating_numerator'] = float(decimals[3])"
   ]
  },
  {
   "cell_type": "markdown",
   "metadata": {},
   "source": [
    "#### Coding"
   ]
  },
  {
   "cell_type": "code",
   "execution_count": 58,
   "metadata": {},
   "outputs": [
    {
     "data": {
      "text/plain": [
       "tweet_id                                             778027034220126208\n",
       "timestamp                                           2016-09-20 00:24:34\n",
       "source                <a href=\"http://twitter.com/download/iphone\" r...\n",
       "text                  This is Sophie. She's a Jubilant Bush Pupper. ...\n",
       "expanded_urls         https://twitter.com/dog_rates/status/778027034...\n",
       "rating_numerator                                                  11.27\n",
       "rating_denominator                                                   10\n",
       "name                                                             Sophie\n",
       "jpg_url                 https://pbs.twimg.com/media/Cswbc2yWcAAVsCJ.jpg\n",
       "p1                                                              clumber\n",
       "p1_conf                                                        0.946718\n",
       "p1_dog                                                             True\n",
       "p2                                                       cocker_spaniel\n",
       "p2_conf                                                       0.0159499\n",
       "p2_dog                                                             True\n",
       "p3                                                                Lhasa\n",
       "p3_conf                                                      0.00651911\n",
       "p3_dog                                                             True\n",
       "favorite_count                                                     6645\n",
       "retweet_count                                                      1641\n",
       "stage                                                            pupper\n",
       "Name: 603, dtype: object"
      ]
     },
     "execution_count": 58,
     "metadata": {},
     "output_type": "execute_result"
    }
   ],
   "source": [
    "df_clean.loc[603]"
   ]
  },
  {
   "cell_type": "markdown",
   "metadata": {},
   "source": [
    "### 8º) chance underscore  for space in columns p1, p2 and p3\n",
    "#### Coding\n",
    "Chance underscore for spaces"
   ]
  },
  {
   "cell_type": "code",
   "execution_count": 59,
   "metadata": {},
   "outputs": [],
   "source": [
    "#replace underscore for space\n",
    "df_clean.p1 = df_clean.p1.str.replace('_', ' ')\n",
    "df_clean.p2 = df_clean.p2.str.replace('_', ' ')\n",
    "df_clean.p3 = df_clean.p3.str.replace('_', ' ')"
   ]
  },
  {
   "cell_type": "markdown",
   "metadata": {},
   "source": [
    "#### Testing"
   ]
  },
  {
   "cell_type": "code",
   "execution_count": 60,
   "metadata": {},
   "outputs": [
    {
     "data": {
      "text/plain": [
       "array(['orange', 'Chihuahua', 'paper towel', 'basset',\n",
       "       'Chesapeake Bay retriever', 'Appenzeller', 'Pomeranian',\n",
       "       'Irish terrier', 'Pembroke', 'Samoyed', 'French bulldog',\n",
       "       'golden retriever', 'whippet', 'Siberian husky', 'limousine',\n",
       "       'Mexican hairless', 'kuvasz', 'convertible', 'pug',\n",
       "       'Blenheim spaniel', 'malamute', 'Italian greyhound', 'chow',\n",
       "       'German shepherd', 'Doberman', 'Eskimo dog', 'Labrador retriever',\n",
       "       'web site', 'Weimaraner', 'Saluki', 'tusker', 'street sign',\n",
       "       'miniature pinscher', 'German short-haired pointer',\n",
       "       'English springer', 'tricycle', 'tabby', 'vizsla', 'bloodhound',\n",
       "       'Bernese mountain dog', 'West Highland white terrier',\n",
       "       'cocker spaniel', 'flat-coated retriever', 'Cardigan',\n",
       "       'Newfoundland', 'basketball', 'Shetland sheepdog', 'komondor',\n",
       "       'kelpie', 'home theater', 'Greater Swiss Mountain dog',\n",
       "       'comic book', 'laptop', 'Border collie', 'pole', 'bull mastiff',\n",
       "       'marmot', 'Staffordshire bullterrier', 'Lakeland terrier',\n",
       "       'Australian terrier', 'syringe', 'Bedlington terrier', 'lakeside',\n",
       "       'chimpanzee', 'Angora', 'revolver', 'Boston bull',\n",
       "       'Old English sheepdog', 'black-and-tan coonhound', 'grille',\n",
       "       'Great Dane', 'barbell', 'prison', 'barrow', 'car mirror',\n",
       "       'Yorkshire terrier', 'tennis ball', 'schipperke', 'patio',\n",
       "       'fountain', 'sea lion', 'Airedale', 'white wolf',\n",
       "       'giant schnauzer', 'Dandie Dinmont', 'Irish water spaniel',\n",
       "       'washer', 'tub', 'military uniform', 'Afghan hound',\n",
       "       'Brittany spaniel', 'teapot', 'swing', 'Leonberg',\n",
       "       'Border terrier', 'Great Pyrenees', 'birdhouse',\n",
       "       'Norwegian elkhound', 'shopping cart', 'mortarboard', 'leopard',\n",
       "       'wooden spoon', 'borzoi', 'Rottweiler', 'hyena', 'ice bear',\n",
       "       'toilet tissue', 'Rhodesian ridgeback', 'ox', 'bath towel',\n",
       "       'boxer', 'Pekinese', 'briard', 'toy poodle', 'seat belt',\n",
       "       'hippopotamus', 'teddy', 'American Staffordshire terrier',\n",
       "       'collie', 'English setter', 'cairn', 'dingo', 'cowboy boot',\n",
       "       'bathtub', 'malinois', 'Irish setter', 'Gordon setter',\n",
       "       'school bus', 'acorn squash', 'standard poodle',\n",
       "       'miniature schnauzer', 'curly-coated retriever', 'Tibetan mastiff',\n",
       "       'restaurant', 'dalmatian', 'miniature poodle', 'doormat',\n",
       "       'Siamese cat', 'beagle', 'toy terrier', 'loupe', 'Norwich terrier',\n",
       "       'Arabian camel', 'shield', 'bookcase', 'minivan', 'vacuum',\n",
       "       'Norfolk terrier', 'gas pump', 'pedestal',\n",
       "       'wire-haired fox terrier', 'bakery', \"jack-o'-lantern\",\n",
       "       'dishwasher', 'refrigerator', 'remote control', 'beach wagon',\n",
       "       'porcupine', 'quilt', 'pool table', 'padlock', 'Saint Bernard',\n",
       "       'sundial', 'clumber', 'mousetrap', 'long-horned beetle',\n",
       "       'Walker hound', 'giant panda', 'silky terrier', 'papillon',\n",
       "       'meerkat', 'Madagascar cat', 'maillot', 'basenji', 'lion',\n",
       "       'coral reef', 'keeshond', 'redbone', 'Welsh springer spaniel',\n",
       "       'African grey', 'paddle', 'gondola', 'cougar', 'axolotl',\n",
       "       'radio telescope', 'balloon', 'Sussex spaniel', 'bookshop',\n",
       "       'skunk', 'bluetick', 'geyser', 'conch', 'rotisserie', 'goose',\n",
       "       'American black bear', 'Shih-Tzu', 'muzzle', 'bow tie',\n",
       "       'sulphur-crested cockatoo', 'tiger shark', 'Tibetan terrier',\n",
       "       'binoculars', 'coil', 'traffic light', 'rapeseed', 'sunglasses',\n",
       "       'lawn mower', 'wombat', 'guinea pig', 'cliff', 'cup',\n",
       "       'studio couch', 'Maltese dog', 'Lhasa', 'koala', 'polecat',\n",
       "       'hand blower', 'stone wall', 'window shade', 'handkerchief',\n",
       "       'bonnet', 'soft-coated wheaten terrier', 'alp', 'badger', 'hammer',\n",
       "       'nail', 'timber wolf', 'triceratops', 'espresso', 'brown bear',\n",
       "       'llama', 'leatherback turtle', 'cowboy hat', 'bib', 'hotdog',\n",
       "       'agama', 'ram', 'wild boar', 'space heater', 'four-poster',\n",
       "       'Egyptian cat', 'otter', 'wool', 'wallaby', 'tailed frog',\n",
       "       'hamster', 'hummingbird', 'washbasin', 'grey fox', 'weasel',\n",
       "       'beaver', 'groenendael', 'Scottish deerhound', 'dining table',\n",
       "       'ice lolly', 'bison', 'snorkel', 'bighorn', 'motor scooter',\n",
       "       'bustard', 'dogsled', 'snowmobile', 'Scotch terrier', 'crane',\n",
       "       'Ibizan hound', 'hog', 'bannister', 'sorrel', 'wood rabbit',\n",
       "       'fiddler crab', 'cheeseburger', 'damselfly', 'sliding door',\n",
       "       'clog', 'minibus', 'cheetah', 'toyshop', 'bald eagle',\n",
       "       'jigsaw puzzle', 'frilled lizard', 'carousel', 'bubble',\n",
       "       'Christmas stocking', 'pillow', 'earthstar', 'EntleBucher',\n",
       "       'mailbox', 'cash machine', 'panpipe', 'harp', 'maze',\n",
       "       'water buffalo', 'Japanese spaniel', 'common iguana', 'guenon',\n",
       "       'black-footed ferret', 'rain barrel', 'book jacket', 'Loafer',\n",
       "       'feather boa', 'walking stick', 'standard schnauzer', 'dough',\n",
       "       'box turtle', 'upright', 'stove', 'bow', 'ocarina',\n",
       "       'shower curtain', 'seashore', 'tick', 'African crocodile',\n",
       "       'soccer ball', 'jellyfish', 'Brabancon griffon', 'slug', 'ostrich',\n",
       "       'robin', 'toilet seat', 'suit', 'water bottle', 'Arctic fox',\n",
       "       'ski mask', 'leaf beetle', 'sandbar', 'starfish', 'microwave',\n",
       "       'terrapin', 'killer whale', 'carton', 'bee eater', 'china cabinet',\n",
       "       'prayer rug', 'park bench', 'hen', 'hermit crab', 'zebra',\n",
       "       'picket fence', 'African hunting dog', 'pitcher', 'microphone',\n",
       "       'flamingo', 'scorpion', 'lacewing', 'dhole', 'banana', 'peacock',\n",
       "       'sea urchin', 'ping-pong ball', 'platypus', 'mud turtle',\n",
       "       'boathouse', 'snail', 'pot', 'piggy bank', 'candle', 'cuirass',\n",
       "       'lynx', 'crash helmet', 'bearskin', 'shopping basket',\n",
       "       'king penguin', 'canoe', 'trombone', 'lorikeet', 'fire engine',\n",
       "       'ibex', 'electric fan', 'hare', 'hay', 'swab', 'coho',\n",
       "       'three-toed sloth', 'desktop computer'], dtype=object)"
      ]
     },
     "execution_count": 60,
     "metadata": {},
     "output_type": "execute_result"
    }
   ],
   "source": [
    "df_clean.p1.unique()"
   ]
  },
  {
   "cell_type": "code",
   "execution_count": 61,
   "metadata": {},
   "outputs": [
    {
     "data": {
      "text/plain": [
       "array(['bagel', 'Pekinese', 'malamute', 'Labrador retriever',\n",
       "       'English springer', 'Irish terrier', 'Border collie', 'Eskimo dog',\n",
       "       'Irish setter', 'Cardigan', 'Pomeranian', 'boxer', 'borzoi',\n",
       "       'Tibetan mastiff', 'pug', 'redbone', 'tow truck',\n",
       "       'Rhodesian ridgeback', 'sea lion', 'toy terrier', 'Great Pyrenees',\n",
       "       'sports car', 'Chihuahua', 'shower cap', 'Shih-Tzu',\n",
       "       'Siberian husky', 'American Staffordshire terrier',\n",
       "       'Norwich terrier', 'French bulldog', 'malinois',\n",
       "       'miniature pinscher', 'Chesapeake Bay retriever', 'dhole',\n",
       "       'Afghan hound', 'Angora', 'Indian elephant', 'umbrella', 'meerkat',\n",
       "       'beagle', 'vizsla', 'Boston bull', 'window screen', 'whippet',\n",
       "       'collie', 'Welsh springer spaniel', 'Italian greyhound',\n",
       "       'Saint Bernard', 'Pembroke', 'Staffordshire bullterrier',\n",
       "       'miniature poodle', 'black-and-tan coonhound', 'bloodhound',\n",
       "       'Sussex spaniel', 'golden retriever', 'briard', 'macaque',\n",
       "       'sandbar', 'Appenzeller', 'envelope', 'kuvasz', 'groenendael',\n",
       "       'lakeside', 'Airedale', 'studio couch', 'oxygen mask',\n",
       "       'toy poodle', 'dock', 'gorilla', 'projectile', 'Siamese cat',\n",
       "       'Tibetan terrier', 'Doberman', 'beach wagon', 'otterhound',\n",
       "       'Brabancon griffon', 'dumbbell', 'dishwasher',\n",
       "       'Bernese mountain dog', 'menu', 'seat belt', 'bull mastiff',\n",
       "       'Maltese dog', 'kelpie', 'crossword puzzle', 'prison',\n",
       "       'American black bear', 'Newfoundland', 'Ibizan hound', 'mink',\n",
       "       'Greater Swiss Mountain dog', 'papillon', 'Leonberg',\n",
       "       'flat-coated retriever', 'chow', 'racket', 'bucket', 'soccer ball',\n",
       "       'bow tie', 'Saluki', 'Blenheim spaniel', 'rule', 'cocker spaniel',\n",
       "       'cup', 'doormat', 'can opener', 'keeshond', 'shopping basket',\n",
       "       'academic gown', 'jaguar', 'sliding door', 'ice bear',\n",
       "       'white wolf', 'muzzle', 'Border terrier',\n",
       "       'soft-coated wheaten terrier', 'Norwegian elkhound', 'bison',\n",
       "       'sleeping bag', 'German short-haired pointer', 'marmot',\n",
       "       'Great Dane', 'Brittany spaniel', 'dalmatian', 'Mexican hairless',\n",
       "       'jigsaw puzzle', 'curly-coated retriever', 'snorkel',\n",
       "       'German shepherd', 'tub', 'Norfolk terrier', 'Samoyed', 'cab',\n",
       "       'shower curtain', 'toilet seat', 'basenji', 'palace', 'toyshop',\n",
       "       'web site', 'pillow', 'house finch', 'barrel',\n",
       "       'entertainment center', 'television', 'Dandie Dinmont',\n",
       "       'English setter', 'punching bag', 'cairn', 'harvester',\n",
       "       'bath towel', 'fountain', 'Bedlington terrier', 'Walker hound',\n",
       "       'Lakeland terrier', 'bluetick', 'saltshaker', 'lighter',\n",
       "       'basketball', 'silky terrier', 'swab', 'EntleBucher', 'bathtub',\n",
       "       'cougar', 'oscilloscope', 'minivan', 'Persian cat', 'schipperke',\n",
       "       'sea urchin', 'cradle', 'binoculars', 'Shetland sheepdog',\n",
       "       'dining table', 'necklace', 'mongoose', 'cash machine', 'basset',\n",
       "       'black widow', 'ox', 'hand-held computer', 'fur coat',\n",
       "       'Yorkshire terrier', 'skunk', 'maillot', 'ram', 'cliff',\n",
       "       'boathouse', 'jean', 'standard poodle', 'Madagascar cat', 'canoe',\n",
       "       'killer whale', 'Lhasa', 'dam', 'confectionery', 'bathing cap',\n",
       "       'Old English sheepdog', 'laptop', 'wallet', 'volcano', 'printer',\n",
       "       'crutch', 'monitor', 'teddy', 'lesser panda', 'llama',\n",
       "       'West Highland white terrier', 'sunglasses',\n",
       "       'wire-haired fox terrier', 'great white shark', 'plow', 'shovel',\n",
       "       'Weimaraner', 'dingo', 'barbershop', 'dugong', 'timber wolf',\n",
       "       'guinea pig', 'hog', 'sunglass', 'comic book', 'swing',\n",
       "       'Windsor tie', 'wig', 'table lamp', 'English foxhound', 'gibbon',\n",
       "       'solar dish', 'goose', 'four-poster', 'feather boa',\n",
       "       'computer keyboard', 'beaver', 'breakwater', 'chain mail',\n",
       "       'china cabinet', 'patio', 'Arabian camel', 'sock', 'badger',\n",
       "       'washbasin', 'lawn mower', 'window shade', 'hatchet', 'carton',\n",
       "       'minibus', 'screw', 'weasel', 'coffee mug', 'loggerhead',\n",
       "       'sombrero', 'handkerchief', 'Rottweiler', 'giant panda',\n",
       "       'Gila monster', 'quilt', 'hamster', 'turnstile', 'wombat',\n",
       "       'Scotch terrier', 'tree frog', 'peacock', 'banded gecko', 'shoji',\n",
       "       'paper towel', 'Christmas stocking', 'spatula', 'Arctic fox',\n",
       "       'grey fox', 'neck brace', 'seashore', 'radiator', 'hyena', 'koala',\n",
       "       'moped', 'mashed potato', 'assault rifle', 'affenpinscher',\n",
       "       'red fox', 'pier', 'horse cart', 'quail', 'medicine chest',\n",
       "       'hotdog', 'Irish wolfhound', 'common newt', 'tennis ball', 'stove',\n",
       "       'triceratops', 'spindle', 'black-footed ferret', 'orange', 'torch',\n",
       "       'paddle', 'chimpanzee', 'tailed frog', 'rifle', 'hen', 'cloak',\n",
       "       'mask', 'apron', 'hay', 'cannon', 'hair slide', 'bannister',\n",
       "       'Australian terrier', 'streetcar', 'snowmobile', 'crib', 'junco',\n",
       "       'trench coat', 'folding chair', 'Japanese spaniel', 'polecat',\n",
       "       'water buffalo', 'leafhopper', 'sandal', 'hare',\n",
       "       'miniature schnauzer', 'bakery', 'terrapin', 'mailbox',\n",
       "       'rotisserie', 'quill', 'space heater', 'sarong', 'promontory',\n",
       "       'nail', 'American alligator', 'goldfish', 'mosquito net',\n",
       "       'ice lolly', 'Kerry blue terrier', 'bearskin', 'rhinoceros beetle',\n",
       "       'prayer rug', 'ashcan', 'Sealyham terrier', 'corn', 'warthog',\n",
       "       'brown bear', 'bighorn', 'bobsled', 'stingray', 'lifeboat',\n",
       "       'cockroach', 'grey whale', 'crate', 'shopping cart', 'toucan',\n",
       "       'platypus', 'water bottle', 'cock', 'tick', 'snail', 'tiger',\n",
       "       'rain barrel', 'wood rabbit', 'accordion', 'coral fungus',\n",
       "       'tarantula', 'sulphur butterfly', 'tabby', 'home theater',\n",
       "       'siamang', 'indri', 'European gallinule', 'giant schnauzer',\n",
       "       'cardigan', 'porcupine', 'spotted salamander', 'birdhouse', 'slug',\n",
       "       'tray', 'hair spray', 'lampshade', 'pickup', 'breastplate',\n",
       "       'police van', 'bib', 'waffle iron', 'coral reef', 'knee pad',\n",
       "       'frilled lizard', 'toaster', 'pelican', 'bow', 'hamper', 'cornet',\n",
       "       'cowboy boot', 'wallaby', 'hummingbird', 'spotlight', 'drake',\n",
       "       'African hunting dog', 'chain saw', 'armadillo',\n",
       "       'standard schnauzer', 'barracouta', 'otter', 'desk', 'komondor',\n",
       "       'mud turtle'], dtype=object)"
      ]
     },
     "execution_count": 61,
     "metadata": {},
     "output_type": "execute_result"
    }
   ],
   "source": [
    "df_clean.p2.unique()"
   ]
  },
  {
   "cell_type": "code",
   "execution_count": 62,
   "metadata": {},
   "outputs": [
    {
     "data": {
      "text/plain": [
       "array(['banana', 'papillon', 'kelpie', 'spatula',\n",
       "       'German short-haired pointer', 'Indian elephant', 'ice lolly',\n",
       "       'Pembroke', 'Chesapeake Bay retriever', 'Chihuahua', 'chow',\n",
       "       'muzzle', 'basenji', 'Staffordshire bullterrier', 'redbone',\n",
       "       'Saluki', 'Labrador retriever', 'English setter', 'malamute',\n",
       "       'bull mastiff', 'Weimaraner', 'shopping cart', 'beagle',\n",
       "       'can opener', 'Dandie Dinmont', 'car wheel', 'Boston bull',\n",
       "       'Siamese cat', 'Bernese mountain dog', 'kuvasz', 'Eskimo dog',\n",
       "       'Norfolk terrier', 'Brabancon griffon', 'Norwegian elkhound',\n",
       "       'Newfoundland', 'dingo', 'flat-coated retriever', 'Cardigan',\n",
       "       'cocker spaniel', 'golden retriever', 'koala', 'Persian cat',\n",
       "       'ibex', 'traffic light', 'clumber', 'bath towel', 'Egyptian cat',\n",
       "       'American Staffordshire terrier', 'Ibizan hound', 'Appenzeller',\n",
       "       'toy terrier', 'bathtub', 'Tibetan mastiff',\n",
       "       'Greater Swiss Mountain dog', 'vizsla', 'Great Pyrenees',\n",
       "       'toy poodle', 'standard poodle', 'dalmatian', 'Pomeranian',\n",
       "       'bloodhound', 'swab', 'television', 'EntleBucher', 'book jacket',\n",
       "       'printer', 'Saint Bernard', 'collie', 'curly-coated retriever',\n",
       "       'pug', 'keeshond', 'wreck', 'weasel', 'Siberian husky', 'teddy',\n",
       "       'boxer', 'German shepherd', 'barber chair', 'Pekinese',\n",
       "       'French bulldog', 'Bouvier des Flandres', 'Lakeland terrier',\n",
       "       'canoe', 'orangutan', 'hog', 'fountain', 'doormat', 'groenendael',\n",
       "       'Japanese spaniel', 'bluetick', 'Border collie', 'Rottweiler',\n",
       "       'convertible', 'English foxhound', 'Sussex spaniel', 'go-kart',\n",
       "       'file', 'crossword puzzle', 'Shih-Tzu', 'malinois', 'bonnet',\n",
       "       'restaurant', 'sundial', 'wallaby', 'otter', 'white wolf',\n",
       "       'West Highland white terrier', 'Shetland sheepdog', 'schipperke',\n",
       "       'envelope', 'coffeepot', 'Yorkshire terrier', 'carton',\n",
       "       'seat belt', 'snow leopard', 'grand piano', 'Gordon setter',\n",
       "       'meerkat', 'Irish terrier', 'water buffalo', 'Italian greyhound',\n",
       "       'grey fox', 'Leonberg', 'guinea pig', 'gibbon', 'conch', 'polecat',\n",
       "       'boathouse', 'tennis ball', 'cougar',\n",
       "       'soft-coated wheaten terrier', 'mousetrap',\n",
       "       'black-and-tan coonhound', 'Airedale', 'Irish setter',\n",
       "       'Norwich terrier', 'Maltese dog', 'Arctic fox',\n",
       "       'miniature pinscher', 'Samoyed', 'crane', 'tub', 'Doberman',\n",
       "       'umbrella', 'Tibetan terrier', 'grocery store', 'bow',\n",
       "       'standard schnauzer', 'Irish water spaniel', 'nail', 'otterhound',\n",
       "       'paper towel', 'bubble', 'Great Dane', 'wire-haired fox terrier',\n",
       "       'Border terrier', 'miniature poodle', 'English springer',\n",
       "       'Welsh springer spaniel', 'guillotine', 'entertainment center',\n",
       "       'Rhodesian ridgeback', 'Christmas stocking', 'barbell',\n",
       "       'Australian terrier', 'swing', 'brass', 'Kerry blue terrier',\n",
       "       'switch', 'jigsaw puzzle', 'Brittany spaniel', 'limousine',\n",
       "       'echidna', 'three-toed sloth', 'Lhasa', 'microwave', 'chain',\n",
       "       'hatchet', 'maze', 'paintbrush', 'paddlewheel', 'menu',\n",
       "       'rhinoceros beetle', 'shopping basket', 'wombat', 'soccer ball',\n",
       "       'macaque', 'whippet', 'cheetah', 'lakeside', 'pier', 'basset',\n",
       "       'dhole', 'theater curtain', 'pool table', 'borzoi', 'sea lion',\n",
       "       'briard', 'maraca', 'komondor', 'notebook', 'Walker hound', 'wool',\n",
       "       'tiger cat', 'sliding door', 'shower curtain', 'rapeseed',\n",
       "       'tripod', 'Scottish deerhound', 'titi', 'refrigerator',\n",
       "       'croquet ball', 'sombrero', 'sunglass', 'Blenheim spaniel',\n",
       "       'buckeye', 'scuba diver', 'oxcart', 'mountain tent', 'ballplayer',\n",
       "       'rain barrel', 'space shuttle', 'affenpinscher', 'minibus', 'wok',\n",
       "       'ice bear', 'warthog', 'hippopotamus', 'snorkel',\n",
       "       'desktop computer', 'parachute', 'barrow', 'mushroom',\n",
       "       'park bench', 'valley', 'consomme', 'fur coat', 'quilt',\n",
       "       'Old English sheepdog', 'mouse', 'mongoose', 'king penguin',\n",
       "       'toilet seat', 'passenger car', 'prison', 'coyote', 'bannister',\n",
       "       'rotisserie', 'sandbar', 'bucket', 'feather boa', 'hand blower',\n",
       "       'giant schnauzer', 'American black bear', 'viaduct',\n",
       "       'toilet tissue', 'cairn', 'chime', 'cab', 'padlock',\n",
       "       'black-footed ferret', 'Irish wolfhound', 'pizza', 'cup',\n",
       "       'neck brace', 'lumbermill', 'washbasin', 'pillow', 'golfcart',\n",
       "       'Mexican hairless', 'mitten', 'wood rabbit', 'beaver',\n",
       "       'silky terrier', 'soap dispenser', 'bullfrog', 'Angora', 'binder',\n",
       "       'eel', 'dugong', 'common iguana', 'shower cap', 'sunglasses',\n",
       "       'vacuum', 'Afghan hound', 'marmot', 'pretzel', 'box turtle',\n",
       "       'bow tie', 'Arabian camel', 'beacon', 'pickup', 'goose', 'rifle',\n",
       "       'bell cote', 'hamster', 'shoji', 'hare', 'rock crab', 'bagel',\n",
       "       'whiptail', 'racket', 'hand-held computer', 'lion', 'agama',\n",
       "       'jaguar', 'wild boar', 'miniature schnauzer', 'loupe', 'cliff',\n",
       "       'toyshop', 'mask', 'pot', 'axolotl', 'assault rifle', 'ox',\n",
       "       'ski mask', 'electric fan', 'abaya', 'wallet', 'ashcan', 'zebra',\n",
       "       'cuirass', 'squirrel monkey', 'mosquito net', 'chest', 'cloak',\n",
       "       'parallel bars', 'purse', 'green lizard', 'space heater',\n",
       "       'broccoli', 'greenhouse', 'Sealyham terrier', 'French loaf',\n",
       "       'loggerhead', 'joystick', 'kimono', 'screw', 'mink', 'coral reef',\n",
       "       'leafhopper', 'European fire salamander', 'quill', 'Windsor tie',\n",
       "       'shovel', 'pajama', 'bison', 'crayfish', 'moped', 'nipple',\n",
       "       'seashore', 'sea cucumber', 'bassinet', 'giant panda', 'llama',\n",
       "       'hammerhead', 'chimpanzee', 'chickadee', 'bookcase',\n",
       "       'steam locomotive', 'bib', 'poncho', 'cowboy boot', 'black swan',\n",
       "       'snail', 'bathing cap', 'red wolf', 'prairie chicken',\n",
       "       'swimming trunks', 'plastic bag', 'hen', 'drumstick', 'stinkhorn',\n",
       "       'wolf spider', 'brown bear', 'gorilla', 'common newt',\n",
       "       'window screen', 'bolete', 'wig', 'cardoon', 'wing', 'plunger',\n",
       "       'beach wagon', 'bulletproof vest', 'jersey', 'goldfish',\n",
       "       'balance beam', 'ram', 'panpipe', 'badger', 'French horn',\n",
       "       'Band Aid', 'terrapin', 'triceratops', 'African chameleon',\n",
       "       'African grey', 'jeep', 'lampshade', 'acorn', 'power drill', 'gar',\n",
       "       'great grey owl', 'partridge'], dtype=object)"
      ]
     },
     "execution_count": 62,
     "metadata": {},
     "output_type": "execute_result"
    }
   ],
   "source": [
    "df_clean.p3.unique()"
   ]
  },
  {
   "cell_type": "code",
   "execution_count": 63,
   "metadata": {},
   "outputs": [
    {
     "data": {
      "text/plain": [
       "golden retriever       139\n",
       "Labrador retriever      93\n",
       "Pembroke                88\n",
       "Chihuahua               79\n",
       "pug                     54\n",
       "                      ... \n",
       "peacock                  1\n",
       "polecat                  1\n",
       "beach wagon              1\n",
       "crash helmet             1\n",
       "American black bear      1\n",
       "Name: p1, Length: 374, dtype: int64"
      ]
     },
     "execution_count": 63,
     "metadata": {},
     "output_type": "execute_result"
    }
   ],
   "source": [
    "df_clean.p1.value_counts()"
   ]
  },
  {
   "cell_type": "markdown",
   "metadata": {},
   "source": [
    "<a id='storing'></a>\n",
    "## Storing\n"
   ]
  },
  {
   "cell_type": "code",
   "execution_count": 64,
   "metadata": {},
   "outputs": [],
   "source": [
    "# Storing the new df_clean df to a new csv file\n",
    "df_clean.to_csv('twitter_archive_master.csv', encoding='utf-8', index=False)"
   ]
  },
  {
   "cell_type": "markdown",
   "metadata": {},
   "source": [
    "<a id='analizing'></a>\n",
    "## Analyze and Visualize"
   ]
  },
  {
   "cell_type": "code",
   "execution_count": 65,
   "metadata": {},
   "outputs": [],
   "source": [
    "df_master = pd.read_csv('twitter_archive_master.csv')"
   ]
  },
  {
   "cell_type": "code",
   "execution_count": 66,
   "metadata": {},
   "outputs": [
    {
     "data": {
      "text/html": [
       "<div>\n",
       "<style scoped>\n",
       "    .dataframe tbody tr th:only-of-type {\n",
       "        vertical-align: middle;\n",
       "    }\n",
       "\n",
       "    .dataframe tbody tr th {\n",
       "        vertical-align: top;\n",
       "    }\n",
       "\n",
       "    .dataframe thead th {\n",
       "        text-align: right;\n",
       "    }\n",
       "</style>\n",
       "<table border=\"1\" class=\"dataframe\">\n",
       "  <thead>\n",
       "    <tr style=\"text-align: right;\">\n",
       "      <th></th>\n",
       "      <th>tweet_id</th>\n",
       "      <th>rating_numerator</th>\n",
       "      <th>rating_denominator</th>\n",
       "      <th>p1_conf</th>\n",
       "      <th>p2_conf</th>\n",
       "      <th>p3_conf</th>\n",
       "      <th>favorite_count</th>\n",
       "      <th>retweet_count</th>\n",
       "    </tr>\n",
       "  </thead>\n",
       "  <tbody>\n",
       "    <tr>\n",
       "      <th>count</th>\n",
       "      <td>1.987000e+03</td>\n",
       "      <td>1987.000000</td>\n",
       "      <td>1987.000000</td>\n",
       "      <td>1987.000000</td>\n",
       "      <td>1.987000e+03</td>\n",
       "      <td>1.987000e+03</td>\n",
       "      <td>1987.000000</td>\n",
       "      <td>1987.000000</td>\n",
       "    </tr>\n",
       "    <tr>\n",
       "      <th>mean</th>\n",
       "      <td>7.356264e+17</td>\n",
       "      <td>12.236930</td>\n",
       "      <td>10.533971</td>\n",
       "      <td>0.593317</td>\n",
       "      <td>1.344725e-01</td>\n",
       "      <td>6.037114e-02</td>\n",
       "      <td>8274.142426</td>\n",
       "      <td>2456.387519</td>\n",
       "    </tr>\n",
       "    <tr>\n",
       "      <th>std</th>\n",
       "      <td>6.739210e+16</td>\n",
       "      <td>41.544174</td>\n",
       "      <td>7.333532</td>\n",
       "      <td>0.271959</td>\n",
       "      <td>1.005706e-01</td>\n",
       "      <td>5.091543e-02</td>\n",
       "      <td>12180.006281</td>\n",
       "      <td>4394.624168</td>\n",
       "    </tr>\n",
       "    <tr>\n",
       "      <th>min</th>\n",
       "      <td>6.660209e+17</td>\n",
       "      <td>0.000000</td>\n",
       "      <td>2.000000</td>\n",
       "      <td>0.044333</td>\n",
       "      <td>1.011300e-08</td>\n",
       "      <td>1.740170e-10</td>\n",
       "      <td>70.000000</td>\n",
       "      <td>11.000000</td>\n",
       "    </tr>\n",
       "    <tr>\n",
       "      <th>25%</th>\n",
       "      <td>6.758218e+17</td>\n",
       "      <td>10.000000</td>\n",
       "      <td>10.000000</td>\n",
       "      <td>0.361531</td>\n",
       "      <td>5.409535e-02</td>\n",
       "      <td>1.624950e-02</td>\n",
       "      <td>1776.500000</td>\n",
       "      <td>549.000000</td>\n",
       "    </tr>\n",
       "    <tr>\n",
       "      <th>50%</th>\n",
       "      <td>7.083495e+17</td>\n",
       "      <td>11.000000</td>\n",
       "      <td>10.000000</td>\n",
       "      <td>0.587342</td>\n",
       "      <td>1.175080e-01</td>\n",
       "      <td>4.953060e-02</td>\n",
       "      <td>3740.000000</td>\n",
       "      <td>1192.000000</td>\n",
       "    </tr>\n",
       "    <tr>\n",
       "      <th>75%</th>\n",
       "      <td>7.873602e+17</td>\n",
       "      <td>12.000000</td>\n",
       "      <td>10.000000</td>\n",
       "      <td>0.844583</td>\n",
       "      <td>1.950575e-01</td>\n",
       "      <td>9.180755e-02</td>\n",
       "      <td>10290.000000</td>\n",
       "      <td>2792.500000</td>\n",
       "    </tr>\n",
       "    <tr>\n",
       "      <th>max</th>\n",
       "      <td>8.924206e+17</td>\n",
       "      <td>1776.000000</td>\n",
       "      <td>170.000000</td>\n",
       "      <td>1.000000</td>\n",
       "      <td>4.880140e-01</td>\n",
       "      <td>2.734190e-01</td>\n",
       "      <td>156264.000000</td>\n",
       "      <td>77829.000000</td>\n",
       "    </tr>\n",
       "  </tbody>\n",
       "</table>\n",
       "</div>"
      ],
      "text/plain": [
       "           tweet_id  rating_numerator  rating_denominator      p1_conf  \\\n",
       "count  1.987000e+03       1987.000000         1987.000000  1987.000000   \n",
       "mean   7.356264e+17         12.236930           10.533971     0.593317   \n",
       "std    6.739210e+16         41.544174            7.333532     0.271959   \n",
       "min    6.660209e+17          0.000000            2.000000     0.044333   \n",
       "25%    6.758218e+17         10.000000           10.000000     0.361531   \n",
       "50%    7.083495e+17         11.000000           10.000000     0.587342   \n",
       "75%    7.873602e+17         12.000000           10.000000     0.844583   \n",
       "max    8.924206e+17       1776.000000          170.000000     1.000000   \n",
       "\n",
       "            p2_conf       p3_conf  favorite_count  retweet_count  \n",
       "count  1.987000e+03  1.987000e+03     1987.000000    1987.000000  \n",
       "mean   1.344725e-01  6.037114e-02     8274.142426    2456.387519  \n",
       "std    1.005706e-01  5.091543e-02    12180.006281    4394.624168  \n",
       "min    1.011300e-08  1.740170e-10       70.000000      11.000000  \n",
       "25%    5.409535e-02  1.624950e-02     1776.500000     549.000000  \n",
       "50%    1.175080e-01  4.953060e-02     3740.000000    1192.000000  \n",
       "75%    1.950575e-01  9.180755e-02    10290.000000    2792.500000  \n",
       "max    4.880140e-01  2.734190e-01   156264.000000   77829.000000  "
      ]
     },
     "execution_count": 66,
     "metadata": {},
     "output_type": "execute_result"
    }
   ],
   "source": [
    "df_master.describe()"
   ]
  },
  {
   "cell_type": "markdown",
   "metadata": {},
   "source": [
    "Looking for the above table, we can see that WeRateDogs account tweets have on average 2456 retweets and have been favorited 8274 times! "
   ]
  },
  {
   "cell_type": "markdown",
   "metadata": {},
   "source": [
    "Is there a correlation between favorited and retweeted text? "
   ]
  },
  {
   "cell_type": "code",
   "execution_count": 67,
   "metadata": {},
   "outputs": [
    {
     "data": {
      "text/html": [
       "<table class=\"simpletable\">\n",
       "<caption>OLS Regression Results</caption>\n",
       "<tr>\n",
       "  <th>Dep. Variable:</th>      <td>retweet_count</td>  <th>  R-squared:         </th> <td>   0.863</td> \n",
       "</tr>\n",
       "<tr>\n",
       "  <th>Model:</th>                   <td>OLS</td>       <th>  Adj. R-squared:    </th> <td>   0.863</td> \n",
       "</tr>\n",
       "<tr>\n",
       "  <th>Method:</th>             <td>Least Squares</td>  <th>  F-statistic:       </th> <td>1.252e+04</td>\n",
       "</tr>\n",
       "<tr>\n",
       "  <th>Date:</th>             <td>Fri, 29 May 2020</td> <th>  Prob (F-statistic):</th>  <td>  0.00</td>  \n",
       "</tr>\n",
       "<tr>\n",
       "  <th>Time:</th>                 <td>15:53:27</td>     <th>  Log-Likelihood:    </th> <td> -17510.</td> \n",
       "</tr>\n",
       "<tr>\n",
       "  <th>No. Observations:</th>      <td>  1987</td>      <th>  AIC:               </th> <td>3.502e+04</td>\n",
       "</tr>\n",
       "<tr>\n",
       "  <th>Df Residuals:</th>          <td>  1985</td>      <th>  BIC:               </th> <td>3.504e+04</td>\n",
       "</tr>\n",
       "<tr>\n",
       "  <th>Df Model:</th>              <td>     1</td>      <th>                     </th>     <td> </td>    \n",
       "</tr>\n",
       "<tr>\n",
       "  <th>Covariance Type:</th>      <td>nonrobust</td>    <th>                     </th>     <td> </td>    \n",
       "</tr>\n",
       "</table>\n",
       "<table class=\"simpletable\">\n",
       "<tr>\n",
       "         <td></td>           <th>coef</th>     <th>std err</th>      <th>t</th>      <th>P>|t|</th>  <th>[0.025</th>    <th>0.975]</th>  \n",
       "</tr>\n",
       "<tr>\n",
       "  <th>intercept</th>      <td> -317.2287</td> <td>   44.101</td> <td>   -7.193</td> <td> 0.000</td> <td> -403.718</td> <td> -230.740</td>\n",
       "</tr>\n",
       "<tr>\n",
       "  <th>favorite_count</th> <td>    0.3352</td> <td>    0.003</td> <td>  111.904</td> <td> 0.000</td> <td>    0.329</td> <td>    0.341</td>\n",
       "</tr>\n",
       "</table>\n",
       "<table class=\"simpletable\">\n",
       "<tr>\n",
       "  <th>Omnibus:</th>       <td>1788.792</td> <th>  Durbin-Watson:     </th>  <td>   1.251</td> \n",
       "</tr>\n",
       "<tr>\n",
       "  <th>Prob(Omnibus):</th>  <td> 0.000</td>  <th>  Jarque-Bera (JB):  </th> <td>242109.199</td>\n",
       "</tr>\n",
       "<tr>\n",
       "  <th>Skew:</th>           <td> 3.681</td>  <th>  Prob(JB):          </th>  <td>    0.00</td> \n",
       "</tr>\n",
       "<tr>\n",
       "  <th>Kurtosis:</th>       <td>56.574</td>  <th>  Cond. No.          </th>  <td>1.78e+04</td> \n",
       "</tr>\n",
       "</table><br/><br/>Warnings:<br/>[1] Standard Errors assume that the covariance matrix of the errors is correctly specified.<br/>[2] The condition number is large, 1.78e+04. This might indicate that there are<br/>strong multicollinearity or other numerical problems."
      ],
      "text/plain": [
       "<class 'statsmodels.iolib.summary.Summary'>\n",
       "\"\"\"\n",
       "                            OLS Regression Results                            \n",
       "==============================================================================\n",
       "Dep. Variable:          retweet_count   R-squared:                       0.863\n",
       "Model:                            OLS   Adj. R-squared:                  0.863\n",
       "Method:                 Least Squares   F-statistic:                 1.252e+04\n",
       "Date:                Fri, 29 May 2020   Prob (F-statistic):               0.00\n",
       "Time:                        15:53:27   Log-Likelihood:                -17510.\n",
       "No. Observations:                1987   AIC:                         3.502e+04\n",
       "Df Residuals:                    1985   BIC:                         3.504e+04\n",
       "Df Model:                           1                                         \n",
       "Covariance Type:            nonrobust                                         \n",
       "==================================================================================\n",
       "                     coef    std err          t      P>|t|      [0.025      0.975]\n",
       "----------------------------------------------------------------------------------\n",
       "intercept       -317.2287     44.101     -7.193      0.000    -403.718    -230.740\n",
       "favorite_count     0.3352      0.003    111.904      0.000       0.329       0.341\n",
       "==============================================================================\n",
       "Omnibus:                     1788.792   Durbin-Watson:                   1.251\n",
       "Prob(Omnibus):                  0.000   Jarque-Bera (JB):           242109.199\n",
       "Skew:                           3.681   Prob(JB):                         0.00\n",
       "Kurtosis:                      56.574   Cond. No.                     1.78e+04\n",
       "==============================================================================\n",
       "\n",
       "Warnings:\n",
       "[1] Standard Errors assume that the covariance matrix of the errors is correctly specified.\n",
       "[2] The condition number is large, 1.78e+04. This might indicate that there are\n",
       "strong multicollinearity or other numerical problems.\n",
       "\"\"\""
      ]
     },
     "execution_count": 67,
     "metadata": {},
     "output_type": "execute_result"
    }
   ],
   "source": [
    "df_master['intercept'] = 1\n",
    "\n",
    "lm = sms.OLS(df_master['retweet_count'], df_master[['intercept', 'favorite_count']])\n",
    "results = lm.fit()\n",
    "results.summary()"
   ]
  },
  {
   "cell_type": "markdown",
   "metadata": {},
   "source": [
    " We can see that 86.3% of the variability in retweet count can be explained by the favorite count for WeRateDogs account and The p-value of 0.00 associated with favorite count suggests that it is statistically significant in providing information in predicting the retweet counts."
   ]
  },
  {
   "cell_type": "code",
   "execution_count": 68,
   "metadata": {},
   "outputs": [
    {
     "data": {
      "image/png": "[encoded data removed]",
      "text/plain": [
       "<Figure size 432x288 with 1 Axes>"
      ]
     },
     "metadata": {
      "needs_background": "light"
     },
     "output_type": "display_data"
    }
   ],
   "source": [
    "plt.scatter(df_master['retweet_count'], df_master['favorite_count']);\n",
    "plt.xlabel('Retweet Count');\n",
    "plt.ylabel('Favorite Count');\n",
    "plt.title('Favorite vs. Retweet Count');"
   ]
  },
  {
   "cell_type": "code",
   "execution_count": 69,
   "metadata": {},
   "outputs": [
    {
     "data": {
      "image/png": "[encoded data removed]",
      "text/plain": [
       "<Figure size 432x288 with 1 Axes>"
      ]
     },
     "metadata": {
      "needs_background": "light"
     },
     "output_type": "display_data"
    }
   ],
   "source": [
    "## show the line that was fit\n",
    "\n",
    "xi = arange(0,80000)\n",
    "A = array([ xi, ones(80000)])\n",
    "\n",
    "# (Almost) linear sequence\n",
    "y = df_master['favorite_count']\n",
    "x = df_master['retweet_count']\n",
    "\n",
    "# Generated linear fit\n",
    "slope, intercept, r_value, p_value, std_err = stats.linregress(x,y)\n",
    "line = slope*xi+intercept\n",
    " \n",
    "plt.plot(x, y, 'o', xi, line);\n",
    "plt.xlabel('Retweet Count');\n",
    "plt.ylabel('Favorite Count');\n",
    "pylab.title('Favorite Count vs. Retweet Count');"
   ]
  },
  {
   "cell_type": "code",
   "execution_count": 70,
   "metadata": {},
   "outputs": [
    {
     "data": {
      "image/png": "[encoded data removed]",
      "text/plain": [
       "<Figure size 576x576 with 1 Axes>"
      ]
     },
     "metadata": {
      "needs_background": "light"
     },
     "output_type": "display_data"
    }
   ],
   "source": [
    "#create a horizontal bar plot for most common dog names on WeRateDogs counts without 'none`.\n",
    "df_master.name.value_counts()[1:9].plot(kind = 'barh', figsize=(8,8), title='Dog Names').set_xlabel(\"Number of Dogs\");"
   ]
  },
  {
   "cell_type": "code",
   "execution_count": 71,
   "metadata": {},
   "outputs": [
    {
     "data": {
      "image/png": "[encoded data removed]",
      "text/plain": [
       "<Figure size 576x576 with 1 Axes>"
      ]
     },
     "metadata": {
      "needs_background": "light"
     },
     "output_type": "display_data"
    }
   ],
   "source": [
    "df_master.p1.value_counts()[0:14].plot(kind = 'barh', figsize=(8,8), title='Most predicted bred of dog in first prediction').set_xlabel(\"Number of Dogs\");"
   ]
  },
  {
   "cell_type": "code",
   "execution_count": 72,
   "metadata": {},
   "outputs": [
    {
     "data": {
      "image/png": "[encoded data removed]",
      "text/plain": [
       "<Figure size 576x576 with 1 Axes>"
      ]
     },
     "metadata": {
      "needs_background": "light"
     },
     "output_type": "display_data"
    }
   ],
   "source": [
    "df_master.p2.value_counts()[0:14].plot(kind = 'barh', figsize=(8,8), title='Most predicted bred of dog in second prediction').set_xlabel(\"Number of Dogs\");"
   ]
  },
  {
   "cell_type": "code",
   "execution_count": 73,
   "metadata": {},
   "outputs": [
    {
     "data": {
      "image/png": "[encoded data removed]",
      "text/plain": [
       "<Figure size 576x576 with 1 Axes>"
      ]
     },
     "metadata": {
      "needs_background": "light"
     },
     "output_type": "display_data"
    }
   ],
   "source": [
    "df_master.p3.value_counts()[0:14].plot(kind = 'barh', figsize=(8,8), title='Most predicted bred of dog in third prediction').set_xlabel(\"Number of Dogs\");"
   ]
  }
 ],
 "metadata": {
  "kernelspec": {
   "display_name": "Python 3",
   "language": "python",
   "name": "python3"
  },
  "language_info": {
   "codemirror_mode": {
    "name": "ipython",
    "version": 3
   },
   "file_extension": ".py",
   "mimetype": "text/x-python",
   "name": "python",
   "nbconvert_exporter": "python",
   "pygments_lexer": "ipython3",
   "version": "3.7.7"
  }
 },
 "nbformat": 4,
 "nbformat_minor": 2
}
